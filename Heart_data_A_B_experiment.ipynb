{
  "nbformat": 4,
  "nbformat_minor": 0,
  "metadata": {
    "colab": {
      "name": "Heart_data_A_B_experiment.ipynb",
      "provenance": [],
      "collapsed_sections": [],
      "authorship_tag": "ABX9TyPv/9RI9x+sCqUwigU/byy4",
      "include_colab_link": true
    },
    "kernelspec": {
      "name": "python3",
      "display_name": "Python 3"
    }
  },
  "cells": [
    {
      "cell_type": "markdown",
      "metadata": {
        "id": "view-in-github",
        "colab_type": "text"
      },
      "source": [
        "<a href=\"https://colab.research.google.com/github/djbetancourtr/A_B_experiment-proposal/blob/master/Heart_data_A_B_experiment.ipynb\" target=\"_parent\"><img src=\"https://colab.research.google.com/assets/colab-badge.svg\" alt=\"Open In Colab\"/></a>"
      ]
    },
    {
      "cell_type": "markdown",
      "metadata": {
        "id": "Xwq5GBmDwB2w"
      },
      "source": [
        "# Heart Disease Databases\n",
        "\n",
        "This database contains 76 attributes, but all published experiments\n",
        "     refer to using a subset of 14 of them.  In particular, the Cleveland\n",
        "     database is the only one that has been used by ML researchers to \n",
        "     this date.  The \"goal\" field refers to the presence of heart disease\n",
        "     in the patient.  It is integer valued from 0 (no presence) to 4.\n",
        "     Experiments with the Cleveland database have concentrated on simply\n",
        "     attempting to distinguish presence (values 1,2,3,4) from absence (value\n",
        "     0).\n",
        "\n",
        "Columns Information:\n",
        " 1. age: Age of the patient in years       \n",
        " 2. gender: Gender of the patient  (1 = male; 0 = female)     \n",
        " 3. cp: Chest pain type\n",
        "  - Value 1: typical angina\n",
        "  - Value 2: atypical angina\n",
        "  - Value 3: non-anginal pain\n",
        "  - Value 4: asymptomatic        \n",
        " 4. trestbps: Resting blood pressure (in mmHG on admission to the hospital)\n",
        " 5. chol: Serum cholesterol in mmHG on admission to the hospital      \n",
        " 6. fbs: Fasting blood sugar > 120 mg/dl  (1 = true; 0 = false)     \n",
        " 7. restecg: Resting electrocardiographic results\n",
        "  - Value 0: normal\n",
        "  - Value 1: having ST-T wave abnormality (T wave inversions and/or ST elevation or depression of > 0.05 mV)\n",
        "  - Value 2: showing probable or definite left ventricular hypertrophy by Estes' criteria\n",
        " 8. thalach: Maximum heart rate achieved \n",
        " 9. exang: Exercise induced angina (1 = yes; 0 = no)   \n",
        " 10. oldpeak: ST depression induced by exercise relative to rest  \n",
        " 11. slope: the slope of the peak exercise ST segment\n",
        "  - Value 1: upsloping\n",
        "  - Value 2: flat\n",
        "  - Value 3: downsloping     \n",
        " 12. ca:   number of major vessels (0-3) colored by flourosopy     \n",
        " 3. thal: Thallium tracer injection https://www.healthline.com/health/thallium-stress-test\n",
        "  - Value 0: Null\n",
        "  - Value 3: normal\n",
        "  - Value 6: fixed defect\n",
        "  - Value 7: reversable defect    \n",
        " 14. num:   diagnosis of heart disease (angiographic disease status)\n",
        "  - Value 0: < 50% diameter narrowing\n",
        "  - Value 1: > 50% diameter narrowing"
      ]
    },
    {
      "cell_type": "code",
      "metadata": {
        "id": "Q-v6TCMO3xZS"
      },
      "source": [
        "# install this library\n",
        "!pip install -U -q PyDrive"
      ],
      "execution_count": null,
      "outputs": []
    },
    {
      "cell_type": "code",
      "metadata": {
        "id": "XQyMWG0a3yZq"
      },
      "source": [
        "from pydrive.auth import GoogleAuth\n",
        "from pydrive.drive import GoogleDrive\n",
        "from google.colab import auth\n",
        "from oauth2client.client import GoogleCredentials\n",
        "\n",
        "# Authenticate and create the PyDrive client.\n",
        "\n",
        "auth.authenticate_user()\n",
        "gauth = GoogleAuth()\n",
        "gauth.credentials = GoogleCredentials.get_application_default()\n",
        "drive = GoogleDrive(gauth)"
      ],
      "execution_count": null,
      "outputs": []
    },
    {
      "cell_type": "code",
      "metadata": {
        "id": "JJYAMTtJ32PB",
        "colab": {
          "base_uri": "https://localhost:8080/",
          "height": 128
        },
        "outputId": "38fb4649-b31b-4235-837e-e413cbadbbfe"
      },
      "source": [
        "from google.colab import drive\n",
        "drive.mount('/content/drive')"
      ],
      "execution_count": null,
      "outputs": [
        {
          "output_type": "stream",
          "text": [
            "Go to this URL in a browser: https://accounts.google.com/o/oauth2/auth?client_id=947318989803-6bn6qk8qdgf4n4g3pfee6491hc0brc4i.apps.googleusercontent.com&redirect_uri=urn%3aietf%3awg%3aoauth%3a2.0%3aoob&response_type=code&scope=email%20https%3a%2f%2fwww.googleapis.com%2fauth%2fdocs.test%20https%3a%2f%2fwww.googleapis.com%2fauth%2fdrive%20https%3a%2f%2fwww.googleapis.com%2fauth%2fdrive.photos.readonly%20https%3a%2f%2fwww.googleapis.com%2fauth%2fpeopleapi.readonly\n",
            "\n",
            "Enter your authorization code:\n",
            "··········\n",
            "Mounted at /content/drive\n"
          ],
          "name": "stdout"
        }
      ]
    },
    {
      "cell_type": "code",
      "metadata": {
        "id": "oKOgkuXg0q1d"
      },
      "source": [
        "# Importing libraries\n",
        "%matplotlib inline\n",
        "import math\n",
        "import pandas as pd\n",
        "import numpy as np\n",
        "import seaborn as sns\n",
        "from matplotlib import pyplot as plt\n",
        "from scipy import stats"
      ],
      "execution_count": null,
      "outputs": []
    },
    {
      "cell_type": "code",
      "metadata": {
        "id": "Jd5mmtqv0sv5",
        "colab": {
          "base_uri": "https://localhost:8080/",
          "height": 1000
        },
        "outputId": "cad1595b-33f3-4516-c708-f9a8f3bbcdce"
      },
      "source": [
        "# reading and visualizing the dataset\n",
        "\n",
        "heart_data = pd.read_csv('/content/drive/My Drive/processed.cleveland.csv')\n",
        "heart_data.info()\n",
        "heart_data.head(20)"
      ],
      "execution_count": null,
      "outputs": [
        {
          "output_type": "stream",
          "text": [
            "<class 'pandas.core.frame.DataFrame'>\n",
            "RangeIndex: 303 entries, 0 to 302\n",
            "Data columns (total 14 columns):\n",
            " #   Column    Non-Null Count  Dtype  \n",
            "---  ------    --------------  -----  \n",
            " 0   age       303 non-null    int64  \n",
            " 1   gender    303 non-null    int64  \n",
            " 2   cp        303 non-null    int64  \n",
            " 3   trestbps  303 non-null    int64  \n",
            " 4   chol      303 non-null    int64  \n",
            " 5   fbs       303 non-null    int64  \n",
            " 6   restecg   303 non-null    int64  \n",
            " 7   thalach   303 non-null    int64  \n",
            " 8   exang     303 non-null    int64  \n",
            " 9   oldpeak   303 non-null    float64\n",
            " 10  slope     303 non-null    int64  \n",
            " 11  ca        303 non-null    object \n",
            " 12  thal      303 non-null    object \n",
            " 13  num       303 non-null    int64  \n",
            "dtypes: float64(1), int64(11), object(2)\n",
            "memory usage: 33.3+ KB\n"
          ],
          "name": "stdout"
        },
        {
          "output_type": "execute_result",
          "data": {
            "text/html": [
              "<div>\n",
              "<style scoped>\n",
              "    .dataframe tbody tr th:only-of-type {\n",
              "        vertical-align: middle;\n",
              "    }\n",
              "\n",
              "    .dataframe tbody tr th {\n",
              "        vertical-align: top;\n",
              "    }\n",
              "\n",
              "    .dataframe thead th {\n",
              "        text-align: right;\n",
              "    }\n",
              "</style>\n",
              "<table border=\"1\" class=\"dataframe\">\n",
              "  <thead>\n",
              "    <tr style=\"text-align: right;\">\n",
              "      <th></th>\n",
              "      <th>age</th>\n",
              "      <th>gender</th>\n",
              "      <th>cp</th>\n",
              "      <th>trestbps</th>\n",
              "      <th>chol</th>\n",
              "      <th>fbs</th>\n",
              "      <th>restecg</th>\n",
              "      <th>thalach</th>\n",
              "      <th>exang</th>\n",
              "      <th>oldpeak</th>\n",
              "      <th>slope</th>\n",
              "      <th>ca</th>\n",
              "      <th>thal</th>\n",
              "      <th>num</th>\n",
              "    </tr>\n",
              "  </thead>\n",
              "  <tbody>\n",
              "    <tr>\n",
              "      <th>0</th>\n",
              "      <td>63</td>\n",
              "      <td>1</td>\n",
              "      <td>1</td>\n",
              "      <td>145</td>\n",
              "      <td>233</td>\n",
              "      <td>1</td>\n",
              "      <td>2</td>\n",
              "      <td>150</td>\n",
              "      <td>0</td>\n",
              "      <td>2.3</td>\n",
              "      <td>3</td>\n",
              "      <td>0</td>\n",
              "      <td>6</td>\n",
              "      <td>0</td>\n",
              "    </tr>\n",
              "    <tr>\n",
              "      <th>1</th>\n",
              "      <td>67</td>\n",
              "      <td>1</td>\n",
              "      <td>4</td>\n",
              "      <td>160</td>\n",
              "      <td>286</td>\n",
              "      <td>0</td>\n",
              "      <td>2</td>\n",
              "      <td>108</td>\n",
              "      <td>1</td>\n",
              "      <td>1.5</td>\n",
              "      <td>2</td>\n",
              "      <td>3</td>\n",
              "      <td>3</td>\n",
              "      <td>2</td>\n",
              "    </tr>\n",
              "    <tr>\n",
              "      <th>2</th>\n",
              "      <td>67</td>\n",
              "      <td>1</td>\n",
              "      <td>4</td>\n",
              "      <td>120</td>\n",
              "      <td>229</td>\n",
              "      <td>0</td>\n",
              "      <td>2</td>\n",
              "      <td>129</td>\n",
              "      <td>1</td>\n",
              "      <td>2.6</td>\n",
              "      <td>2</td>\n",
              "      <td>2</td>\n",
              "      <td>7</td>\n",
              "      <td>1</td>\n",
              "    </tr>\n",
              "    <tr>\n",
              "      <th>3</th>\n",
              "      <td>37</td>\n",
              "      <td>1</td>\n",
              "      <td>3</td>\n",
              "      <td>130</td>\n",
              "      <td>250</td>\n",
              "      <td>0</td>\n",
              "      <td>0</td>\n",
              "      <td>187</td>\n",
              "      <td>0</td>\n",
              "      <td>3.5</td>\n",
              "      <td>3</td>\n",
              "      <td>0</td>\n",
              "      <td>3</td>\n",
              "      <td>0</td>\n",
              "    </tr>\n",
              "    <tr>\n",
              "      <th>4</th>\n",
              "      <td>41</td>\n",
              "      <td>0</td>\n",
              "      <td>2</td>\n",
              "      <td>130</td>\n",
              "      <td>204</td>\n",
              "      <td>0</td>\n",
              "      <td>2</td>\n",
              "      <td>172</td>\n",
              "      <td>0</td>\n",
              "      <td>1.4</td>\n",
              "      <td>1</td>\n",
              "      <td>0</td>\n",
              "      <td>3</td>\n",
              "      <td>0</td>\n",
              "    </tr>\n",
              "    <tr>\n",
              "      <th>5</th>\n",
              "      <td>56</td>\n",
              "      <td>1</td>\n",
              "      <td>2</td>\n",
              "      <td>120</td>\n",
              "      <td>236</td>\n",
              "      <td>0</td>\n",
              "      <td>0</td>\n",
              "      <td>178</td>\n",
              "      <td>0</td>\n",
              "      <td>0.8</td>\n",
              "      <td>1</td>\n",
              "      <td>0</td>\n",
              "      <td>3</td>\n",
              "      <td>0</td>\n",
              "    </tr>\n",
              "    <tr>\n",
              "      <th>6</th>\n",
              "      <td>62</td>\n",
              "      <td>0</td>\n",
              "      <td>4</td>\n",
              "      <td>140</td>\n",
              "      <td>268</td>\n",
              "      <td>0</td>\n",
              "      <td>2</td>\n",
              "      <td>160</td>\n",
              "      <td>0</td>\n",
              "      <td>3.6</td>\n",
              "      <td>3</td>\n",
              "      <td>2</td>\n",
              "      <td>3</td>\n",
              "      <td>3</td>\n",
              "    </tr>\n",
              "    <tr>\n",
              "      <th>7</th>\n",
              "      <td>57</td>\n",
              "      <td>0</td>\n",
              "      <td>4</td>\n",
              "      <td>120</td>\n",
              "      <td>354</td>\n",
              "      <td>0</td>\n",
              "      <td>0</td>\n",
              "      <td>163</td>\n",
              "      <td>1</td>\n",
              "      <td>0.6</td>\n",
              "      <td>1</td>\n",
              "      <td>0</td>\n",
              "      <td>3</td>\n",
              "      <td>0</td>\n",
              "    </tr>\n",
              "    <tr>\n",
              "      <th>8</th>\n",
              "      <td>63</td>\n",
              "      <td>1</td>\n",
              "      <td>4</td>\n",
              "      <td>130</td>\n",
              "      <td>254</td>\n",
              "      <td>0</td>\n",
              "      <td>2</td>\n",
              "      <td>147</td>\n",
              "      <td>0</td>\n",
              "      <td>1.4</td>\n",
              "      <td>2</td>\n",
              "      <td>1</td>\n",
              "      <td>7</td>\n",
              "      <td>2</td>\n",
              "    </tr>\n",
              "    <tr>\n",
              "      <th>9</th>\n",
              "      <td>53</td>\n",
              "      <td>1</td>\n",
              "      <td>4</td>\n",
              "      <td>140</td>\n",
              "      <td>203</td>\n",
              "      <td>1</td>\n",
              "      <td>2</td>\n",
              "      <td>155</td>\n",
              "      <td>1</td>\n",
              "      <td>3.1</td>\n",
              "      <td>3</td>\n",
              "      <td>0</td>\n",
              "      <td>7</td>\n",
              "      <td>1</td>\n",
              "    </tr>\n",
              "    <tr>\n",
              "      <th>10</th>\n",
              "      <td>57</td>\n",
              "      <td>1</td>\n",
              "      <td>4</td>\n",
              "      <td>140</td>\n",
              "      <td>192</td>\n",
              "      <td>0</td>\n",
              "      <td>0</td>\n",
              "      <td>148</td>\n",
              "      <td>0</td>\n",
              "      <td>0.4</td>\n",
              "      <td>2</td>\n",
              "      <td>0</td>\n",
              "      <td>6</td>\n",
              "      <td>0</td>\n",
              "    </tr>\n",
              "    <tr>\n",
              "      <th>11</th>\n",
              "      <td>56</td>\n",
              "      <td>0</td>\n",
              "      <td>2</td>\n",
              "      <td>140</td>\n",
              "      <td>294</td>\n",
              "      <td>0</td>\n",
              "      <td>2</td>\n",
              "      <td>153</td>\n",
              "      <td>0</td>\n",
              "      <td>1.3</td>\n",
              "      <td>2</td>\n",
              "      <td>0</td>\n",
              "      <td>3</td>\n",
              "      <td>0</td>\n",
              "    </tr>\n",
              "    <tr>\n",
              "      <th>12</th>\n",
              "      <td>56</td>\n",
              "      <td>1</td>\n",
              "      <td>3</td>\n",
              "      <td>130</td>\n",
              "      <td>256</td>\n",
              "      <td>1</td>\n",
              "      <td>2</td>\n",
              "      <td>142</td>\n",
              "      <td>1</td>\n",
              "      <td>0.6</td>\n",
              "      <td>2</td>\n",
              "      <td>1</td>\n",
              "      <td>6</td>\n",
              "      <td>2</td>\n",
              "    </tr>\n",
              "    <tr>\n",
              "      <th>13</th>\n",
              "      <td>44</td>\n",
              "      <td>1</td>\n",
              "      <td>2</td>\n",
              "      <td>120</td>\n",
              "      <td>263</td>\n",
              "      <td>0</td>\n",
              "      <td>0</td>\n",
              "      <td>173</td>\n",
              "      <td>0</td>\n",
              "      <td>0.0</td>\n",
              "      <td>1</td>\n",
              "      <td>0</td>\n",
              "      <td>7</td>\n",
              "      <td>0</td>\n",
              "    </tr>\n",
              "    <tr>\n",
              "      <th>14</th>\n",
              "      <td>52</td>\n",
              "      <td>1</td>\n",
              "      <td>3</td>\n",
              "      <td>172</td>\n",
              "      <td>199</td>\n",
              "      <td>1</td>\n",
              "      <td>0</td>\n",
              "      <td>162</td>\n",
              "      <td>0</td>\n",
              "      <td>0.5</td>\n",
              "      <td>1</td>\n",
              "      <td>0</td>\n",
              "      <td>7</td>\n",
              "      <td>0</td>\n",
              "    </tr>\n",
              "    <tr>\n",
              "      <th>15</th>\n",
              "      <td>57</td>\n",
              "      <td>1</td>\n",
              "      <td>3</td>\n",
              "      <td>150</td>\n",
              "      <td>168</td>\n",
              "      <td>0</td>\n",
              "      <td>0</td>\n",
              "      <td>174</td>\n",
              "      <td>0</td>\n",
              "      <td>1.6</td>\n",
              "      <td>1</td>\n",
              "      <td>0</td>\n",
              "      <td>3</td>\n",
              "      <td>0</td>\n",
              "    </tr>\n",
              "    <tr>\n",
              "      <th>16</th>\n",
              "      <td>48</td>\n",
              "      <td>1</td>\n",
              "      <td>2</td>\n",
              "      <td>110</td>\n",
              "      <td>229</td>\n",
              "      <td>0</td>\n",
              "      <td>0</td>\n",
              "      <td>168</td>\n",
              "      <td>0</td>\n",
              "      <td>1.0</td>\n",
              "      <td>3</td>\n",
              "      <td>0</td>\n",
              "      <td>7</td>\n",
              "      <td>1</td>\n",
              "    </tr>\n",
              "    <tr>\n",
              "      <th>17</th>\n",
              "      <td>54</td>\n",
              "      <td>1</td>\n",
              "      <td>4</td>\n",
              "      <td>140</td>\n",
              "      <td>239</td>\n",
              "      <td>0</td>\n",
              "      <td>0</td>\n",
              "      <td>160</td>\n",
              "      <td>0</td>\n",
              "      <td>1.2</td>\n",
              "      <td>1</td>\n",
              "      <td>0</td>\n",
              "      <td>3</td>\n",
              "      <td>0</td>\n",
              "    </tr>\n",
              "    <tr>\n",
              "      <th>18</th>\n",
              "      <td>48</td>\n",
              "      <td>0</td>\n",
              "      <td>3</td>\n",
              "      <td>130</td>\n",
              "      <td>275</td>\n",
              "      <td>0</td>\n",
              "      <td>0</td>\n",
              "      <td>139</td>\n",
              "      <td>0</td>\n",
              "      <td>0.2</td>\n",
              "      <td>1</td>\n",
              "      <td>0</td>\n",
              "      <td>3</td>\n",
              "      <td>0</td>\n",
              "    </tr>\n",
              "    <tr>\n",
              "      <th>19</th>\n",
              "      <td>49</td>\n",
              "      <td>1</td>\n",
              "      <td>2</td>\n",
              "      <td>130</td>\n",
              "      <td>266</td>\n",
              "      <td>0</td>\n",
              "      <td>0</td>\n",
              "      <td>171</td>\n",
              "      <td>0</td>\n",
              "      <td>0.6</td>\n",
              "      <td>1</td>\n",
              "      <td>0</td>\n",
              "      <td>3</td>\n",
              "      <td>0</td>\n",
              "    </tr>\n",
              "  </tbody>\n",
              "</table>\n",
              "</div>"
            ],
            "text/plain": [
              "    age  gender  cp  trestbps  chol  fbs  ...  exang  oldpeak  slope  ca  thal num\n",
              "0    63       1   1       145   233    1  ...      0      2.3      3   0     6   0\n",
              "1    67       1   4       160   286    0  ...      1      1.5      2   3     3   2\n",
              "2    67       1   4       120   229    0  ...      1      2.6      2   2     7   1\n",
              "3    37       1   3       130   250    0  ...      0      3.5      3   0     3   0\n",
              "4    41       0   2       130   204    0  ...      0      1.4      1   0     3   0\n",
              "5    56       1   2       120   236    0  ...      0      0.8      1   0     3   0\n",
              "6    62       0   4       140   268    0  ...      0      3.6      3   2     3   3\n",
              "7    57       0   4       120   354    0  ...      1      0.6      1   0     3   0\n",
              "8    63       1   4       130   254    0  ...      0      1.4      2   1     7   2\n",
              "9    53       1   4       140   203    1  ...      1      3.1      3   0     7   1\n",
              "10   57       1   4       140   192    0  ...      0      0.4      2   0     6   0\n",
              "11   56       0   2       140   294    0  ...      0      1.3      2   0     3   0\n",
              "12   56       1   3       130   256    1  ...      1      0.6      2   1     6   2\n",
              "13   44       1   2       120   263    0  ...      0      0.0      1   0     7   0\n",
              "14   52       1   3       172   199    1  ...      0      0.5      1   0     7   0\n",
              "15   57       1   3       150   168    0  ...      0      1.6      1   0     3   0\n",
              "16   48       1   2       110   229    0  ...      0      1.0      3   0     7   1\n",
              "17   54       1   4       140   239    0  ...      0      1.2      1   0     3   0\n",
              "18   48       0   3       130   275    0  ...      0      0.2      1   0     3   0\n",
              "19   49       1   2       130   266    0  ...      0      0.6      1   0     3   0\n",
              "\n",
              "[20 rows x 14 columns]"
            ]
          },
          "metadata": {
            "tags": []
          },
          "execution_count": 173
        }
      ]
    },
    {
      "cell_type": "markdown",
      "metadata": {
        "id": "MjS7H-9Y8YcK"
      },
      "source": [
        "Looking at the data and data description, 9 columns have data as discrete variables and only 5 variables have continuous values: colesterol (chol), age, maximum heart rate (thalach), resting blood pressure at the admission to the hospital (trestbps)and oldpeak. Those variables will be used for our evaluation to determine if they are affected by the gender of the patient."
      ]
    },
    {
      "cell_type": "markdown",
      "metadata": {
        "id": "_YgS7cS--e0C"
      },
      "source": [
        "# Hypothesis\n",
        "*“Male and female patients show same warning symptoms indicating heart disease”*"
      ]
    },
    {
      "cell_type": "markdown",
      "metadata": {
        "id": "p-dCX3lt-lzh"
      },
      "source": [
        "Before proceeding to test our hypothesis, we need to ensure that the data is clean. Since 9 out of 14 parameters have discrete values, it will be checked if the values are different than those expected"
      ]
    },
    {
      "cell_type": "code",
      "metadata": {
        "id": "dbBFTmgGApwd",
        "colab": {
          "base_uri": "https://localhost:8080/",
          "height": 72
        },
        "outputId": "d2378cf4-4e4b-4e17-b462-ddf7f8f54695"
      },
      "source": [
        "# checking for data consistency (e.g: Gender colum must only have 2 values (0 and 1))\n",
        "gender_count = heart_data['gender'].value_counts()\n",
        "gender_count"
      ],
      "execution_count": null,
      "outputs": [
        {
          "output_type": "execute_result",
          "data": {
            "text/plain": [
              "1    206\n",
              "0     97\n",
              "Name: gender, dtype: int64"
            ]
          },
          "metadata": {
            "tags": []
          },
          "execution_count": 174
        }
      ]
    },
    {
      "cell_type": "code",
      "metadata": {
        "id": "6-RqI8NbCkan",
        "colab": {
          "base_uri": "https://localhost:8080/",
          "height": 108
        },
        "outputId": "3080bc11-e0cc-4508-d741-5458a386104c"
      },
      "source": [
        "cp_count = heart_data['cp'].value_counts()\n",
        "cp_count"
      ],
      "execution_count": null,
      "outputs": [
        {
          "output_type": "execute_result",
          "data": {
            "text/plain": [
              "4    144\n",
              "3     86\n",
              "2     50\n",
              "1     23\n",
              "Name: cp, dtype: int64"
            ]
          },
          "metadata": {
            "tags": []
          },
          "execution_count": 175
        }
      ]
    },
    {
      "cell_type": "code",
      "metadata": {
        "id": "c6BZDWVLBUyC",
        "colab": {
          "base_uri": "https://localhost:8080/",
          "height": 126
        },
        "outputId": "e2f4cab9-c9c8-495f-a9cd-bef4c5a14ba8"
      },
      "source": [
        "ca_count = heart_data['ca'].value_counts()\n",
        "ca_count"
      ],
      "execution_count": null,
      "outputs": [
        {
          "output_type": "execute_result",
          "data": {
            "text/plain": [
              "0    176\n",
              "1     65\n",
              "2     38\n",
              "3     20\n",
              "?      4\n",
              "Name: ca, dtype: int64"
            ]
          },
          "metadata": {
            "tags": []
          },
          "execution_count": 176
        }
      ]
    },
    {
      "cell_type": "markdown",
      "metadata": {
        "id": "Xj-EUrlVCC7P"
      },
      "source": [
        "Number of major vessels (ca) range from 0 - 3. There is 4 values with nulls or inconsistencies. Let's keep checking the data and we will clean it afterwards"
      ]
    },
    {
      "cell_type": "code",
      "metadata": {
        "id": "gwn4mJatE6hV",
        "colab": {
          "base_uri": "https://localhost:8080/",
          "height": 72
        },
        "outputId": "041ab474-c6b8-4f29-83ca-314c32a9497d"
      },
      "source": [
        "fbs_count = heart_data['fbs'].value_counts()\n",
        "fbs_count"
      ],
      "execution_count": null,
      "outputs": [
        {
          "output_type": "execute_result",
          "data": {
            "text/plain": [
              "0    258\n",
              "1     45\n",
              "Name: fbs, dtype: int64"
            ]
          },
          "metadata": {
            "tags": []
          },
          "execution_count": 177
        }
      ]
    },
    {
      "cell_type": "code",
      "metadata": {
        "id": "RVt-qfRbFFQS",
        "colab": {
          "base_uri": "https://localhost:8080/",
          "height": 90
        },
        "outputId": "47ef188b-bc63-471a-f81c-bd8bc2aee2f7"
      },
      "source": [
        "restecg_count = heart_data['restecg'].value_counts()\n",
        "restecg_count"
      ],
      "execution_count": null,
      "outputs": [
        {
          "output_type": "execute_result",
          "data": {
            "text/plain": [
              "0    151\n",
              "2    148\n",
              "1      4\n",
              "Name: restecg, dtype: int64"
            ]
          },
          "metadata": {
            "tags": []
          },
          "execution_count": 178
        }
      ]
    },
    {
      "cell_type": "code",
      "metadata": {
        "id": "dJBHS48gFfO2",
        "colab": {
          "base_uri": "https://localhost:8080/",
          "height": 90
        },
        "outputId": "d88dd68c-cbb0-45f6-b165-509d6c589a6f"
      },
      "source": [
        "slope_count = heart_data['slope'].value_counts()\n",
        "slope_count"
      ],
      "execution_count": null,
      "outputs": [
        {
          "output_type": "execute_result",
          "data": {
            "text/plain": [
              "1    142\n",
              "2    140\n",
              "3     21\n",
              "Name: slope, dtype: int64"
            ]
          },
          "metadata": {
            "tags": []
          },
          "execution_count": 179
        }
      ]
    },
    {
      "cell_type": "code",
      "metadata": {
        "id": "UAIJmk6SFotb",
        "colab": {
          "base_uri": "https://localhost:8080/",
          "height": 108
        },
        "outputId": "a10dd251-edda-4945-b853-ce9833daebdc"
      },
      "source": [
        "thal_count = heart_data['thal'].value_counts()\n",
        "thal_count"
      ],
      "execution_count": null,
      "outputs": [
        {
          "output_type": "execute_result",
          "data": {
            "text/plain": [
              "3    166\n",
              "7    117\n",
              "6     18\n",
              "?      2\n",
              "Name: thal, dtype: int64"
            ]
          },
          "metadata": {
            "tags": []
          },
          "execution_count": 180
        }
      ]
    },
    {
      "cell_type": "markdown",
      "metadata": {
        "id": "RCwOTyNiG8wc"
      },
      "source": [
        "Again in Thallium (thal) variable 2 unknown or null values"
      ]
    },
    {
      "cell_type": "code",
      "metadata": {
        "id": "pQSriLL4HtzK",
        "colab": {
          "base_uri": "https://localhost:8080/",
          "height": 126
        },
        "outputId": "73bc4139-f33f-4fcb-affc-19e1aa622a02"
      },
      "source": [
        "num_count = heart_data['num'].value_counts()\n",
        "num_count"
      ],
      "execution_count": null,
      "outputs": [
        {
          "output_type": "execute_result",
          "data": {
            "text/plain": [
              "0    164\n",
              "1     55\n",
              "2     36\n",
              "3     35\n",
              "4     13\n",
              "Name: num, dtype: int64"
            ]
          },
          "metadata": {
            "tags": []
          },
          "execution_count": 181
        }
      ]
    },
    {
      "cell_type": "markdown",
      "metadata": {
        "id": "untCn5y9HyE2"
      },
      "source": [
        "Num is consistent with the expected values, but for processing purposes this data will be group into 2 values: 0 for no heart disease and > 1 for heart disease"
      ]
    },
    {
      "cell_type": "markdown",
      "metadata": {
        "id": "jlErHanl_Wzt"
      },
      "source": [
        "Spurious data is present in columns ca and thal.Data will be located and excluded, as follows:"
      ]
    },
    {
      "cell_type": "code",
      "metadata": {
        "id": "6GXEb61yL-yS",
        "colab": {
          "base_uri": "https://localhost:8080/",
          "height": 168
        },
        "outputId": "ad19f308-0a05-4655-c912-eff43c0dd122"
      },
      "source": [
        "ca_odd_values = heart_data[(heart_data.ca != '0') & (heart_data.ca != '1') & (heart_data.ca != '2') & (heart_data.ca != '3')]\n",
        "ca_odd_values"
      ],
      "execution_count": null,
      "outputs": [
        {
          "output_type": "execute_result",
          "data": {
            "text/html": [
              "<div>\n",
              "<style scoped>\n",
              "    .dataframe tbody tr th:only-of-type {\n",
              "        vertical-align: middle;\n",
              "    }\n",
              "\n",
              "    .dataframe tbody tr th {\n",
              "        vertical-align: top;\n",
              "    }\n",
              "\n",
              "    .dataframe thead th {\n",
              "        text-align: right;\n",
              "    }\n",
              "</style>\n",
              "<table border=\"1\" class=\"dataframe\">\n",
              "  <thead>\n",
              "    <tr style=\"text-align: right;\">\n",
              "      <th></th>\n",
              "      <th>age</th>\n",
              "      <th>gender</th>\n",
              "      <th>cp</th>\n",
              "      <th>trestbps</th>\n",
              "      <th>chol</th>\n",
              "      <th>fbs</th>\n",
              "      <th>restecg</th>\n",
              "      <th>thalach</th>\n",
              "      <th>exang</th>\n",
              "      <th>oldpeak</th>\n",
              "      <th>slope</th>\n",
              "      <th>ca</th>\n",
              "      <th>thal</th>\n",
              "      <th>num</th>\n",
              "    </tr>\n",
              "  </thead>\n",
              "  <tbody>\n",
              "    <tr>\n",
              "      <th>166</th>\n",
              "      <td>52</td>\n",
              "      <td>1</td>\n",
              "      <td>3</td>\n",
              "      <td>138</td>\n",
              "      <td>223</td>\n",
              "      <td>0</td>\n",
              "      <td>0</td>\n",
              "      <td>169</td>\n",
              "      <td>0</td>\n",
              "      <td>0.0</td>\n",
              "      <td>1</td>\n",
              "      <td>?</td>\n",
              "      <td>3</td>\n",
              "      <td>0</td>\n",
              "    </tr>\n",
              "    <tr>\n",
              "      <th>192</th>\n",
              "      <td>43</td>\n",
              "      <td>1</td>\n",
              "      <td>4</td>\n",
              "      <td>132</td>\n",
              "      <td>247</td>\n",
              "      <td>1</td>\n",
              "      <td>2</td>\n",
              "      <td>143</td>\n",
              "      <td>1</td>\n",
              "      <td>0.1</td>\n",
              "      <td>2</td>\n",
              "      <td>?</td>\n",
              "      <td>7</td>\n",
              "      <td>1</td>\n",
              "    </tr>\n",
              "    <tr>\n",
              "      <th>287</th>\n",
              "      <td>58</td>\n",
              "      <td>1</td>\n",
              "      <td>2</td>\n",
              "      <td>125</td>\n",
              "      <td>220</td>\n",
              "      <td>0</td>\n",
              "      <td>0</td>\n",
              "      <td>144</td>\n",
              "      <td>0</td>\n",
              "      <td>0.4</td>\n",
              "      <td>2</td>\n",
              "      <td>?</td>\n",
              "      <td>7</td>\n",
              "      <td>0</td>\n",
              "    </tr>\n",
              "    <tr>\n",
              "      <th>302</th>\n",
              "      <td>38</td>\n",
              "      <td>1</td>\n",
              "      <td>3</td>\n",
              "      <td>138</td>\n",
              "      <td>175</td>\n",
              "      <td>0</td>\n",
              "      <td>0</td>\n",
              "      <td>173</td>\n",
              "      <td>0</td>\n",
              "      <td>0.0</td>\n",
              "      <td>1</td>\n",
              "      <td>?</td>\n",
              "      <td>3</td>\n",
              "      <td>0</td>\n",
              "    </tr>\n",
              "  </tbody>\n",
              "</table>\n",
              "</div>"
            ],
            "text/plain": [
              "     age  gender  cp  trestbps  chol  fbs  ...  exang  oldpeak  slope  ca  thal num\n",
              "166   52       1   3       138   223    0  ...      0      0.0      1   ?     3   0\n",
              "192   43       1   4       132   247    1  ...      1      0.1      2   ?     7   1\n",
              "287   58       1   2       125   220    0  ...      0      0.4      2   ?     7   0\n",
              "302   38       1   3       138   175    0  ...      0      0.0      1   ?     3   0\n",
              "\n",
              "[4 rows x 14 columns]"
            ]
          },
          "metadata": {
            "tags": []
          },
          "execution_count": 182
        }
      ]
    },
    {
      "cell_type": "code",
      "metadata": {
        "id": "czzGg6AjaHz2",
        "colab": {
          "base_uri": "https://localhost:8080/",
          "height": 108
        },
        "outputId": "b0fafae3-1d01-4e1c-eaf4-0f682449890c"
      },
      "source": [
        "thal_odd_values = heart_data[(heart_data.thal != '3') & (heart_data.thal != '7') & (heart_data.thal != '6')]\n",
        "thal_odd_values"
      ],
      "execution_count": null,
      "outputs": [
        {
          "output_type": "execute_result",
          "data": {
            "text/html": [
              "<div>\n",
              "<style scoped>\n",
              "    .dataframe tbody tr th:only-of-type {\n",
              "        vertical-align: middle;\n",
              "    }\n",
              "\n",
              "    .dataframe tbody tr th {\n",
              "        vertical-align: top;\n",
              "    }\n",
              "\n",
              "    .dataframe thead th {\n",
              "        text-align: right;\n",
              "    }\n",
              "</style>\n",
              "<table border=\"1\" class=\"dataframe\">\n",
              "  <thead>\n",
              "    <tr style=\"text-align: right;\">\n",
              "      <th></th>\n",
              "      <th>age</th>\n",
              "      <th>gender</th>\n",
              "      <th>cp</th>\n",
              "      <th>trestbps</th>\n",
              "      <th>chol</th>\n",
              "      <th>fbs</th>\n",
              "      <th>restecg</th>\n",
              "      <th>thalach</th>\n",
              "      <th>exang</th>\n",
              "      <th>oldpeak</th>\n",
              "      <th>slope</th>\n",
              "      <th>ca</th>\n",
              "      <th>thal</th>\n",
              "      <th>num</th>\n",
              "    </tr>\n",
              "  </thead>\n",
              "  <tbody>\n",
              "    <tr>\n",
              "      <th>87</th>\n",
              "      <td>53</td>\n",
              "      <td>0</td>\n",
              "      <td>3</td>\n",
              "      <td>128</td>\n",
              "      <td>216</td>\n",
              "      <td>0</td>\n",
              "      <td>2</td>\n",
              "      <td>115</td>\n",
              "      <td>0</td>\n",
              "      <td>0.0</td>\n",
              "      <td>1</td>\n",
              "      <td>0</td>\n",
              "      <td>?</td>\n",
              "      <td>0</td>\n",
              "    </tr>\n",
              "    <tr>\n",
              "      <th>266</th>\n",
              "      <td>52</td>\n",
              "      <td>1</td>\n",
              "      <td>4</td>\n",
              "      <td>128</td>\n",
              "      <td>204</td>\n",
              "      <td>1</td>\n",
              "      <td>0</td>\n",
              "      <td>156</td>\n",
              "      <td>1</td>\n",
              "      <td>1.0</td>\n",
              "      <td>2</td>\n",
              "      <td>0</td>\n",
              "      <td>?</td>\n",
              "      <td>2</td>\n",
              "    </tr>\n",
              "  </tbody>\n",
              "</table>\n",
              "</div>"
            ],
            "text/plain": [
              "     age  gender  cp  trestbps  chol  fbs  ...  exang  oldpeak  slope  ca  thal num\n",
              "87    53       0   3       128   216    0  ...      0      0.0      1   0     ?   0\n",
              "266   52       1   4       128   204    1  ...      1      1.0      2   0     ?   2\n",
              "\n",
              "[2 rows x 14 columns]"
            ]
          },
          "metadata": {
            "tags": []
          },
          "execution_count": 183
        }
      ]
    },
    {
      "cell_type": "code",
      "metadata": {
        "id": "P5sYQFYeOx8l"
      },
      "source": [
        "heart_data = heart_data[~((heart_data.ca != '0') & (heart_data.ca != '1') & (heart_data.ca != '2') & (heart_data.ca != '3'))]\n",
        "heart_data = heart_data[~((heart_data.thal != '3') & (heart_data.thal != '7') & (heart_data.thal != '6'))]"
      ],
      "execution_count": null,
      "outputs": []
    },
    {
      "cell_type": "code",
      "metadata": {
        "id": "tXFu1niDNb_6",
        "colab": {
          "base_uri": "https://localhost:8080/",
          "height": 399
        },
        "outputId": "c15aa050-8f68-471b-8d3a-b3a4f60a1457"
      },
      "source": [
        "heart_data.info()"
      ],
      "execution_count": null,
      "outputs": [
        {
          "output_type": "stream",
          "text": [
            "<class 'pandas.core.frame.DataFrame'>\n",
            "Int64Index: 297 entries, 0 to 301\n",
            "Data columns (total 14 columns):\n",
            " #   Column    Non-Null Count  Dtype  \n",
            "---  ------    --------------  -----  \n",
            " 0   age       297 non-null    int64  \n",
            " 1   gender    297 non-null    int64  \n",
            " 2   cp        297 non-null    int64  \n",
            " 3   trestbps  297 non-null    int64  \n",
            " 4   chol      297 non-null    int64  \n",
            " 5   fbs       297 non-null    int64  \n",
            " 6   restecg   297 non-null    int64  \n",
            " 7   thalach   297 non-null    int64  \n",
            " 8   exang     297 non-null    int64  \n",
            " 9   oldpeak   297 non-null    float64\n",
            " 10  slope     297 non-null    int64  \n",
            " 11  ca        297 non-null    object \n",
            " 12  thal      297 non-null    object \n",
            " 13  num       297 non-null    int64  \n",
            "dtypes: float64(1), int64(11), object(2)\n",
            "memory usage: 34.8+ KB\n"
          ],
          "name": "stdout"
        }
      ]
    },
    {
      "cell_type": "code",
      "metadata": {
        "id": "nV6Xjec3NvMP"
      },
      "source": [
        "heart_data.ca = heart_data.ca.astype('int')\n",
        "heart_data.thal = heart_data.thal.astype('int')"
      ],
      "execution_count": null,
      "outputs": []
    },
    {
      "cell_type": "code",
      "metadata": {
        "id": "GTPy9DUiQ4VR",
        "colab": {
          "base_uri": "https://localhost:8080/",
          "height": 498
        },
        "outputId": "58ce2e55-4a88-4da8-a986-3e82f772405a"
      },
      "source": [
        "# For num values all numbers above 1 represent disease. Then the values will be change from a range of 0 to 4 to only values 0 (no_Disease) and 1 (Disease)\n",
        "heart_data.num[heart_data['num'] >= 1] = 1\n",
        "heart_data"
      ],
      "execution_count": null,
      "outputs": [
        {
          "output_type": "stream",
          "text": [
            "/usr/local/lib/python3.6/dist-packages/ipykernel_launcher.py:2: SettingWithCopyWarning: \n",
            "A value is trying to be set on a copy of a slice from a DataFrame\n",
            "\n",
            "See the caveats in the documentation: https://pandas.pydata.org/pandas-docs/stable/user_guide/indexing.html#returning-a-view-versus-a-copy\n",
            "  \n"
          ],
          "name": "stderr"
        },
        {
          "output_type": "execute_result",
          "data": {
            "text/html": [
              "<div>\n",
              "<style scoped>\n",
              "    .dataframe tbody tr th:only-of-type {\n",
              "        vertical-align: middle;\n",
              "    }\n",
              "\n",
              "    .dataframe tbody tr th {\n",
              "        vertical-align: top;\n",
              "    }\n",
              "\n",
              "    .dataframe thead th {\n",
              "        text-align: right;\n",
              "    }\n",
              "</style>\n",
              "<table border=\"1\" class=\"dataframe\">\n",
              "  <thead>\n",
              "    <tr style=\"text-align: right;\">\n",
              "      <th></th>\n",
              "      <th>age</th>\n",
              "      <th>gender</th>\n",
              "      <th>cp</th>\n",
              "      <th>trestbps</th>\n",
              "      <th>chol</th>\n",
              "      <th>fbs</th>\n",
              "      <th>restecg</th>\n",
              "      <th>thalach</th>\n",
              "      <th>exang</th>\n",
              "      <th>oldpeak</th>\n",
              "      <th>slope</th>\n",
              "      <th>ca</th>\n",
              "      <th>thal</th>\n",
              "      <th>num</th>\n",
              "    </tr>\n",
              "  </thead>\n",
              "  <tbody>\n",
              "    <tr>\n",
              "      <th>0</th>\n",
              "      <td>63</td>\n",
              "      <td>1</td>\n",
              "      <td>1</td>\n",
              "      <td>145</td>\n",
              "      <td>233</td>\n",
              "      <td>1</td>\n",
              "      <td>2</td>\n",
              "      <td>150</td>\n",
              "      <td>0</td>\n",
              "      <td>2.3</td>\n",
              "      <td>3</td>\n",
              "      <td>0</td>\n",
              "      <td>6</td>\n",
              "      <td>0</td>\n",
              "    </tr>\n",
              "    <tr>\n",
              "      <th>1</th>\n",
              "      <td>67</td>\n",
              "      <td>1</td>\n",
              "      <td>4</td>\n",
              "      <td>160</td>\n",
              "      <td>286</td>\n",
              "      <td>0</td>\n",
              "      <td>2</td>\n",
              "      <td>108</td>\n",
              "      <td>1</td>\n",
              "      <td>1.5</td>\n",
              "      <td>2</td>\n",
              "      <td>3</td>\n",
              "      <td>3</td>\n",
              "      <td>1</td>\n",
              "    </tr>\n",
              "    <tr>\n",
              "      <th>2</th>\n",
              "      <td>67</td>\n",
              "      <td>1</td>\n",
              "      <td>4</td>\n",
              "      <td>120</td>\n",
              "      <td>229</td>\n",
              "      <td>0</td>\n",
              "      <td>2</td>\n",
              "      <td>129</td>\n",
              "      <td>1</td>\n",
              "      <td>2.6</td>\n",
              "      <td>2</td>\n",
              "      <td>2</td>\n",
              "      <td>7</td>\n",
              "      <td>1</td>\n",
              "    </tr>\n",
              "    <tr>\n",
              "      <th>3</th>\n",
              "      <td>37</td>\n",
              "      <td>1</td>\n",
              "      <td>3</td>\n",
              "      <td>130</td>\n",
              "      <td>250</td>\n",
              "      <td>0</td>\n",
              "      <td>0</td>\n",
              "      <td>187</td>\n",
              "      <td>0</td>\n",
              "      <td>3.5</td>\n",
              "      <td>3</td>\n",
              "      <td>0</td>\n",
              "      <td>3</td>\n",
              "      <td>0</td>\n",
              "    </tr>\n",
              "    <tr>\n",
              "      <th>4</th>\n",
              "      <td>41</td>\n",
              "      <td>0</td>\n",
              "      <td>2</td>\n",
              "      <td>130</td>\n",
              "      <td>204</td>\n",
              "      <td>0</td>\n",
              "      <td>2</td>\n",
              "      <td>172</td>\n",
              "      <td>0</td>\n",
              "      <td>1.4</td>\n",
              "      <td>1</td>\n",
              "      <td>0</td>\n",
              "      <td>3</td>\n",
              "      <td>0</td>\n",
              "    </tr>\n",
              "    <tr>\n",
              "      <th>...</th>\n",
              "      <td>...</td>\n",
              "      <td>...</td>\n",
              "      <td>...</td>\n",
              "      <td>...</td>\n",
              "      <td>...</td>\n",
              "      <td>...</td>\n",
              "      <td>...</td>\n",
              "      <td>...</td>\n",
              "      <td>...</td>\n",
              "      <td>...</td>\n",
              "      <td>...</td>\n",
              "      <td>...</td>\n",
              "      <td>...</td>\n",
              "      <td>...</td>\n",
              "    </tr>\n",
              "    <tr>\n",
              "      <th>297</th>\n",
              "      <td>57</td>\n",
              "      <td>0</td>\n",
              "      <td>4</td>\n",
              "      <td>140</td>\n",
              "      <td>241</td>\n",
              "      <td>0</td>\n",
              "      <td>0</td>\n",
              "      <td>123</td>\n",
              "      <td>1</td>\n",
              "      <td>0.2</td>\n",
              "      <td>2</td>\n",
              "      <td>0</td>\n",
              "      <td>7</td>\n",
              "      <td>1</td>\n",
              "    </tr>\n",
              "    <tr>\n",
              "      <th>298</th>\n",
              "      <td>45</td>\n",
              "      <td>1</td>\n",
              "      <td>1</td>\n",
              "      <td>110</td>\n",
              "      <td>264</td>\n",
              "      <td>0</td>\n",
              "      <td>0</td>\n",
              "      <td>132</td>\n",
              "      <td>0</td>\n",
              "      <td>1.2</td>\n",
              "      <td>2</td>\n",
              "      <td>0</td>\n",
              "      <td>7</td>\n",
              "      <td>1</td>\n",
              "    </tr>\n",
              "    <tr>\n",
              "      <th>299</th>\n",
              "      <td>68</td>\n",
              "      <td>1</td>\n",
              "      <td>4</td>\n",
              "      <td>144</td>\n",
              "      <td>193</td>\n",
              "      <td>1</td>\n",
              "      <td>0</td>\n",
              "      <td>141</td>\n",
              "      <td>0</td>\n",
              "      <td>3.4</td>\n",
              "      <td>2</td>\n",
              "      <td>2</td>\n",
              "      <td>7</td>\n",
              "      <td>1</td>\n",
              "    </tr>\n",
              "    <tr>\n",
              "      <th>300</th>\n",
              "      <td>57</td>\n",
              "      <td>1</td>\n",
              "      <td>4</td>\n",
              "      <td>130</td>\n",
              "      <td>131</td>\n",
              "      <td>0</td>\n",
              "      <td>0</td>\n",
              "      <td>115</td>\n",
              "      <td>1</td>\n",
              "      <td>1.2</td>\n",
              "      <td>2</td>\n",
              "      <td>1</td>\n",
              "      <td>7</td>\n",
              "      <td>1</td>\n",
              "    </tr>\n",
              "    <tr>\n",
              "      <th>301</th>\n",
              "      <td>57</td>\n",
              "      <td>0</td>\n",
              "      <td>2</td>\n",
              "      <td>130</td>\n",
              "      <td>236</td>\n",
              "      <td>0</td>\n",
              "      <td>2</td>\n",
              "      <td>174</td>\n",
              "      <td>0</td>\n",
              "      <td>0.0</td>\n",
              "      <td>2</td>\n",
              "      <td>1</td>\n",
              "      <td>3</td>\n",
              "      <td>1</td>\n",
              "    </tr>\n",
              "  </tbody>\n",
              "</table>\n",
              "<p>297 rows × 14 columns</p>\n",
              "</div>"
            ],
            "text/plain": [
              "     age  gender  cp  trestbps  chol  fbs  ...  exang  oldpeak  slope  ca  thal  num\n",
              "0     63       1   1       145   233    1  ...      0      2.3      3   0     6    0\n",
              "1     67       1   4       160   286    0  ...      1      1.5      2   3     3    1\n",
              "2     67       1   4       120   229    0  ...      1      2.6      2   2     7    1\n",
              "3     37       1   3       130   250    0  ...      0      3.5      3   0     3    0\n",
              "4     41       0   2       130   204    0  ...      0      1.4      1   0     3    0\n",
              "..   ...     ...  ..       ...   ...  ...  ...    ...      ...    ...  ..   ...  ...\n",
              "297   57       0   4       140   241    0  ...      1      0.2      2   0     7    1\n",
              "298   45       1   1       110   264    0  ...      0      1.2      2   0     7    1\n",
              "299   68       1   4       144   193    1  ...      0      3.4      2   2     7    1\n",
              "300   57       1   4       130   131    0  ...      1      1.2      2   1     7    1\n",
              "301   57       0   2       130   236    0  ...      0      0.0      2   1     3    1\n",
              "\n",
              "[297 rows x 14 columns]"
            ]
          },
          "metadata": {
            "tags": []
          },
          "execution_count": 187
        }
      ]
    },
    {
      "cell_type": "code",
      "metadata": {
        "id": "E1ztTrNgJ4kJ"
      },
      "source": [
        "# For plotting purposes 2 more columns will be added with the gender and disease status description\n",
        "heart_data['disease'] = heart_data['num']\n",
        "heart_data['gender_desc'] = heart_data['gender']\n",
        "heart_data['gender_desc'] = heart_data['gender_desc'].replace(0, 'Female')\n",
        "heart_data['gender_desc'] = heart_data['gender_desc'].replace(1, 'Male')\n",
        "heart_data['disease'] = heart_data['disease'].replace(0, 'No Disease')\n",
        "heart_data['disease'] = heart_data['disease'].replace(1, 'Disease')"
      ],
      "execution_count": null,
      "outputs": []
    },
    {
      "cell_type": "code",
      "metadata": {
        "id": "mA6aHaY5KU6d",
        "colab": {
          "base_uri": "https://localhost:8080/",
          "height": 407
        },
        "outputId": "c536a677-d72e-41bb-cbb0-f0226f83f027"
      },
      "source": [
        "heart_data"
      ],
      "execution_count": null,
      "outputs": [
        {
          "output_type": "execute_result",
          "data": {
            "text/html": [
              "<div>\n",
              "<style scoped>\n",
              "    .dataframe tbody tr th:only-of-type {\n",
              "        vertical-align: middle;\n",
              "    }\n",
              "\n",
              "    .dataframe tbody tr th {\n",
              "        vertical-align: top;\n",
              "    }\n",
              "\n",
              "    .dataframe thead th {\n",
              "        text-align: right;\n",
              "    }\n",
              "</style>\n",
              "<table border=\"1\" class=\"dataframe\">\n",
              "  <thead>\n",
              "    <tr style=\"text-align: right;\">\n",
              "      <th></th>\n",
              "      <th>age</th>\n",
              "      <th>gender</th>\n",
              "      <th>cp</th>\n",
              "      <th>trestbps</th>\n",
              "      <th>chol</th>\n",
              "      <th>fbs</th>\n",
              "      <th>restecg</th>\n",
              "      <th>thalach</th>\n",
              "      <th>exang</th>\n",
              "      <th>oldpeak</th>\n",
              "      <th>slope</th>\n",
              "      <th>ca</th>\n",
              "      <th>thal</th>\n",
              "      <th>num</th>\n",
              "      <th>disease</th>\n",
              "      <th>gender_desc</th>\n",
              "    </tr>\n",
              "  </thead>\n",
              "  <tbody>\n",
              "    <tr>\n",
              "      <th>0</th>\n",
              "      <td>63</td>\n",
              "      <td>1</td>\n",
              "      <td>1</td>\n",
              "      <td>145</td>\n",
              "      <td>233</td>\n",
              "      <td>1</td>\n",
              "      <td>2</td>\n",
              "      <td>150</td>\n",
              "      <td>0</td>\n",
              "      <td>2.3</td>\n",
              "      <td>3</td>\n",
              "      <td>0</td>\n",
              "      <td>6</td>\n",
              "      <td>0</td>\n",
              "      <td>No Disease</td>\n",
              "      <td>Male</td>\n",
              "    </tr>\n",
              "    <tr>\n",
              "      <th>1</th>\n",
              "      <td>67</td>\n",
              "      <td>1</td>\n",
              "      <td>4</td>\n",
              "      <td>160</td>\n",
              "      <td>286</td>\n",
              "      <td>0</td>\n",
              "      <td>2</td>\n",
              "      <td>108</td>\n",
              "      <td>1</td>\n",
              "      <td>1.5</td>\n",
              "      <td>2</td>\n",
              "      <td>3</td>\n",
              "      <td>3</td>\n",
              "      <td>1</td>\n",
              "      <td>Disease</td>\n",
              "      <td>Male</td>\n",
              "    </tr>\n",
              "    <tr>\n",
              "      <th>2</th>\n",
              "      <td>67</td>\n",
              "      <td>1</td>\n",
              "      <td>4</td>\n",
              "      <td>120</td>\n",
              "      <td>229</td>\n",
              "      <td>0</td>\n",
              "      <td>2</td>\n",
              "      <td>129</td>\n",
              "      <td>1</td>\n",
              "      <td>2.6</td>\n",
              "      <td>2</td>\n",
              "      <td>2</td>\n",
              "      <td>7</td>\n",
              "      <td>1</td>\n",
              "      <td>Disease</td>\n",
              "      <td>Male</td>\n",
              "    </tr>\n",
              "    <tr>\n",
              "      <th>3</th>\n",
              "      <td>37</td>\n",
              "      <td>1</td>\n",
              "      <td>3</td>\n",
              "      <td>130</td>\n",
              "      <td>250</td>\n",
              "      <td>0</td>\n",
              "      <td>0</td>\n",
              "      <td>187</td>\n",
              "      <td>0</td>\n",
              "      <td>3.5</td>\n",
              "      <td>3</td>\n",
              "      <td>0</td>\n",
              "      <td>3</td>\n",
              "      <td>0</td>\n",
              "      <td>No Disease</td>\n",
              "      <td>Male</td>\n",
              "    </tr>\n",
              "    <tr>\n",
              "      <th>4</th>\n",
              "      <td>41</td>\n",
              "      <td>0</td>\n",
              "      <td>2</td>\n",
              "      <td>130</td>\n",
              "      <td>204</td>\n",
              "      <td>0</td>\n",
              "      <td>2</td>\n",
              "      <td>172</td>\n",
              "      <td>0</td>\n",
              "      <td>1.4</td>\n",
              "      <td>1</td>\n",
              "      <td>0</td>\n",
              "      <td>3</td>\n",
              "      <td>0</td>\n",
              "      <td>No Disease</td>\n",
              "      <td>Female</td>\n",
              "    </tr>\n",
              "    <tr>\n",
              "      <th>...</th>\n",
              "      <td>...</td>\n",
              "      <td>...</td>\n",
              "      <td>...</td>\n",
              "      <td>...</td>\n",
              "      <td>...</td>\n",
              "      <td>...</td>\n",
              "      <td>...</td>\n",
              "      <td>...</td>\n",
              "      <td>...</td>\n",
              "      <td>...</td>\n",
              "      <td>...</td>\n",
              "      <td>...</td>\n",
              "      <td>...</td>\n",
              "      <td>...</td>\n",
              "      <td>...</td>\n",
              "      <td>...</td>\n",
              "    </tr>\n",
              "    <tr>\n",
              "      <th>297</th>\n",
              "      <td>57</td>\n",
              "      <td>0</td>\n",
              "      <td>4</td>\n",
              "      <td>140</td>\n",
              "      <td>241</td>\n",
              "      <td>0</td>\n",
              "      <td>0</td>\n",
              "      <td>123</td>\n",
              "      <td>1</td>\n",
              "      <td>0.2</td>\n",
              "      <td>2</td>\n",
              "      <td>0</td>\n",
              "      <td>7</td>\n",
              "      <td>1</td>\n",
              "      <td>Disease</td>\n",
              "      <td>Female</td>\n",
              "    </tr>\n",
              "    <tr>\n",
              "      <th>298</th>\n",
              "      <td>45</td>\n",
              "      <td>1</td>\n",
              "      <td>1</td>\n",
              "      <td>110</td>\n",
              "      <td>264</td>\n",
              "      <td>0</td>\n",
              "      <td>0</td>\n",
              "      <td>132</td>\n",
              "      <td>0</td>\n",
              "      <td>1.2</td>\n",
              "      <td>2</td>\n",
              "      <td>0</td>\n",
              "      <td>7</td>\n",
              "      <td>1</td>\n",
              "      <td>Disease</td>\n",
              "      <td>Male</td>\n",
              "    </tr>\n",
              "    <tr>\n",
              "      <th>299</th>\n",
              "      <td>68</td>\n",
              "      <td>1</td>\n",
              "      <td>4</td>\n",
              "      <td>144</td>\n",
              "      <td>193</td>\n",
              "      <td>1</td>\n",
              "      <td>0</td>\n",
              "      <td>141</td>\n",
              "      <td>0</td>\n",
              "      <td>3.4</td>\n",
              "      <td>2</td>\n",
              "      <td>2</td>\n",
              "      <td>7</td>\n",
              "      <td>1</td>\n",
              "      <td>Disease</td>\n",
              "      <td>Male</td>\n",
              "    </tr>\n",
              "    <tr>\n",
              "      <th>300</th>\n",
              "      <td>57</td>\n",
              "      <td>1</td>\n",
              "      <td>4</td>\n",
              "      <td>130</td>\n",
              "      <td>131</td>\n",
              "      <td>0</td>\n",
              "      <td>0</td>\n",
              "      <td>115</td>\n",
              "      <td>1</td>\n",
              "      <td>1.2</td>\n",
              "      <td>2</td>\n",
              "      <td>1</td>\n",
              "      <td>7</td>\n",
              "      <td>1</td>\n",
              "      <td>Disease</td>\n",
              "      <td>Male</td>\n",
              "    </tr>\n",
              "    <tr>\n",
              "      <th>301</th>\n",
              "      <td>57</td>\n",
              "      <td>0</td>\n",
              "      <td>2</td>\n",
              "      <td>130</td>\n",
              "      <td>236</td>\n",
              "      <td>0</td>\n",
              "      <td>2</td>\n",
              "      <td>174</td>\n",
              "      <td>0</td>\n",
              "      <td>0.0</td>\n",
              "      <td>2</td>\n",
              "      <td>1</td>\n",
              "      <td>3</td>\n",
              "      <td>1</td>\n",
              "      <td>Disease</td>\n",
              "      <td>Female</td>\n",
              "    </tr>\n",
              "  </tbody>\n",
              "</table>\n",
              "<p>297 rows × 16 columns</p>\n",
              "</div>"
            ],
            "text/plain": [
              "     age  gender  cp  trestbps  chol  ...  ca  thal  num     disease  gender_desc\n",
              "0     63       1   1       145   233  ...   0     6    0  No Disease         Male\n",
              "1     67       1   4       160   286  ...   3     3    1     Disease         Male\n",
              "2     67       1   4       120   229  ...   2     7    1     Disease         Male\n",
              "3     37       1   3       130   250  ...   0     3    0  No Disease         Male\n",
              "4     41       0   2       130   204  ...   0     3    0  No Disease       Female\n",
              "..   ...     ...  ..       ...   ...  ...  ..   ...  ...         ...          ...\n",
              "297   57       0   4       140   241  ...   0     7    1     Disease       Female\n",
              "298   45       1   1       110   264  ...   0     7    1     Disease         Male\n",
              "299   68       1   4       144   193  ...   2     7    1     Disease         Male\n",
              "300   57       1   4       130   131  ...   1     7    1     Disease         Male\n",
              "301   57       0   2       130   236  ...   1     3    1     Disease       Female\n",
              "\n",
              "[297 rows x 16 columns]"
            ]
          },
          "metadata": {
            "tags": []
          },
          "execution_count": 189
        }
      ]
    },
    {
      "cell_type": "code",
      "metadata": {
        "id": "kRzS7cGs5Dse",
        "colab": {
          "base_uri": "https://localhost:8080/",
          "height": 288
        },
        "outputId": "5cb7a902-8773-404b-86be-af45ded978ca"
      },
      "source": [
        "heart_data.describe()"
      ],
      "execution_count": null,
      "outputs": [
        {
          "output_type": "execute_result",
          "data": {
            "text/html": [
              "<div>\n",
              "<style scoped>\n",
              "    .dataframe tbody tr th:only-of-type {\n",
              "        vertical-align: middle;\n",
              "    }\n",
              "\n",
              "    .dataframe tbody tr th {\n",
              "        vertical-align: top;\n",
              "    }\n",
              "\n",
              "    .dataframe thead th {\n",
              "        text-align: right;\n",
              "    }\n",
              "</style>\n",
              "<table border=\"1\" class=\"dataframe\">\n",
              "  <thead>\n",
              "    <tr style=\"text-align: right;\">\n",
              "      <th></th>\n",
              "      <th>age</th>\n",
              "      <th>gender</th>\n",
              "      <th>cp</th>\n",
              "      <th>trestbps</th>\n",
              "      <th>chol</th>\n",
              "      <th>fbs</th>\n",
              "      <th>restecg</th>\n",
              "      <th>thalach</th>\n",
              "      <th>exang</th>\n",
              "      <th>oldpeak</th>\n",
              "      <th>slope</th>\n",
              "      <th>ca</th>\n",
              "      <th>thal</th>\n",
              "      <th>num</th>\n",
              "    </tr>\n",
              "  </thead>\n",
              "  <tbody>\n",
              "    <tr>\n",
              "      <th>count</th>\n",
              "      <td>297.000000</td>\n",
              "      <td>297.000000</td>\n",
              "      <td>297.000000</td>\n",
              "      <td>297.000000</td>\n",
              "      <td>297.000000</td>\n",
              "      <td>297.000000</td>\n",
              "      <td>297.000000</td>\n",
              "      <td>297.000000</td>\n",
              "      <td>297.000000</td>\n",
              "      <td>297.000000</td>\n",
              "      <td>297.000000</td>\n",
              "      <td>297.000000</td>\n",
              "      <td>297.000000</td>\n",
              "      <td>297.000000</td>\n",
              "    </tr>\n",
              "    <tr>\n",
              "      <th>mean</th>\n",
              "      <td>54.542088</td>\n",
              "      <td>0.676768</td>\n",
              "      <td>3.158249</td>\n",
              "      <td>131.693603</td>\n",
              "      <td>247.350168</td>\n",
              "      <td>0.144781</td>\n",
              "      <td>0.996633</td>\n",
              "      <td>149.599327</td>\n",
              "      <td>0.326599</td>\n",
              "      <td>1.055556</td>\n",
              "      <td>1.602694</td>\n",
              "      <td>0.676768</td>\n",
              "      <td>4.730640</td>\n",
              "      <td>0.461279</td>\n",
              "    </tr>\n",
              "    <tr>\n",
              "      <th>std</th>\n",
              "      <td>9.049736</td>\n",
              "      <td>0.468500</td>\n",
              "      <td>0.964859</td>\n",
              "      <td>17.762806</td>\n",
              "      <td>51.997583</td>\n",
              "      <td>0.352474</td>\n",
              "      <td>0.994914</td>\n",
              "      <td>22.941562</td>\n",
              "      <td>0.469761</td>\n",
              "      <td>1.166123</td>\n",
              "      <td>0.618187</td>\n",
              "      <td>0.938965</td>\n",
              "      <td>1.938629</td>\n",
              "      <td>0.499340</td>\n",
              "    </tr>\n",
              "    <tr>\n",
              "      <th>min</th>\n",
              "      <td>29.000000</td>\n",
              "      <td>0.000000</td>\n",
              "      <td>1.000000</td>\n",
              "      <td>94.000000</td>\n",
              "      <td>126.000000</td>\n",
              "      <td>0.000000</td>\n",
              "      <td>0.000000</td>\n",
              "      <td>71.000000</td>\n",
              "      <td>0.000000</td>\n",
              "      <td>0.000000</td>\n",
              "      <td>1.000000</td>\n",
              "      <td>0.000000</td>\n",
              "      <td>3.000000</td>\n",
              "      <td>0.000000</td>\n",
              "    </tr>\n",
              "    <tr>\n",
              "      <th>25%</th>\n",
              "      <td>48.000000</td>\n",
              "      <td>0.000000</td>\n",
              "      <td>3.000000</td>\n",
              "      <td>120.000000</td>\n",
              "      <td>211.000000</td>\n",
              "      <td>0.000000</td>\n",
              "      <td>0.000000</td>\n",
              "      <td>133.000000</td>\n",
              "      <td>0.000000</td>\n",
              "      <td>0.000000</td>\n",
              "      <td>1.000000</td>\n",
              "      <td>0.000000</td>\n",
              "      <td>3.000000</td>\n",
              "      <td>0.000000</td>\n",
              "    </tr>\n",
              "    <tr>\n",
              "      <th>50%</th>\n",
              "      <td>56.000000</td>\n",
              "      <td>1.000000</td>\n",
              "      <td>3.000000</td>\n",
              "      <td>130.000000</td>\n",
              "      <td>243.000000</td>\n",
              "      <td>0.000000</td>\n",
              "      <td>1.000000</td>\n",
              "      <td>153.000000</td>\n",
              "      <td>0.000000</td>\n",
              "      <td>0.800000</td>\n",
              "      <td>2.000000</td>\n",
              "      <td>0.000000</td>\n",
              "      <td>3.000000</td>\n",
              "      <td>0.000000</td>\n",
              "    </tr>\n",
              "    <tr>\n",
              "      <th>75%</th>\n",
              "      <td>61.000000</td>\n",
              "      <td>1.000000</td>\n",
              "      <td>4.000000</td>\n",
              "      <td>140.000000</td>\n",
              "      <td>276.000000</td>\n",
              "      <td>0.000000</td>\n",
              "      <td>2.000000</td>\n",
              "      <td>166.000000</td>\n",
              "      <td>1.000000</td>\n",
              "      <td>1.600000</td>\n",
              "      <td>2.000000</td>\n",
              "      <td>1.000000</td>\n",
              "      <td>7.000000</td>\n",
              "      <td>1.000000</td>\n",
              "    </tr>\n",
              "    <tr>\n",
              "      <th>max</th>\n",
              "      <td>77.000000</td>\n",
              "      <td>1.000000</td>\n",
              "      <td>4.000000</td>\n",
              "      <td>200.000000</td>\n",
              "      <td>564.000000</td>\n",
              "      <td>1.000000</td>\n",
              "      <td>2.000000</td>\n",
              "      <td>202.000000</td>\n",
              "      <td>1.000000</td>\n",
              "      <td>6.200000</td>\n",
              "      <td>3.000000</td>\n",
              "      <td>3.000000</td>\n",
              "      <td>7.000000</td>\n",
              "      <td>1.000000</td>\n",
              "    </tr>\n",
              "  </tbody>\n",
              "</table>\n",
              "</div>"
            ],
            "text/plain": [
              "              age      gender          cp  ...          ca        thal         num\n",
              "count  297.000000  297.000000  297.000000  ...  297.000000  297.000000  297.000000\n",
              "mean    54.542088    0.676768    3.158249  ...    0.676768    4.730640    0.461279\n",
              "std      9.049736    0.468500    0.964859  ...    0.938965    1.938629    0.499340\n",
              "min     29.000000    0.000000    1.000000  ...    0.000000    3.000000    0.000000\n",
              "25%     48.000000    0.000000    3.000000  ...    0.000000    3.000000    0.000000\n",
              "50%     56.000000    1.000000    3.000000  ...    0.000000    3.000000    0.000000\n",
              "75%     61.000000    1.000000    4.000000  ...    1.000000    7.000000    1.000000\n",
              "max     77.000000    1.000000    4.000000  ...    3.000000    7.000000    1.000000\n",
              "\n",
              "[8 rows x 14 columns]"
            ]
          },
          "metadata": {
            "tags": []
          },
          "execution_count": 190
        }
      ]
    },
    {
      "cell_type": "code",
      "metadata": {
        "id": "vet_eF6vygZj",
        "colab": {
          "base_uri": "https://localhost:8080/",
          "height": 198
        },
        "outputId": "e64a87dd-c5f5-4c3a-87bb-65f2c644572d"
      },
      "source": [
        "heart_data = heart_data.assign(groups = heart_data.gender_desc + ' ' + heart_data.disease)\n",
        "heart_data.head()"
      ],
      "execution_count": null,
      "outputs": [
        {
          "output_type": "execute_result",
          "data": {
            "text/html": [
              "<div>\n",
              "<style scoped>\n",
              "    .dataframe tbody tr th:only-of-type {\n",
              "        vertical-align: middle;\n",
              "    }\n",
              "\n",
              "    .dataframe tbody tr th {\n",
              "        vertical-align: top;\n",
              "    }\n",
              "\n",
              "    .dataframe thead th {\n",
              "        text-align: right;\n",
              "    }\n",
              "</style>\n",
              "<table border=\"1\" class=\"dataframe\">\n",
              "  <thead>\n",
              "    <tr style=\"text-align: right;\">\n",
              "      <th></th>\n",
              "      <th>age</th>\n",
              "      <th>gender</th>\n",
              "      <th>cp</th>\n",
              "      <th>trestbps</th>\n",
              "      <th>chol</th>\n",
              "      <th>fbs</th>\n",
              "      <th>restecg</th>\n",
              "      <th>thalach</th>\n",
              "      <th>exang</th>\n",
              "      <th>oldpeak</th>\n",
              "      <th>slope</th>\n",
              "      <th>ca</th>\n",
              "      <th>thal</th>\n",
              "      <th>num</th>\n",
              "      <th>disease</th>\n",
              "      <th>gender_desc</th>\n",
              "      <th>groups</th>\n",
              "    </tr>\n",
              "  </thead>\n",
              "  <tbody>\n",
              "    <tr>\n",
              "      <th>0</th>\n",
              "      <td>63</td>\n",
              "      <td>1</td>\n",
              "      <td>1</td>\n",
              "      <td>145</td>\n",
              "      <td>233</td>\n",
              "      <td>1</td>\n",
              "      <td>2</td>\n",
              "      <td>150</td>\n",
              "      <td>0</td>\n",
              "      <td>2.3</td>\n",
              "      <td>3</td>\n",
              "      <td>0</td>\n",
              "      <td>6</td>\n",
              "      <td>0</td>\n",
              "      <td>No Disease</td>\n",
              "      <td>Male</td>\n",
              "      <td>Male No Disease</td>\n",
              "    </tr>\n",
              "    <tr>\n",
              "      <th>1</th>\n",
              "      <td>67</td>\n",
              "      <td>1</td>\n",
              "      <td>4</td>\n",
              "      <td>160</td>\n",
              "      <td>286</td>\n",
              "      <td>0</td>\n",
              "      <td>2</td>\n",
              "      <td>108</td>\n",
              "      <td>1</td>\n",
              "      <td>1.5</td>\n",
              "      <td>2</td>\n",
              "      <td>3</td>\n",
              "      <td>3</td>\n",
              "      <td>1</td>\n",
              "      <td>Disease</td>\n",
              "      <td>Male</td>\n",
              "      <td>Male Disease</td>\n",
              "    </tr>\n",
              "    <tr>\n",
              "      <th>2</th>\n",
              "      <td>67</td>\n",
              "      <td>1</td>\n",
              "      <td>4</td>\n",
              "      <td>120</td>\n",
              "      <td>229</td>\n",
              "      <td>0</td>\n",
              "      <td>2</td>\n",
              "      <td>129</td>\n",
              "      <td>1</td>\n",
              "      <td>2.6</td>\n",
              "      <td>2</td>\n",
              "      <td>2</td>\n",
              "      <td>7</td>\n",
              "      <td>1</td>\n",
              "      <td>Disease</td>\n",
              "      <td>Male</td>\n",
              "      <td>Male Disease</td>\n",
              "    </tr>\n",
              "    <tr>\n",
              "      <th>3</th>\n",
              "      <td>37</td>\n",
              "      <td>1</td>\n",
              "      <td>3</td>\n",
              "      <td>130</td>\n",
              "      <td>250</td>\n",
              "      <td>0</td>\n",
              "      <td>0</td>\n",
              "      <td>187</td>\n",
              "      <td>0</td>\n",
              "      <td>3.5</td>\n",
              "      <td>3</td>\n",
              "      <td>0</td>\n",
              "      <td>3</td>\n",
              "      <td>0</td>\n",
              "      <td>No Disease</td>\n",
              "      <td>Male</td>\n",
              "      <td>Male No Disease</td>\n",
              "    </tr>\n",
              "    <tr>\n",
              "      <th>4</th>\n",
              "      <td>41</td>\n",
              "      <td>0</td>\n",
              "      <td>2</td>\n",
              "      <td>130</td>\n",
              "      <td>204</td>\n",
              "      <td>0</td>\n",
              "      <td>2</td>\n",
              "      <td>172</td>\n",
              "      <td>0</td>\n",
              "      <td>1.4</td>\n",
              "      <td>1</td>\n",
              "      <td>0</td>\n",
              "      <td>3</td>\n",
              "      <td>0</td>\n",
              "      <td>No Disease</td>\n",
              "      <td>Female</td>\n",
              "      <td>Female No Disease</td>\n",
              "    </tr>\n",
              "  </tbody>\n",
              "</table>\n",
              "</div>"
            ],
            "text/plain": [
              "   age  gender  cp  trestbps  ...  num     disease  gender_desc             groups\n",
              "0   63       1   1       145  ...    0  No Disease         Male    Male No Disease\n",
              "1   67       1   4       160  ...    1     Disease         Male       Male Disease\n",
              "2   67       1   4       120  ...    1     Disease         Male       Male Disease\n",
              "3   37       1   3       130  ...    0  No Disease         Male    Male No Disease\n",
              "4   41       0   2       130  ...    0  No Disease       Female  Female No Disease\n",
              "\n",
              "[5 rows x 17 columns]"
            ]
          },
          "metadata": {
            "tags": []
          },
          "execution_count": 191
        }
      ]
    },
    {
      "cell_type": "markdown",
      "metadata": {
        "id": "bqBqtvKv5Dn-"
      },
      "source": [
        "The final (clean) dataset to perform the evaluation has a total of 297 records and 14 variables (columns). From those, only the continuos variables will be selected to continue with the Experiment"
      ]
    },
    {
      "cell_type": "markdown",
      "metadata": {
        "id": "tIFUjpLFRcPV"
      },
      "source": [
        "Below the correlation between the available variables is calculated.It seems to be some level of correlation with num (presence or absence of the disease) with age, gender and blood pressure (trestbps) and a stronger negative correlation with maximum heart rate (thalach). There is also a good correlation with the chest pain level (cp) and thallium test (thal), but those variables are discrete and with not be used in the Experiment. Still, it needs to be determined if these are significant correlations and can be extrapolated to the general population."
      ]
    },
    {
      "cell_type": "code",
      "metadata": {
        "id": "DxIFLWXRMujr",
        "colab": {
          "base_uri": "https://localhost:8080/",
          "height": 318
        },
        "outputId": "263518d4-a06d-46c8-defc-fd9004beaf1f"
      },
      "source": [
        "heart_data[['age', 'gender', 'cp', 'chol', 'fbs', 'thal', 'thalach', 'trestbps', 'num']].corr()"
      ],
      "execution_count": null,
      "outputs": [
        {
          "output_type": "execute_result",
          "data": {
            "text/html": [
              "<div>\n",
              "<style scoped>\n",
              "    .dataframe tbody tr th:only-of-type {\n",
              "        vertical-align: middle;\n",
              "    }\n",
              "\n",
              "    .dataframe tbody tr th {\n",
              "        vertical-align: top;\n",
              "    }\n",
              "\n",
              "    .dataframe thead th {\n",
              "        text-align: right;\n",
              "    }\n",
              "</style>\n",
              "<table border=\"1\" class=\"dataframe\">\n",
              "  <thead>\n",
              "    <tr style=\"text-align: right;\">\n",
              "      <th></th>\n",
              "      <th>age</th>\n",
              "      <th>gender</th>\n",
              "      <th>cp</th>\n",
              "      <th>chol</th>\n",
              "      <th>fbs</th>\n",
              "      <th>thal</th>\n",
              "      <th>thalach</th>\n",
              "      <th>trestbps</th>\n",
              "      <th>num</th>\n",
              "    </tr>\n",
              "  </thead>\n",
              "  <tbody>\n",
              "    <tr>\n",
              "      <th>age</th>\n",
              "      <td>1.000000</td>\n",
              "      <td>-0.092399</td>\n",
              "      <td>0.110471</td>\n",
              "      <td>0.202644</td>\n",
              "      <td>0.132062</td>\n",
              "      <td>0.126586</td>\n",
              "      <td>-0.394563</td>\n",
              "      <td>0.290476</td>\n",
              "      <td>0.227075</td>\n",
              "    </tr>\n",
              "    <tr>\n",
              "      <th>gender</th>\n",
              "      <td>-0.092399</td>\n",
              "      <td>1.000000</td>\n",
              "      <td>0.008908</td>\n",
              "      <td>-0.198089</td>\n",
              "      <td>0.038850</td>\n",
              "      <td>0.383652</td>\n",
              "      <td>-0.060496</td>\n",
              "      <td>-0.066340</td>\n",
              "      <td>0.278467</td>\n",
              "    </tr>\n",
              "    <tr>\n",
              "      <th>cp</th>\n",
              "      <td>0.110471</td>\n",
              "      <td>0.008908</td>\n",
              "      <td>1.000000</td>\n",
              "      <td>0.072088</td>\n",
              "      <td>-0.057663</td>\n",
              "      <td>0.268500</td>\n",
              "      <td>-0.339308</td>\n",
              "      <td>-0.036980</td>\n",
              "      <td>0.408945</td>\n",
              "    </tr>\n",
              "    <tr>\n",
              "      <th>chol</th>\n",
              "      <td>0.202644</td>\n",
              "      <td>-0.198089</td>\n",
              "      <td>0.072088</td>\n",
              "      <td>1.000000</td>\n",
              "      <td>0.012708</td>\n",
              "      <td>0.010859</td>\n",
              "      <td>-0.000075</td>\n",
              "      <td>0.131536</td>\n",
              "      <td>0.080285</td>\n",
              "    </tr>\n",
              "    <tr>\n",
              "      <th>fbs</th>\n",
              "      <td>0.132062</td>\n",
              "      <td>0.038850</td>\n",
              "      <td>-0.057663</td>\n",
              "      <td>0.012708</td>\n",
              "      <td>1.000000</td>\n",
              "      <td>0.062209</td>\n",
              "      <td>-0.007842</td>\n",
              "      <td>0.180860</td>\n",
              "      <td>0.003167</td>\n",
              "    </tr>\n",
              "    <tr>\n",
              "      <th>thal</th>\n",
              "      <td>0.126586</td>\n",
              "      <td>0.383652</td>\n",
              "      <td>0.268500</td>\n",
              "      <td>0.010859</td>\n",
              "      <td>0.062209</td>\n",
              "      <td>1.000000</td>\n",
              "      <td>-0.274831</td>\n",
              "      <td>0.138183</td>\n",
              "      <td>0.526640</td>\n",
              "    </tr>\n",
              "    <tr>\n",
              "      <th>thalach</th>\n",
              "      <td>-0.394563</td>\n",
              "      <td>-0.060496</td>\n",
              "      <td>-0.339308</td>\n",
              "      <td>-0.000075</td>\n",
              "      <td>-0.007842</td>\n",
              "      <td>-0.274831</td>\n",
              "      <td>1.000000</td>\n",
              "      <td>-0.049108</td>\n",
              "      <td>-0.423817</td>\n",
              "    </tr>\n",
              "    <tr>\n",
              "      <th>trestbps</th>\n",
              "      <td>0.290476</td>\n",
              "      <td>-0.066340</td>\n",
              "      <td>-0.036980</td>\n",
              "      <td>0.131536</td>\n",
              "      <td>0.180860</td>\n",
              "      <td>0.138183</td>\n",
              "      <td>-0.049108</td>\n",
              "      <td>1.000000</td>\n",
              "      <td>0.153490</td>\n",
              "    </tr>\n",
              "    <tr>\n",
              "      <th>num</th>\n",
              "      <td>0.227075</td>\n",
              "      <td>0.278467</td>\n",
              "      <td>0.408945</td>\n",
              "      <td>0.080285</td>\n",
              "      <td>0.003167</td>\n",
              "      <td>0.526640</td>\n",
              "      <td>-0.423817</td>\n",
              "      <td>0.153490</td>\n",
              "      <td>1.000000</td>\n",
              "    </tr>\n",
              "  </tbody>\n",
              "</table>\n",
              "</div>"
            ],
            "text/plain": [
              "               age    gender        cp  ...   thalach  trestbps       num\n",
              "age       1.000000 -0.092399  0.110471  ... -0.394563  0.290476  0.227075\n",
              "gender   -0.092399  1.000000  0.008908  ... -0.060496 -0.066340  0.278467\n",
              "cp        0.110471  0.008908  1.000000  ... -0.339308 -0.036980  0.408945\n",
              "chol      0.202644 -0.198089  0.072088  ... -0.000075  0.131536  0.080285\n",
              "fbs       0.132062  0.038850 -0.057663  ... -0.007842  0.180860  0.003167\n",
              "thal      0.126586  0.383652  0.268500  ... -0.274831  0.138183  0.526640\n",
              "thalach  -0.394563 -0.060496 -0.339308  ...  1.000000 -0.049108 -0.423817\n",
              "trestbps  0.290476 -0.066340 -0.036980  ... -0.049108  1.000000  0.153490\n",
              "num       0.227075  0.278467  0.408945  ... -0.423817  0.153490  1.000000\n",
              "\n",
              "[9 rows x 9 columns]"
            ]
          },
          "metadata": {
            "tags": []
          },
          "execution_count": 192
        }
      ]
    },
    {
      "cell_type": "markdown",
      "metadata": {
        "id": "Pb3ez6Dc3zwc"
      },
      "source": [
        "The variables selected for evaluation will be: thalach, chol, age, trestbp and old peak, because those are the continuous variables in the sample.\n",
        "Boxplots per variable are presented below in an initial approach to understand the data"
      ]
    },
    {
      "cell_type": "markdown",
      "metadata": {
        "id": "ryjhJvtFURFR"
      },
      "source": [
        "# Age Box Plot "
      ]
    },
    {
      "cell_type": "code",
      "metadata": {
        "id": "BYV5xCAt7dTa",
        "colab": {
          "base_uri": "https://localhost:8080/",
          "height": 442
        },
        "outputId": "159280d1-ee3d-48b9-98b5-9d92ab9a5bb3"
      },
      "source": [
        "plt.figure(figsize=(10,7))\n",
        "ax = sns.boxplot(y='age', hue='gender_desc', x = 'disease', data=heart_data)\n",
        "ax.set_xticklabels(ax.get_xticklabels());"
      ],
      "execution_count": null,
      "outputs": [
        {
          "output_type": "display_data",
          "data": {
            "image/png": "[encoded data removed]",
            "text/plain": [
              "<Figure size 720x504 with 1 Axes>"
            ]
          },
          "metadata": {
            "tags": []
          }
        }
      ]
    },
    {
      "cell_type": "markdown",
      "metadata": {
        "id": "wT0PEuoOEGK3"
      },
      "source": [
        "Box plot for age variable shows that there is a difference in the median of the patients with heart disease depending on the gender, male or female. It also shows that there is a smaller range of ages when women develop the heart disease compare to males. Looks like male can develop heart disease as young as late thirties according to the sample, while the earliest female patients have shown heart disease is around fifty years old (except for an outlier showing early forties). Also, looking at the healthy male and females in the study, the range of ages for men in the sample is lower than the one for females, which could be a source of bias in the difference en ages found in the sick patients"
      ]
    },
    {
      "cell_type": "markdown",
      "metadata": {
        "id": "7WvtFsKHUe-g"
      },
      "source": [
        "# Cholesterol (chol) Box Plot"
      ]
    },
    {
      "cell_type": "code",
      "metadata": {
        "id": "bFdd80q87k09",
        "colab": {
          "base_uri": "https://localhost:8080/",
          "height": 442
        },
        "outputId": "8130ef8e-ced8-4032-8d9e-58346a1b2039"
      },
      "source": [
        "plt.figure(figsize=(10,7))\n",
        "ax = sns.boxplot(y='chol', hue='gender_desc', x = 'disease', data=heart_data)\n",
        "ax.set_xticklabels(ax.get_xticklabels());"
      ],
      "execution_count": null,
      "outputs": [
        {
          "output_type": "display_data",
          "data": {
            "image/png": "[encoded data removed]",
            "text/plain": [
              "<Figure size 720x504 with 1 Axes>"
            ]
          },
          "metadata": {
            "tags": []
          }
        }
      ]
    },
    {
      "cell_type": "markdown",
      "metadata": {
        "id": "j2u62FwZ6111"
      },
      "source": [
        "This box plot shows the mean in values in cholesterol for people developing heart disease is slightly different between males and females. Also the mean between healthy male is lower than for healthy women. In general, males in the population show lower cholesterol range of values than females. There are few big outliers in the colesterol values for healthy women"
      ]
    },
    {
      "cell_type": "markdown",
      "metadata": {
        "id": "dTa4puuBWIvy"
      },
      "source": [
        "# Maximum heart rate (thalach) Box Plot"
      ]
    },
    {
      "cell_type": "code",
      "metadata": {
        "id": "1nIcs-Dtmfav",
        "colab": {
          "base_uri": "https://localhost:8080/",
          "height": 442
        },
        "outputId": "59bddb1c-67ca-4da8-de87-a0855fc003f5"
      },
      "source": [
        "plt.figure(figsize=(10,7))\n",
        "ax = sns.boxplot(y='thalach', hue='gender_desc', x = 'disease', data=heart_data)\n",
        "ax.set_xticklabels(ax.get_xticklabels());"
      ],
      "execution_count": null,
      "outputs": [
        {
          "output_type": "display_data",
          "data": {
            "image/png": "[encoded data removed]",
            "text/plain": [
              "<Figure size 720x504 with 1 Axes>"
            ]
          },
          "metadata": {
            "tags": []
          }
        }
      ]
    },
    {
      "cell_type": "markdown",
      "metadata": {
        "id": "XcFxjWNnIKOO"
      },
      "source": [
        "Box plot for maximum heart rate shows an important difference between the maximum heart rate for patients with the disease and without the disease, showing that sick people will have much lower maximum heart rate than healthy patients. The median of the maximum heart rate in sick male patients is the lowest across the four groups and has a wider range of values than female patients"
      ]
    },
    {
      "cell_type": "markdown",
      "metadata": {
        "id": "RIj09LgQaiN6"
      },
      "source": [
        "# Resting blood pressure (in mmHG) Box Plot"
      ]
    },
    {
      "cell_type": "code",
      "metadata": {
        "id": "JoiUoqjPmojL",
        "colab": {
          "base_uri": "https://localhost:8080/",
          "height": 442
        },
        "outputId": "f935f0e2-e3b2-4caa-8998-06a21163d8cc"
      },
      "source": [
        "plt.figure(figsize=(10,7))\n",
        "ax = sns.boxplot(y='trestbps', hue='gender_desc', x = 'disease', data=heart_data)\n",
        "ax.set_xticklabels(ax.get_xticklabels());"
      ],
      "execution_count": null,
      "outputs": [
        {
          "output_type": "display_data",
          "data": {
            "image/png": "[encoded data removed]",
            "text/plain": [
              "<Figure size 720x504 with 1 Axes>"
            ]
          },
          "metadata": {
            "tags": []
          }
        }
      ]
    },
    {
      "cell_type": "markdown",
      "metadata": {
        "id": "UwaxqOl1a4Ek"
      },
      "source": [
        "Blood pressure box plot shows same value for healthy male and female patients. However, a noticeable difference is observed between male and female with the heart disease, showing that females have a bigger range of values and higher median blood pressure than males."
      ]
    },
    {
      "cell_type": "markdown",
      "metadata": {
        "id": "hxPJk8HTdZVi"
      },
      "source": [
        "# Data Distribution"
      ]
    },
    {
      "cell_type": "markdown",
      "metadata": {
        "id": "FQZX0eqndhhM"
      },
      "source": [
        "Below will be presented a set of distribution plots as well as Shapiro test calculations used to check for normality in the data"
      ]
    },
    {
      "cell_type": "markdown",
      "metadata": {
        "id": "NbVfCa8igbMk"
      },
      "source": [
        "Age Distribution Plot"
      ]
    },
    {
      "cell_type": "code",
      "metadata": {
        "id": "RjcQBJ_e-9dn",
        "colab": {
          "base_uri": "https://localhost:8080/",
          "height": 478
        },
        "outputId": "0eaaefe7-d056-4511-fdb0-7ff07d865987"
      },
      "source": [
        "print(stats.describe(heart_data['age']))\n",
        "print(stats.shapiro(heart_data['age']))\n",
        "\n",
        "sns.set_style('whitegrid')\n",
        "plt.figure(figsize=(10,7))\n",
        "ax = sns.distplot(heart_data['age'], bins=10)\n",
        "plt.show()"
      ],
      "execution_count": null,
      "outputs": [
        {
          "output_type": "stream",
          "text": [
            "DescribeResult(nobs=297, minmax=(29, 77), mean=54.54208754208754, variance=81.8977158977159, skewness=-0.21866298850409271, kurtosis=-0.5331455867755306)\n",
            "(0.9859727025032043, 0.005422485060989857)\n"
          ],
          "name": "stdout"
        },
        {
          "output_type": "display_data",
          "data": {
            "image/png": "[encoded data removed]",
            "text/plain": [
              "<Figure size 720x504 with 1 Axes>"
            ]
          },
          "metadata": {
            "tags": []
          }
        }
      ]
    },
    {
      "cell_type": "markdown",
      "metadata": {
        "id": "G9CL_gBVw3LQ"
      },
      "source": [
        "Age variable histogram shows a \"close to normal\" distribution, however, values of Shapiro Wilk test indicates that the sample is not normally distributed (p_value < 0.05). Shapiro Wilks is sensitive to sample size, however sample size in this group is 297 data points, which is an acceptable sample size for the test to be considered reliable"
      ]
    },
    {
      "cell_type": "markdown",
      "metadata": {
        "id": "KTfDNbfFgiG8"
      },
      "source": [
        "Cholesterol (chol) Distribution Plot"
      ]
    },
    {
      "cell_type": "code",
      "metadata": {
        "id": "ZjZ0WavYBGhK",
        "colab": {
          "base_uri": "https://localhost:8080/",
          "height": 478
        },
        "outputId": "1112aa1a-4b51-4b5a-c2d1-e2ea3c169e9d"
      },
      "source": [
        "print(stats.describe(heart_data['chol']))\n",
        "print(stats.shapiro(heart_data['chol']))\n",
        "\n",
        "sns.set_style('whitegrid')\n",
        "plt.figure(figsize=(10,7))\n",
        "ax = sns.distplot(heart_data['chol'], bins=10)\n",
        "plt.show()"
      ],
      "execution_count": null,
      "outputs": [
        {
          "output_type": "stream",
          "text": [
            "DescribeResult(nobs=297, minmax=(126, 564), mean=247.35016835016836, variance=2703.7485894985894, skewness=1.1124406345568274, kurtosis=4.3494788937348225)\n",
            "(0.9482876062393188, 1.019053552653304e-08)\n"
          ],
          "name": "stdout"
        },
        {
          "output_type": "display_data",
          "data": {
            "image/png": "[encoded data removed]",
            "text/plain": [
              "<Figure size 720x504 with 1 Axes>"
            ]
          },
          "metadata": {
            "tags": []
          }
        }
      ]
    },
    {
      "cell_type": "markdown",
      "metadata": {
        "id": "4h2qKehqyyF3"
      },
      "source": [
        "The histogram for the colesterol (chol) variable shows a not normal distribution. There are a couple of outliers (that are obvious in the boxplot)  that might be responsible for the deviation in the normality of the distribution. Shapiro Wilks p_value is < 0.05 indicating that, in fact, the sample does not have a normal distribution"
      ]
    },
    {
      "cell_type": "markdown",
      "metadata": {
        "id": "0XobHv1piwhP"
      },
      "source": [
        "Maximum Heart Rate (thalach) Distribution Plot"
      ]
    },
    {
      "cell_type": "code",
      "metadata": {
        "id": "WfP1WruaqIky",
        "colab": {
          "base_uri": "https://localhost:8080/",
          "height": 478
        },
        "outputId": "0b8e6fb5-c957-4a4d-a3b8-bdef52da0ea5"
      },
      "source": [
        "print(stats.describe(heart_data['thalach']))\n",
        "print(stats.shapiro(heart_data['thalach']))\n",
        "\n",
        "sns.set_style('whitegrid')\n",
        "plt.figure(figsize=(10,7))\n",
        "ax = sns.distplot(heart_data['thalach'], bins=10)\n",
        "plt.show()"
      ],
      "execution_count": null,
      "outputs": [
        {
          "output_type": "stream",
          "text": [
            "DescribeResult(nobs=297, minmax=(71, 202), mean=149.5993265993266, variance=526.3152698152699, skewness=-0.5338264709425441, kurtosis=-0.07111471609848197)\n",
            "(0.9766384363174438, 9.040298027684912e-05)\n"
          ],
          "name": "stdout"
        },
        {
          "output_type": "display_data",
          "data": {
            "image/png": "[encoded data removed]",
            "text/plain": [
              "<Figure size 720x504 with 1 Axes>"
            ]
          },
          "metadata": {
            "tags": []
          }
        }
      ]
    },
    {
      "cell_type": "markdown",
      "metadata": {
        "id": "QD1AJPkBLOMT"
      },
      "source": [
        "For maximum heart rate achieved (thalach value) Shapiro-Wilk test p-value is < 0.05 which rejects the status quo of normality. The variable is considered not to have a normal distribution"
      ]
    },
    {
      "cell_type": "markdown",
      "metadata": {
        "id": "uAhBkkrfjY1I"
      },
      "source": [
        "Resting blood pressure (in mmHG) Distribution Plot"
      ]
    },
    {
      "cell_type": "code",
      "metadata": {
        "id": "OlV7GNfZqOiu",
        "colab": {
          "base_uri": "https://localhost:8080/",
          "height": 478
        },
        "outputId": "e89ac8b5-a614-4494-a1c2-96a73e71bd8b"
      },
      "source": [
        "print(stats.describe(heart_data['trestbps']))\n",
        "print(stats.shapiro(heart_data['trestbps']))\n",
        "\n",
        "sns.set_style('whitegrid')\n",
        "plt.figure(figsize=(10,7))\n",
        "ax = sns.distplot(heart_data['trestbps'], bins=10)\n",
        "plt.show()"
      ],
      "execution_count": null,
      "outputs": [
        {
          "output_type": "stream",
          "text": [
            "DescribeResult(nobs=297, minmax=(94, 200), mean=131.69360269360268, variance=315.51729001729, skewness=0.6965290400835603, kurtosis=0.7811918702633434)\n",
            "(0.9667584896087646, 2.4160372049664147e-06)\n"
          ],
          "name": "stdout"
        },
        {
          "output_type": "display_data",
          "data": {
            "image/png": "[encoded data removed]",
            "text/plain": [
              "<Figure size 720x504 with 1 Axes>"
            ]
          },
          "metadata": {
            "tags": []
          }
        }
      ]
    },
    {
      "cell_type": "markdown",
      "metadata": {
        "id": "-mQdS-Z8j9Jm"
      },
      "source": [
        "For resting blood pressure (trestbps value) Shapiro-Wilk test p-value is < 0.05 which rejects the hypothesis of normality. The variable is considered not to have a normal distribution"
      ]
    },
    {
      "cell_type": "code",
      "metadata": {
        "id": "1WZjKZ3mqVf8",
        "colab": {
          "base_uri": "https://localhost:8080/",
          "height": 478
        },
        "outputId": "c1c3e9b3-414c-4c47-df97-a8044af2b20c"
      },
      "source": [
        "print(stats.describe(heart_data['oldpeak']))\n",
        "print(stats.shapiro(heart_data['oldpeak']))\n",
        "\n",
        "sns.set_style('whitegrid')\n",
        "plt.figure(figsize=(10,7))\n",
        "ax = sns.distplot(heart_data['oldpeak'], bins=10)\n",
        "plt.show()"
      ],
      "execution_count": null,
      "outputs": [
        {
          "output_type": "stream",
          "text": [
            "DescribeResult(nobs=297, minmax=(0.0, 6.2), mean=1.0555555555555556, variance=1.3598423423423422, skewness=1.2408238237336568, kurtosis=1.465519759643283)\n",
            "(0.8481452465057373, 2.0405141489875323e-16)\n"
          ],
          "name": "stdout"
        },
        {
          "output_type": "display_data",
          "data": {
            "image/png": "[encoded data removed]",
            "text/plain": [
              "<Figure size 720x504 with 1 Axes>"
            ]
          },
          "metadata": {
            "tags": []
          }
        }
      ]
    },
    {
      "cell_type": "markdown",
      "metadata": {
        "id": "0lecUdpPkiQO"
      },
      "source": [
        "Old peak variable seems to have a not normal distribution just using visual inspection of the plot. Shapiro Wilks test also confirms that the variable is not normaly distributed"
      ]
    },
    {
      "cell_type": "markdown",
      "metadata": {
        "id": "O80ekRi8wT0m"
      },
      "source": [
        "All values of Shapiro - Wilk for evaluated samples indicate that none of the evaluated variables is normally distributed"
      ]
    },
    {
      "cell_type": "markdown",
      "metadata": {
        "id": "C6OrAiWLdwms"
      },
      "source": [
        "# Grouping the Data for the Experiment"
      ]
    },
    {
      "cell_type": "markdown",
      "metadata": {
        "id": "IdG8Ow1MlNOa"
      },
      "source": [
        "For the purpose of the study and to evaluate the statistical significance of the correlation of the selected variables with the possibility of the disease according the gender, the sample will be splitted in 4 different groups: male_disease, male_no_disease, female_disease, female_no_disease"
      ]
    },
    {
      "cell_type": "markdown",
      "metadata": {
        "id": "WE0bKtqWmfz0"
      },
      "source": [
        "Male with Heart Disease Group"
      ]
    },
    {
      "cell_type": "code",
      "metadata": {
        "id": "A3MXdB-4AmhY",
        "colab": {
          "base_uri": "https://localhost:8080/",
          "height": 407
        },
        "outputId": "f298c729-3bb7-4f8f-b682-f9e950686db6"
      },
      "source": [
        "male_disease = (heart_data['gender']==1) & (heart_data['num']==1)\n",
        "male_disease = heart_data.iloc[male_disease.values]\n",
        "male_disease"
      ],
      "execution_count": null,
      "outputs": [
        {
          "output_type": "execute_result",
          "data": {
            "text/html": [
              "<div>\n",
              "<style scoped>\n",
              "    .dataframe tbody tr th:only-of-type {\n",
              "        vertical-align: middle;\n",
              "    }\n",
              "\n",
              "    .dataframe tbody tr th {\n",
              "        vertical-align: top;\n",
              "    }\n",
              "\n",
              "    .dataframe thead th {\n",
              "        text-align: right;\n",
              "    }\n",
              "</style>\n",
              "<table border=\"1\" class=\"dataframe\">\n",
              "  <thead>\n",
              "    <tr style=\"text-align: right;\">\n",
              "      <th></th>\n",
              "      <th>age</th>\n",
              "      <th>gender</th>\n",
              "      <th>cp</th>\n",
              "      <th>trestbps</th>\n",
              "      <th>chol</th>\n",
              "      <th>fbs</th>\n",
              "      <th>restecg</th>\n",
              "      <th>thalach</th>\n",
              "      <th>exang</th>\n",
              "      <th>oldpeak</th>\n",
              "      <th>slope</th>\n",
              "      <th>ca</th>\n",
              "      <th>thal</th>\n",
              "      <th>num</th>\n",
              "      <th>disease</th>\n",
              "      <th>gender_desc</th>\n",
              "      <th>groups</th>\n",
              "    </tr>\n",
              "  </thead>\n",
              "  <tbody>\n",
              "    <tr>\n",
              "      <th>1</th>\n",
              "      <td>67</td>\n",
              "      <td>1</td>\n",
              "      <td>4</td>\n",
              "      <td>160</td>\n",
              "      <td>286</td>\n",
              "      <td>0</td>\n",
              "      <td>2</td>\n",
              "      <td>108</td>\n",
              "      <td>1</td>\n",
              "      <td>1.5</td>\n",
              "      <td>2</td>\n",
              "      <td>3</td>\n",
              "      <td>3</td>\n",
              "      <td>1</td>\n",
              "      <td>Disease</td>\n",
              "      <td>Male</td>\n",
              "      <td>Male Disease</td>\n",
              "    </tr>\n",
              "    <tr>\n",
              "      <th>2</th>\n",
              "      <td>67</td>\n",
              "      <td>1</td>\n",
              "      <td>4</td>\n",
              "      <td>120</td>\n",
              "      <td>229</td>\n",
              "      <td>0</td>\n",
              "      <td>2</td>\n",
              "      <td>129</td>\n",
              "      <td>1</td>\n",
              "      <td>2.6</td>\n",
              "      <td>2</td>\n",
              "      <td>2</td>\n",
              "      <td>7</td>\n",
              "      <td>1</td>\n",
              "      <td>Disease</td>\n",
              "      <td>Male</td>\n",
              "      <td>Male Disease</td>\n",
              "    </tr>\n",
              "    <tr>\n",
              "      <th>8</th>\n",
              "      <td>63</td>\n",
              "      <td>1</td>\n",
              "      <td>4</td>\n",
              "      <td>130</td>\n",
              "      <td>254</td>\n",
              "      <td>0</td>\n",
              "      <td>2</td>\n",
              "      <td>147</td>\n",
              "      <td>0</td>\n",
              "      <td>1.4</td>\n",
              "      <td>2</td>\n",
              "      <td>1</td>\n",
              "      <td>7</td>\n",
              "      <td>1</td>\n",
              "      <td>Disease</td>\n",
              "      <td>Male</td>\n",
              "      <td>Male Disease</td>\n",
              "    </tr>\n",
              "    <tr>\n",
              "      <th>9</th>\n",
              "      <td>53</td>\n",
              "      <td>1</td>\n",
              "      <td>4</td>\n",
              "      <td>140</td>\n",
              "      <td>203</td>\n",
              "      <td>1</td>\n",
              "      <td>2</td>\n",
              "      <td>155</td>\n",
              "      <td>1</td>\n",
              "      <td>3.1</td>\n",
              "      <td>3</td>\n",
              "      <td>0</td>\n",
              "      <td>7</td>\n",
              "      <td>1</td>\n",
              "      <td>Disease</td>\n",
              "      <td>Male</td>\n",
              "      <td>Male Disease</td>\n",
              "    </tr>\n",
              "    <tr>\n",
              "      <th>12</th>\n",
              "      <td>56</td>\n",
              "      <td>1</td>\n",
              "      <td>3</td>\n",
              "      <td>130</td>\n",
              "      <td>256</td>\n",
              "      <td>1</td>\n",
              "      <td>2</td>\n",
              "      <td>142</td>\n",
              "      <td>1</td>\n",
              "      <td>0.6</td>\n",
              "      <td>2</td>\n",
              "      <td>1</td>\n",
              "      <td>6</td>\n",
              "      <td>1</td>\n",
              "      <td>Disease</td>\n",
              "      <td>Male</td>\n",
              "      <td>Male Disease</td>\n",
              "    </tr>\n",
              "    <tr>\n",
              "      <th>...</th>\n",
              "      <td>...</td>\n",
              "      <td>...</td>\n",
              "      <td>...</td>\n",
              "      <td>...</td>\n",
              "      <td>...</td>\n",
              "      <td>...</td>\n",
              "      <td>...</td>\n",
              "      <td>...</td>\n",
              "      <td>...</td>\n",
              "      <td>...</td>\n",
              "      <td>...</td>\n",
              "      <td>...</td>\n",
              "      <td>...</td>\n",
              "      <td>...</td>\n",
              "      <td>...</td>\n",
              "      <td>...</td>\n",
              "      <td>...</td>\n",
              "    </tr>\n",
              "    <tr>\n",
              "      <th>293</th>\n",
              "      <td>63</td>\n",
              "      <td>1</td>\n",
              "      <td>4</td>\n",
              "      <td>140</td>\n",
              "      <td>187</td>\n",
              "      <td>0</td>\n",
              "      <td>2</td>\n",
              "      <td>144</td>\n",
              "      <td>1</td>\n",
              "      <td>4.0</td>\n",
              "      <td>1</td>\n",
              "      <td>2</td>\n",
              "      <td>7</td>\n",
              "      <td>1</td>\n",
              "      <td>Disease</td>\n",
              "      <td>Male</td>\n",
              "      <td>Male Disease</td>\n",
              "    </tr>\n",
              "    <tr>\n",
              "      <th>296</th>\n",
              "      <td>59</td>\n",
              "      <td>1</td>\n",
              "      <td>4</td>\n",
              "      <td>164</td>\n",
              "      <td>176</td>\n",
              "      <td>1</td>\n",
              "      <td>2</td>\n",
              "      <td>90</td>\n",
              "      <td>0</td>\n",
              "      <td>1.0</td>\n",
              "      <td>2</td>\n",
              "      <td>2</td>\n",
              "      <td>6</td>\n",
              "      <td>1</td>\n",
              "      <td>Disease</td>\n",
              "      <td>Male</td>\n",
              "      <td>Male Disease</td>\n",
              "    </tr>\n",
              "    <tr>\n",
              "      <th>298</th>\n",
              "      <td>45</td>\n",
              "      <td>1</td>\n",
              "      <td>1</td>\n",
              "      <td>110</td>\n",
              "      <td>264</td>\n",
              "      <td>0</td>\n",
              "      <td>0</td>\n",
              "      <td>132</td>\n",
              "      <td>0</td>\n",
              "      <td>1.2</td>\n",
              "      <td>2</td>\n",
              "      <td>0</td>\n",
              "      <td>7</td>\n",
              "      <td>1</td>\n",
              "      <td>Disease</td>\n",
              "      <td>Male</td>\n",
              "      <td>Male Disease</td>\n",
              "    </tr>\n",
              "    <tr>\n",
              "      <th>299</th>\n",
              "      <td>68</td>\n",
              "      <td>1</td>\n",
              "      <td>4</td>\n",
              "      <td>144</td>\n",
              "      <td>193</td>\n",
              "      <td>1</td>\n",
              "      <td>0</td>\n",
              "      <td>141</td>\n",
              "      <td>0</td>\n",
              "      <td>3.4</td>\n",
              "      <td>2</td>\n",
              "      <td>2</td>\n",
              "      <td>7</td>\n",
              "      <td>1</td>\n",
              "      <td>Disease</td>\n",
              "      <td>Male</td>\n",
              "      <td>Male Disease</td>\n",
              "    </tr>\n",
              "    <tr>\n",
              "      <th>300</th>\n",
              "      <td>57</td>\n",
              "      <td>1</td>\n",
              "      <td>4</td>\n",
              "      <td>130</td>\n",
              "      <td>131</td>\n",
              "      <td>0</td>\n",
              "      <td>0</td>\n",
              "      <td>115</td>\n",
              "      <td>1</td>\n",
              "      <td>1.2</td>\n",
              "      <td>2</td>\n",
              "      <td>1</td>\n",
              "      <td>7</td>\n",
              "      <td>1</td>\n",
              "      <td>Disease</td>\n",
              "      <td>Male</td>\n",
              "      <td>Male Disease</td>\n",
              "    </tr>\n",
              "  </tbody>\n",
              "</table>\n",
              "<p>112 rows × 17 columns</p>\n",
              "</div>"
            ],
            "text/plain": [
              "     age  gender  cp  trestbps  ...  num  disease  gender_desc        groups\n",
              "1     67       1   4       160  ...    1  Disease         Male  Male Disease\n",
              "2     67       1   4       120  ...    1  Disease         Male  Male Disease\n",
              "8     63       1   4       130  ...    1  Disease         Male  Male Disease\n",
              "9     53       1   4       140  ...    1  Disease         Male  Male Disease\n",
              "12    56       1   3       130  ...    1  Disease         Male  Male Disease\n",
              "..   ...     ...  ..       ...  ...  ...      ...          ...           ...\n",
              "293   63       1   4       140  ...    1  Disease         Male  Male Disease\n",
              "296   59       1   4       164  ...    1  Disease         Male  Male Disease\n",
              "298   45       1   1       110  ...    1  Disease         Male  Male Disease\n",
              "299   68       1   4       144  ...    1  Disease         Male  Male Disease\n",
              "300   57       1   4       130  ...    1  Disease         Male  Male Disease\n",
              "\n",
              "[112 rows x 17 columns]"
            ]
          },
          "metadata": {
            "tags": []
          },
          "execution_count": 202
        }
      ]
    },
    {
      "cell_type": "code",
      "metadata": {
        "id": "a8jPb07zq4Qb",
        "colab": {
          "base_uri": "https://localhost:8080/",
          "height": 288
        },
        "outputId": "96e84ec7-b009-4e13-a860-88eb43fdeaae"
      },
      "source": [
        "male_disease.describe()"
      ],
      "execution_count": null,
      "outputs": [
        {
          "output_type": "execute_result",
          "data": {
            "text/html": [
              "<div>\n",
              "<style scoped>\n",
              "    .dataframe tbody tr th:only-of-type {\n",
              "        vertical-align: middle;\n",
              "    }\n",
              "\n",
              "    .dataframe tbody tr th {\n",
              "        vertical-align: top;\n",
              "    }\n",
              "\n",
              "    .dataframe thead th {\n",
              "        text-align: right;\n",
              "    }\n",
              "</style>\n",
              "<table border=\"1\" class=\"dataframe\">\n",
              "  <thead>\n",
              "    <tr style=\"text-align: right;\">\n",
              "      <th></th>\n",
              "      <th>age</th>\n",
              "      <th>gender</th>\n",
              "      <th>cp</th>\n",
              "      <th>trestbps</th>\n",
              "      <th>chol</th>\n",
              "      <th>fbs</th>\n",
              "      <th>restecg</th>\n",
              "      <th>thalach</th>\n",
              "      <th>exang</th>\n",
              "      <th>oldpeak</th>\n",
              "      <th>slope</th>\n",
              "      <th>ca</th>\n",
              "      <th>thal</th>\n",
              "      <th>num</th>\n",
              "    </tr>\n",
              "  </thead>\n",
              "  <tbody>\n",
              "    <tr>\n",
              "      <th>count</th>\n",
              "      <td>112.000000</td>\n",
              "      <td>112.0</td>\n",
              "      <td>112.000000</td>\n",
              "      <td>112.000000</td>\n",
              "      <td>112.000000</td>\n",
              "      <td>112.000000</td>\n",
              "      <td>112.000000</td>\n",
              "      <td>112.000000</td>\n",
              "      <td>112.000000</td>\n",
              "      <td>112.000000</td>\n",
              "      <td>112.000000</td>\n",
              "      <td>112.000000</td>\n",
              "      <td>112.000000</td>\n",
              "      <td>112.0</td>\n",
              "    </tr>\n",
              "    <tr>\n",
              "      <th>mean</th>\n",
              "      <td>56.241071</td>\n",
              "      <td>1.0</td>\n",
              "      <td>3.535714</td>\n",
              "      <td>131.964286</td>\n",
              "      <td>246.428571</td>\n",
              "      <td>0.125000</td>\n",
              "      <td>1.169643</td>\n",
              "      <td>138.205357</td>\n",
              "      <td>0.535714</td>\n",
              "      <td>1.549107</td>\n",
              "      <td>1.785714</td>\n",
              "      <td>1.125000</td>\n",
              "      <td>5.973214</td>\n",
              "      <td>1.0</td>\n",
              "    </tr>\n",
              "    <tr>\n",
              "      <th>std</th>\n",
              "      <td>8.358246</td>\n",
              "      <td>0.0</td>\n",
              "      <td>0.869178</td>\n",
              "      <td>17.367739</td>\n",
              "      <td>45.670917</td>\n",
              "      <td>0.332205</td>\n",
              "      <td>0.985374</td>\n",
              "      <td>23.225157</td>\n",
              "      <td>0.500964</td>\n",
              "      <td>1.229810</td>\n",
              "      <td>0.576235</td>\n",
              "      <td>0.987535</td>\n",
              "      <td>1.668251</td>\n",
              "      <td>0.0</td>\n",
              "    </tr>\n",
              "    <tr>\n",
              "      <th>min</th>\n",
              "      <td>35.000000</td>\n",
              "      <td>1.0</td>\n",
              "      <td>1.000000</td>\n",
              "      <td>100.000000</td>\n",
              "      <td>131.000000</td>\n",
              "      <td>0.000000</td>\n",
              "      <td>0.000000</td>\n",
              "      <td>71.000000</td>\n",
              "      <td>0.000000</td>\n",
              "      <td>0.000000</td>\n",
              "      <td>1.000000</td>\n",
              "      <td>0.000000</td>\n",
              "      <td>3.000000</td>\n",
              "      <td>1.0</td>\n",
              "    </tr>\n",
              "    <tr>\n",
              "      <th>25%</th>\n",
              "      <td>51.000000</td>\n",
              "      <td>1.0</td>\n",
              "      <td>3.000000</td>\n",
              "      <td>120.000000</td>\n",
              "      <td>212.000000</td>\n",
              "      <td>0.000000</td>\n",
              "      <td>0.000000</td>\n",
              "      <td>124.750000</td>\n",
              "      <td>0.000000</td>\n",
              "      <td>0.600000</td>\n",
              "      <td>1.000000</td>\n",
              "      <td>0.000000</td>\n",
              "      <td>6.000000</td>\n",
              "      <td>1.0</td>\n",
              "    </tr>\n",
              "    <tr>\n",
              "      <th>50%</th>\n",
              "      <td>58.000000</td>\n",
              "      <td>1.0</td>\n",
              "      <td>4.000000</td>\n",
              "      <td>130.000000</td>\n",
              "      <td>248.500000</td>\n",
              "      <td>0.000000</td>\n",
              "      <td>2.000000</td>\n",
              "      <td>140.500000</td>\n",
              "      <td>1.000000</td>\n",
              "      <td>1.400000</td>\n",
              "      <td>2.000000</td>\n",
              "      <td>1.000000</td>\n",
              "      <td>7.000000</td>\n",
              "      <td>1.0</td>\n",
              "    </tr>\n",
              "    <tr>\n",
              "      <th>75%</th>\n",
              "      <td>61.000000</td>\n",
              "      <td>1.0</td>\n",
              "      <td>4.000000</td>\n",
              "      <td>140.000000</td>\n",
              "      <td>282.000000</td>\n",
              "      <td>0.000000</td>\n",
              "      <td>2.000000</td>\n",
              "      <td>156.500000</td>\n",
              "      <td>1.000000</td>\n",
              "      <td>2.425000</td>\n",
              "      <td>2.000000</td>\n",
              "      <td>2.000000</td>\n",
              "      <td>7.000000</td>\n",
              "      <td>1.0</td>\n",
              "    </tr>\n",
              "    <tr>\n",
              "      <th>max</th>\n",
              "      <td>77.000000</td>\n",
              "      <td>1.0</td>\n",
              "      <td>4.000000</td>\n",
              "      <td>192.000000</td>\n",
              "      <td>353.000000</td>\n",
              "      <td>1.000000</td>\n",
              "      <td>2.000000</td>\n",
              "      <td>195.000000</td>\n",
              "      <td>1.000000</td>\n",
              "      <td>5.600000</td>\n",
              "      <td>3.000000</td>\n",
              "      <td>3.000000</td>\n",
              "      <td>7.000000</td>\n",
              "      <td>1.0</td>\n",
              "    </tr>\n",
              "  </tbody>\n",
              "</table>\n",
              "</div>"
            ],
            "text/plain": [
              "              age  gender          cp  ...          ca        thal    num\n",
              "count  112.000000   112.0  112.000000  ...  112.000000  112.000000  112.0\n",
              "mean    56.241071     1.0    3.535714  ...    1.125000    5.973214    1.0\n",
              "std      8.358246     0.0    0.869178  ...    0.987535    1.668251    0.0\n",
              "min     35.000000     1.0    1.000000  ...    0.000000    3.000000    1.0\n",
              "25%     51.000000     1.0    3.000000  ...    0.000000    6.000000    1.0\n",
              "50%     58.000000     1.0    4.000000  ...    1.000000    7.000000    1.0\n",
              "75%     61.000000     1.0    4.000000  ...    2.000000    7.000000    1.0\n",
              "max     77.000000     1.0    4.000000  ...    3.000000    7.000000    1.0\n",
              "\n",
              "[8 rows x 14 columns]"
            ]
          },
          "metadata": {
            "tags": []
          },
          "execution_count": 203
        }
      ]
    },
    {
      "cell_type": "markdown",
      "metadata": {
        "id": "kCEjycV9oqwe"
      },
      "source": [
        "Male without Heart Disease Group"
      ]
    },
    {
      "cell_type": "code",
      "metadata": {
        "id": "L2IbWHz5nU7P",
        "colab": {
          "base_uri": "https://localhost:8080/",
          "height": 407
        },
        "outputId": "7eae9d34-75df-423f-ca69-c68b9270a8ad"
      },
      "source": [
        "male_no_disease = (heart_data['gender']==1) & (heart_data['num']==0)\n",
        "male_no_disease = heart_data.iloc[male_no_disease.values]\n",
        "male_no_disease"
      ],
      "execution_count": null,
      "outputs": [
        {
          "output_type": "execute_result",
          "data": {
            "text/html": [
              "<div>\n",
              "<style scoped>\n",
              "    .dataframe tbody tr th:only-of-type {\n",
              "        vertical-align: middle;\n",
              "    }\n",
              "\n",
              "    .dataframe tbody tr th {\n",
              "        vertical-align: top;\n",
              "    }\n",
              "\n",
              "    .dataframe thead th {\n",
              "        text-align: right;\n",
              "    }\n",
              "</style>\n",
              "<table border=\"1\" class=\"dataframe\">\n",
              "  <thead>\n",
              "    <tr style=\"text-align: right;\">\n",
              "      <th></th>\n",
              "      <th>age</th>\n",
              "      <th>gender</th>\n",
              "      <th>cp</th>\n",
              "      <th>trestbps</th>\n",
              "      <th>chol</th>\n",
              "      <th>fbs</th>\n",
              "      <th>restecg</th>\n",
              "      <th>thalach</th>\n",
              "      <th>exang</th>\n",
              "      <th>oldpeak</th>\n",
              "      <th>slope</th>\n",
              "      <th>ca</th>\n",
              "      <th>thal</th>\n",
              "      <th>num</th>\n",
              "      <th>disease</th>\n",
              "      <th>gender_desc</th>\n",
              "      <th>groups</th>\n",
              "    </tr>\n",
              "  </thead>\n",
              "  <tbody>\n",
              "    <tr>\n",
              "      <th>0</th>\n",
              "      <td>63</td>\n",
              "      <td>1</td>\n",
              "      <td>1</td>\n",
              "      <td>145</td>\n",
              "      <td>233</td>\n",
              "      <td>1</td>\n",
              "      <td>2</td>\n",
              "      <td>150</td>\n",
              "      <td>0</td>\n",
              "      <td>2.3</td>\n",
              "      <td>3</td>\n",
              "      <td>0</td>\n",
              "      <td>6</td>\n",
              "      <td>0</td>\n",
              "      <td>No Disease</td>\n",
              "      <td>Male</td>\n",
              "      <td>Male No Disease</td>\n",
              "    </tr>\n",
              "    <tr>\n",
              "      <th>3</th>\n",
              "      <td>37</td>\n",
              "      <td>1</td>\n",
              "      <td>3</td>\n",
              "      <td>130</td>\n",
              "      <td>250</td>\n",
              "      <td>0</td>\n",
              "      <td>0</td>\n",
              "      <td>187</td>\n",
              "      <td>0</td>\n",
              "      <td>3.5</td>\n",
              "      <td>3</td>\n",
              "      <td>0</td>\n",
              "      <td>3</td>\n",
              "      <td>0</td>\n",
              "      <td>No Disease</td>\n",
              "      <td>Male</td>\n",
              "      <td>Male No Disease</td>\n",
              "    </tr>\n",
              "    <tr>\n",
              "      <th>5</th>\n",
              "      <td>56</td>\n",
              "      <td>1</td>\n",
              "      <td>2</td>\n",
              "      <td>120</td>\n",
              "      <td>236</td>\n",
              "      <td>0</td>\n",
              "      <td>0</td>\n",
              "      <td>178</td>\n",
              "      <td>0</td>\n",
              "      <td>0.8</td>\n",
              "      <td>1</td>\n",
              "      <td>0</td>\n",
              "      <td>3</td>\n",
              "      <td>0</td>\n",
              "      <td>No Disease</td>\n",
              "      <td>Male</td>\n",
              "      <td>Male No Disease</td>\n",
              "    </tr>\n",
              "    <tr>\n",
              "      <th>10</th>\n",
              "      <td>57</td>\n",
              "      <td>1</td>\n",
              "      <td>4</td>\n",
              "      <td>140</td>\n",
              "      <td>192</td>\n",
              "      <td>0</td>\n",
              "      <td>0</td>\n",
              "      <td>148</td>\n",
              "      <td>0</td>\n",
              "      <td>0.4</td>\n",
              "      <td>2</td>\n",
              "      <td>0</td>\n",
              "      <td>6</td>\n",
              "      <td>0</td>\n",
              "      <td>No Disease</td>\n",
              "      <td>Male</td>\n",
              "      <td>Male No Disease</td>\n",
              "    </tr>\n",
              "    <tr>\n",
              "      <th>13</th>\n",
              "      <td>44</td>\n",
              "      <td>1</td>\n",
              "      <td>2</td>\n",
              "      <td>120</td>\n",
              "      <td>263</td>\n",
              "      <td>0</td>\n",
              "      <td>0</td>\n",
              "      <td>173</td>\n",
              "      <td>0</td>\n",
              "      <td>0.0</td>\n",
              "      <td>1</td>\n",
              "      <td>0</td>\n",
              "      <td>7</td>\n",
              "      <td>0</td>\n",
              "      <td>No Disease</td>\n",
              "      <td>Male</td>\n",
              "      <td>Male No Disease</td>\n",
              "    </tr>\n",
              "    <tr>\n",
              "      <th>...</th>\n",
              "      <td>...</td>\n",
              "      <td>...</td>\n",
              "      <td>...</td>\n",
              "      <td>...</td>\n",
              "      <td>...</td>\n",
              "      <td>...</td>\n",
              "      <td>...</td>\n",
              "      <td>...</td>\n",
              "      <td>...</td>\n",
              "      <td>...</td>\n",
              "      <td>...</td>\n",
              "      <td>...</td>\n",
              "      <td>...</td>\n",
              "      <td>...</td>\n",
              "      <td>...</td>\n",
              "      <td>...</td>\n",
              "      <td>...</td>\n",
              "    </tr>\n",
              "    <tr>\n",
              "      <th>281</th>\n",
              "      <td>47</td>\n",
              "      <td>1</td>\n",
              "      <td>3</td>\n",
              "      <td>130</td>\n",
              "      <td>253</td>\n",
              "      <td>0</td>\n",
              "      <td>0</td>\n",
              "      <td>179</td>\n",
              "      <td>0</td>\n",
              "      <td>0.0</td>\n",
              "      <td>1</td>\n",
              "      <td>0</td>\n",
              "      <td>3</td>\n",
              "      <td>0</td>\n",
              "      <td>No Disease</td>\n",
              "      <td>Male</td>\n",
              "      <td>Male No Disease</td>\n",
              "    </tr>\n",
              "    <tr>\n",
              "      <th>283</th>\n",
              "      <td>35</td>\n",
              "      <td>1</td>\n",
              "      <td>2</td>\n",
              "      <td>122</td>\n",
              "      <td>192</td>\n",
              "      <td>0</td>\n",
              "      <td>0</td>\n",
              "      <td>174</td>\n",
              "      <td>0</td>\n",
              "      <td>0.0</td>\n",
              "      <td>1</td>\n",
              "      <td>0</td>\n",
              "      <td>3</td>\n",
              "      <td>0</td>\n",
              "      <td>No Disease</td>\n",
              "      <td>Male</td>\n",
              "      <td>Male No Disease</td>\n",
              "    </tr>\n",
              "    <tr>\n",
              "      <th>288</th>\n",
              "      <td>56</td>\n",
              "      <td>1</td>\n",
              "      <td>2</td>\n",
              "      <td>130</td>\n",
              "      <td>221</td>\n",
              "      <td>0</td>\n",
              "      <td>2</td>\n",
              "      <td>163</td>\n",
              "      <td>0</td>\n",
              "      <td>0.0</td>\n",
              "      <td>1</td>\n",
              "      <td>0</td>\n",
              "      <td>7</td>\n",
              "      <td>0</td>\n",
              "      <td>No Disease</td>\n",
              "      <td>Male</td>\n",
              "      <td>Male No Disease</td>\n",
              "    </tr>\n",
              "    <tr>\n",
              "      <th>289</th>\n",
              "      <td>56</td>\n",
              "      <td>1</td>\n",
              "      <td>2</td>\n",
              "      <td>120</td>\n",
              "      <td>240</td>\n",
              "      <td>0</td>\n",
              "      <td>0</td>\n",
              "      <td>169</td>\n",
              "      <td>0</td>\n",
              "      <td>0.0</td>\n",
              "      <td>3</td>\n",
              "      <td>0</td>\n",
              "      <td>3</td>\n",
              "      <td>0</td>\n",
              "      <td>No Disease</td>\n",
              "      <td>Male</td>\n",
              "      <td>Male No Disease</td>\n",
              "    </tr>\n",
              "    <tr>\n",
              "      <th>295</th>\n",
              "      <td>41</td>\n",
              "      <td>1</td>\n",
              "      <td>2</td>\n",
              "      <td>120</td>\n",
              "      <td>157</td>\n",
              "      <td>0</td>\n",
              "      <td>0</td>\n",
              "      <td>182</td>\n",
              "      <td>0</td>\n",
              "      <td>0.0</td>\n",
              "      <td>1</td>\n",
              "      <td>0</td>\n",
              "      <td>3</td>\n",
              "      <td>0</td>\n",
              "      <td>No Disease</td>\n",
              "      <td>Male</td>\n",
              "      <td>Male No Disease</td>\n",
              "    </tr>\n",
              "  </tbody>\n",
              "</table>\n",
              "<p>89 rows × 17 columns</p>\n",
              "</div>"
            ],
            "text/plain": [
              "     age  gender  cp  trestbps  ...  num     disease  gender_desc           groups\n",
              "0     63       1   1       145  ...    0  No Disease         Male  Male No Disease\n",
              "3     37       1   3       130  ...    0  No Disease         Male  Male No Disease\n",
              "5     56       1   2       120  ...    0  No Disease         Male  Male No Disease\n",
              "10    57       1   4       140  ...    0  No Disease         Male  Male No Disease\n",
              "13    44       1   2       120  ...    0  No Disease         Male  Male No Disease\n",
              "..   ...     ...  ..       ...  ...  ...         ...          ...              ...\n",
              "281   47       1   3       130  ...    0  No Disease         Male  Male No Disease\n",
              "283   35       1   2       122  ...    0  No Disease         Male  Male No Disease\n",
              "288   56       1   2       130  ...    0  No Disease         Male  Male No Disease\n",
              "289   56       1   2       120  ...    0  No Disease         Male  Male No Disease\n",
              "295   41       1   2       120  ...    0  No Disease         Male  Male No Disease\n",
              "\n",
              "[89 rows x 17 columns]"
            ]
          },
          "metadata": {
            "tags": []
          },
          "execution_count": 204
        }
      ]
    },
    {
      "cell_type": "code",
      "metadata": {
        "id": "lof6H-Rk76xI",
        "colab": {
          "base_uri": "https://localhost:8080/",
          "height": 108
        },
        "outputId": "0c6f987c-e0b2-4e16-cd51-5fe379aec515"
      },
      "source": [
        "groups_count = heart_data['groups'].value_counts()\n",
        "groups_count "
      ],
      "execution_count": null,
      "outputs": [
        {
          "output_type": "execute_result",
          "data": {
            "text/plain": [
              "Male Disease         112\n",
              "Male No Disease       89\n",
              "Female No Disease     71\n",
              "Female Disease        25\n",
              "Name: groups, dtype: int64"
            ]
          },
          "metadata": {
            "tags": []
          },
          "execution_count": 205
        }
      ]
    },
    {
      "cell_type": "code",
      "metadata": {
        "id": "ThRTD1D2CKiA",
        "colab": {
          "base_uri": "https://localhost:8080/",
          "height": 108
        },
        "outputId": "6d57649c-0b9d-4854-89c2-50c84d3409be"
      },
      "source": [
        "data = {'Group of Study':['Male Disease', 'Male No Disease', 'Female Disease', 'Female No Disease'], 'Number of Patients':[112, 89, 25, 71]} \n",
        "  \n",
        "# Create DataFrame \n",
        "df = pd.DataFrame(data) \n",
        "  \n",
        "# Print the output. \n",
        "print(df) "
      ],
      "execution_count": null,
      "outputs": [
        {
          "output_type": "stream",
          "text": [
            "      Group of Study  Number of Patients\n",
            "0       Male Disease                 112\n",
            "1    Male No Disease                  89\n",
            "2     Female Disease                  25\n",
            "3  Female No Disease                  71\n"
          ],
          "name": "stdout"
        }
      ]
    },
    {
      "cell_type": "code",
      "metadata": {
        "id": "obEeIeBVJTzJ",
        "colab": {
          "base_uri": "https://localhost:8080/",
          "height": 468
        },
        "outputId": "cad211f9-735c-48c3-ad3f-c7d0c54d8abf"
      },
      "source": [
        "plt.figure(figsize=(10,7))\n",
        "sns.barplot(x='Group of Study', y='Number of Patients', \n",
        "            data=df) #, palette='Paired')\n",
        "plt.title('Number of Patients per Group', size=16)\n",
        "plt.ylabel('Number of Patients', size=16)\n",
        "plt.xlabel('Group', size=16)\n",
        "plt.xticks(size=12)\n",
        "plt.yticks(size=12)\n",
        "#sns.despine()\n",
        "plt.show()"
      ],
      "execution_count": null,
      "outputs": [
        {
          "output_type": "display_data",
          "data": {
            "image/png": "[encoded data removed]",
            "text/plain": [
              "<Figure size 720x504 with 1 Axes>"
            ]
          },
          "metadata": {
            "tags": []
          }
        }
      ]
    },
    {
      "cell_type": "code",
      "metadata": {
        "id": "YR4SCq3YqxJi",
        "colab": {
          "base_uri": "https://localhost:8080/",
          "height": 288
        },
        "outputId": "9896bc3d-7654-4add-bd5b-84a628a8ee76"
      },
      "source": [
        "male_no_disease.describe()"
      ],
      "execution_count": null,
      "outputs": [
        {
          "output_type": "execute_result",
          "data": {
            "text/html": [
              "<div>\n",
              "<style scoped>\n",
              "    .dataframe tbody tr th:only-of-type {\n",
              "        vertical-align: middle;\n",
              "    }\n",
              "\n",
              "    .dataframe tbody tr th {\n",
              "        vertical-align: top;\n",
              "    }\n",
              "\n",
              "    .dataframe thead th {\n",
              "        text-align: right;\n",
              "    }\n",
              "</style>\n",
              "<table border=\"1\" class=\"dataframe\">\n",
              "  <thead>\n",
              "    <tr style=\"text-align: right;\">\n",
              "      <th></th>\n",
              "      <th>age</th>\n",
              "      <th>gender</th>\n",
              "      <th>cp</th>\n",
              "      <th>trestbps</th>\n",
              "      <th>chol</th>\n",
              "      <th>fbs</th>\n",
              "      <th>restecg</th>\n",
              "      <th>thalach</th>\n",
              "      <th>exang</th>\n",
              "      <th>oldpeak</th>\n",
              "      <th>slope</th>\n",
              "      <th>ca</th>\n",
              "      <th>thal</th>\n",
              "      <th>num</th>\n",
              "    </tr>\n",
              "  </thead>\n",
              "  <tbody>\n",
              "    <tr>\n",
              "      <th>count</th>\n",
              "      <td>89.000000</td>\n",
              "      <td>89.0</td>\n",
              "      <td>89.000000</td>\n",
              "      <td>89.000000</td>\n",
              "      <td>89.000000</td>\n",
              "      <td>89.000000</td>\n",
              "      <td>89.000000</td>\n",
              "      <td>89.000000</td>\n",
              "      <td>89.000000</td>\n",
              "      <td>89.000000</td>\n",
              "      <td>89.000000</td>\n",
              "      <td>89.000000</td>\n",
              "      <td>89.000000</td>\n",
              "      <td>89.0</td>\n",
              "    </tr>\n",
              "    <tr>\n",
              "      <th>mean</th>\n",
              "      <td>51.101124</td>\n",
              "      <td>1.0</td>\n",
              "      <td>2.696629</td>\n",
              "      <td>129.516854</td>\n",
              "      <td>232.460674</td>\n",
              "      <td>0.191011</td>\n",
              "      <td>0.831461</td>\n",
              "      <td>161.775281</td>\n",
              "      <td>0.168539</td>\n",
              "      <td>0.628090</td>\n",
              "      <td>1.404494</td>\n",
              "      <td>0.247191</td>\n",
              "      <td>4.325843</td>\n",
              "      <td>0.0</td>\n",
              "    </tr>\n",
              "    <tr>\n",
              "      <th>std</th>\n",
              "      <td>8.626130</td>\n",
              "      <td>0.0</td>\n",
              "      <td>0.981702</td>\n",
              "      <td>16.233462</td>\n",
              "      <td>37.757316</td>\n",
              "      <td>0.395325</td>\n",
              "      <td>0.991280</td>\n",
              "      <td>18.720888</td>\n",
              "      <td>0.376465</td>\n",
              "      <td>0.884589</td>\n",
              "      <td>0.634592</td>\n",
              "      <td>0.661968</td>\n",
              "      <td>1.838819</td>\n",
              "      <td>0.0</td>\n",
              "    </tr>\n",
              "    <tr>\n",
              "      <th>min</th>\n",
              "      <td>29.000000</td>\n",
              "      <td>1.0</td>\n",
              "      <td>1.000000</td>\n",
              "      <td>94.000000</td>\n",
              "      <td>126.000000</td>\n",
              "      <td>0.000000</td>\n",
              "      <td>0.000000</td>\n",
              "      <td>105.000000</td>\n",
              "      <td>0.000000</td>\n",
              "      <td>0.000000</td>\n",
              "      <td>1.000000</td>\n",
              "      <td>0.000000</td>\n",
              "      <td>3.000000</td>\n",
              "      <td>0.0</td>\n",
              "    </tr>\n",
              "    <tr>\n",
              "      <th>25%</th>\n",
              "      <td>44.000000</td>\n",
              "      <td>1.0</td>\n",
              "      <td>2.000000</td>\n",
              "      <td>120.000000</td>\n",
              "      <td>207.000000</td>\n",
              "      <td>0.000000</td>\n",
              "      <td>0.000000</td>\n",
              "      <td>150.000000</td>\n",
              "      <td>0.000000</td>\n",
              "      <td>0.000000</td>\n",
              "      <td>1.000000</td>\n",
              "      <td>0.000000</td>\n",
              "      <td>3.000000</td>\n",
              "      <td>0.0</td>\n",
              "    </tr>\n",
              "    <tr>\n",
              "      <th>50%</th>\n",
              "      <td>52.000000</td>\n",
              "      <td>1.0</td>\n",
              "      <td>3.000000</td>\n",
              "      <td>130.000000</td>\n",
              "      <td>232.000000</td>\n",
              "      <td>0.000000</td>\n",
              "      <td>0.000000</td>\n",
              "      <td>163.000000</td>\n",
              "      <td>0.000000</td>\n",
              "      <td>0.200000</td>\n",
              "      <td>1.000000</td>\n",
              "      <td>0.000000</td>\n",
              "      <td>3.000000</td>\n",
              "      <td>0.0</td>\n",
              "    </tr>\n",
              "    <tr>\n",
              "      <th>75%</th>\n",
              "      <td>57.000000</td>\n",
              "      <td>1.0</td>\n",
              "      <td>3.000000</td>\n",
              "      <td>140.000000</td>\n",
              "      <td>253.000000</td>\n",
              "      <td>0.000000</td>\n",
              "      <td>2.000000</td>\n",
              "      <td>178.000000</td>\n",
              "      <td>0.000000</td>\n",
              "      <td>1.200000</td>\n",
              "      <td>2.000000</td>\n",
              "      <td>0.000000</td>\n",
              "      <td>7.000000</td>\n",
              "      <td>0.0</td>\n",
              "    </tr>\n",
              "    <tr>\n",
              "      <th>max</th>\n",
              "      <td>70.000000</td>\n",
              "      <td>1.0</td>\n",
              "      <td>4.000000</td>\n",
              "      <td>178.000000</td>\n",
              "      <td>325.000000</td>\n",
              "      <td>1.000000</td>\n",
              "      <td>2.000000</td>\n",
              "      <td>202.000000</td>\n",
              "      <td>1.000000</td>\n",
              "      <td>4.200000</td>\n",
              "      <td>3.000000</td>\n",
              "      <td>3.000000</td>\n",
              "      <td>7.000000</td>\n",
              "      <td>0.0</td>\n",
              "    </tr>\n",
              "  </tbody>\n",
              "</table>\n",
              "</div>"
            ],
            "text/plain": [
              "             age  gender         cp  ...         ca       thal   num\n",
              "count  89.000000    89.0  89.000000  ...  89.000000  89.000000  89.0\n",
              "mean   51.101124     1.0   2.696629  ...   0.247191   4.325843   0.0\n",
              "std     8.626130     0.0   0.981702  ...   0.661968   1.838819   0.0\n",
              "min    29.000000     1.0   1.000000  ...   0.000000   3.000000   0.0\n",
              "25%    44.000000     1.0   2.000000  ...   0.000000   3.000000   0.0\n",
              "50%    52.000000     1.0   3.000000  ...   0.000000   3.000000   0.0\n",
              "75%    57.000000     1.0   3.000000  ...   0.000000   7.000000   0.0\n",
              "max    70.000000     1.0   4.000000  ...   3.000000   7.000000   0.0\n",
              "\n",
              "[8 rows x 14 columns]"
            ]
          },
          "metadata": {
            "tags": []
          },
          "execution_count": 208
        }
      ]
    },
    {
      "cell_type": "markdown",
      "metadata": {
        "id": "UXEfuPhXo0RV"
      },
      "source": [
        "Female with Heart Disease"
      ]
    },
    {
      "cell_type": "code",
      "metadata": {
        "id": "wOH937Vtnr6G",
        "colab": {
          "base_uri": "https://localhost:8080/",
          "height": 798
        },
        "outputId": "1e0bc1d1-c450-4b02-afd9-7a13644b89c8"
      },
      "source": [
        "female_disease = (heart_data['gender']==0) & (heart_data['num']==1)\n",
        "female_disease = heart_data.iloc[female_disease.values]\n",
        "female_disease"
      ],
      "execution_count": null,
      "outputs": [
        {
          "output_type": "execute_result",
          "data": {
            "text/html": [
              "<div>\n",
              "<style scoped>\n",
              "    .dataframe tbody tr th:only-of-type {\n",
              "        vertical-align: middle;\n",
              "    }\n",
              "\n",
              "    .dataframe tbody tr th {\n",
              "        vertical-align: top;\n",
              "    }\n",
              "\n",
              "    .dataframe thead th {\n",
              "        text-align: right;\n",
              "    }\n",
              "</style>\n",
              "<table border=\"1\" class=\"dataframe\">\n",
              "  <thead>\n",
              "    <tr style=\"text-align: right;\">\n",
              "      <th></th>\n",
              "      <th>age</th>\n",
              "      <th>gender</th>\n",
              "      <th>cp</th>\n",
              "      <th>trestbps</th>\n",
              "      <th>chol</th>\n",
              "      <th>fbs</th>\n",
              "      <th>restecg</th>\n",
              "      <th>thalach</th>\n",
              "      <th>exang</th>\n",
              "      <th>oldpeak</th>\n",
              "      <th>slope</th>\n",
              "      <th>ca</th>\n",
              "      <th>thal</th>\n",
              "      <th>num</th>\n",
              "      <th>disease</th>\n",
              "      <th>gender_desc</th>\n",
              "      <th>groups</th>\n",
              "    </tr>\n",
              "  </thead>\n",
              "  <tbody>\n",
              "    <tr>\n",
              "      <th>6</th>\n",
              "      <td>62</td>\n",
              "      <td>0</td>\n",
              "      <td>4</td>\n",
              "      <td>140</td>\n",
              "      <td>268</td>\n",
              "      <td>0</td>\n",
              "      <td>2</td>\n",
              "      <td>160</td>\n",
              "      <td>0</td>\n",
              "      <td>3.6</td>\n",
              "      <td>3</td>\n",
              "      <td>2</td>\n",
              "      <td>3</td>\n",
              "      <td>1</td>\n",
              "      <td>Disease</td>\n",
              "      <td>Female</td>\n",
              "      <td>Female Disease</td>\n",
              "    </tr>\n",
              "    <tr>\n",
              "      <th>40</th>\n",
              "      <td>65</td>\n",
              "      <td>0</td>\n",
              "      <td>4</td>\n",
              "      <td>150</td>\n",
              "      <td>225</td>\n",
              "      <td>0</td>\n",
              "      <td>2</td>\n",
              "      <td>114</td>\n",
              "      <td>0</td>\n",
              "      <td>1.0</td>\n",
              "      <td>2</td>\n",
              "      <td>3</td>\n",
              "      <td>7</td>\n",
              "      <td>1</td>\n",
              "      <td>Disease</td>\n",
              "      <td>Female</td>\n",
              "      <td>Female Disease</td>\n",
              "    </tr>\n",
              "    <tr>\n",
              "      <th>44</th>\n",
              "      <td>61</td>\n",
              "      <td>0</td>\n",
              "      <td>4</td>\n",
              "      <td>130</td>\n",
              "      <td>330</td>\n",
              "      <td>0</td>\n",
              "      <td>2</td>\n",
              "      <td>169</td>\n",
              "      <td>0</td>\n",
              "      <td>0.0</td>\n",
              "      <td>1</td>\n",
              "      <td>0</td>\n",
              "      <td>3</td>\n",
              "      <td>1</td>\n",
              "      <td>Disease</td>\n",
              "      <td>Female</td>\n",
              "      <td>Female Disease</td>\n",
              "    </tr>\n",
              "    <tr>\n",
              "      <th>60</th>\n",
              "      <td>51</td>\n",
              "      <td>0</td>\n",
              "      <td>4</td>\n",
              "      <td>130</td>\n",
              "      <td>305</td>\n",
              "      <td>0</td>\n",
              "      <td>0</td>\n",
              "      <td>142</td>\n",
              "      <td>1</td>\n",
              "      <td>1.2</td>\n",
              "      <td>2</td>\n",
              "      <td>0</td>\n",
              "      <td>7</td>\n",
              "      <td>1</td>\n",
              "      <td>Disease</td>\n",
              "      <td>Female</td>\n",
              "      <td>Female Disease</td>\n",
              "    </tr>\n",
              "    <tr>\n",
              "      <th>91</th>\n",
              "      <td>62</td>\n",
              "      <td>0</td>\n",
              "      <td>4</td>\n",
              "      <td>160</td>\n",
              "      <td>164</td>\n",
              "      <td>0</td>\n",
              "      <td>2</td>\n",
              "      <td>145</td>\n",
              "      <td>0</td>\n",
              "      <td>6.2</td>\n",
              "      <td>3</td>\n",
              "      <td>3</td>\n",
              "      <td>7</td>\n",
              "      <td>1</td>\n",
              "      <td>Disease</td>\n",
              "      <td>Female</td>\n",
              "      <td>Female Disease</td>\n",
              "    </tr>\n",
              "    <tr>\n",
              "      <th>97</th>\n",
              "      <td>60</td>\n",
              "      <td>0</td>\n",
              "      <td>4</td>\n",
              "      <td>150</td>\n",
              "      <td>258</td>\n",
              "      <td>0</td>\n",
              "      <td>2</td>\n",
              "      <td>157</td>\n",
              "      <td>0</td>\n",
              "      <td>2.6</td>\n",
              "      <td>2</td>\n",
              "      <td>2</td>\n",
              "      <td>7</td>\n",
              "      <td>1</td>\n",
              "      <td>Disease</td>\n",
              "      <td>Female</td>\n",
              "      <td>Female Disease</td>\n",
              "    </tr>\n",
              "    <tr>\n",
              "      <th>110</th>\n",
              "      <td>61</td>\n",
              "      <td>0</td>\n",
              "      <td>4</td>\n",
              "      <td>145</td>\n",
              "      <td>307</td>\n",
              "      <td>0</td>\n",
              "      <td>2</td>\n",
              "      <td>146</td>\n",
              "      <td>1</td>\n",
              "      <td>1.0</td>\n",
              "      <td>2</td>\n",
              "      <td>0</td>\n",
              "      <td>7</td>\n",
              "      <td>1</td>\n",
              "      <td>Disease</td>\n",
              "      <td>Female</td>\n",
              "      <td>Female Disease</td>\n",
              "    </tr>\n",
              "    <tr>\n",
              "      <th>113</th>\n",
              "      <td>43</td>\n",
              "      <td>0</td>\n",
              "      <td>4</td>\n",
              "      <td>132</td>\n",
              "      <td>341</td>\n",
              "      <td>1</td>\n",
              "      <td>2</td>\n",
              "      <td>136</td>\n",
              "      <td>1</td>\n",
              "      <td>3.0</td>\n",
              "      <td>2</td>\n",
              "      <td>0</td>\n",
              "      <td>7</td>\n",
              "      <td>1</td>\n",
              "      <td>Disease</td>\n",
              "      <td>Female</td>\n",
              "      <td>Female Disease</td>\n",
              "    </tr>\n",
              "    <tr>\n",
              "      <th>114</th>\n",
              "      <td>62</td>\n",
              "      <td>0</td>\n",
              "      <td>3</td>\n",
              "      <td>130</td>\n",
              "      <td>263</td>\n",
              "      <td>0</td>\n",
              "      <td>0</td>\n",
              "      <td>97</td>\n",
              "      <td>0</td>\n",
              "      <td>1.2</td>\n",
              "      <td>2</td>\n",
              "      <td>1</td>\n",
              "      <td>7</td>\n",
              "      <td>1</td>\n",
              "      <td>Disease</td>\n",
              "      <td>Female</td>\n",
              "      <td>Female Disease</td>\n",
              "    </tr>\n",
              "    <tr>\n",
              "      <th>121</th>\n",
              "      <td>63</td>\n",
              "      <td>0</td>\n",
              "      <td>4</td>\n",
              "      <td>150</td>\n",
              "      <td>407</td>\n",
              "      <td>0</td>\n",
              "      <td>2</td>\n",
              "      <td>154</td>\n",
              "      <td>0</td>\n",
              "      <td>4.0</td>\n",
              "      <td>2</td>\n",
              "      <td>3</td>\n",
              "      <td>7</td>\n",
              "      <td>1</td>\n",
              "      <td>Disease</td>\n",
              "      <td>Female</td>\n",
              "      <td>Female Disease</td>\n",
              "    </tr>\n",
              "    <tr>\n",
              "      <th>126</th>\n",
              "      <td>56</td>\n",
              "      <td>0</td>\n",
              "      <td>4</td>\n",
              "      <td>200</td>\n",
              "      <td>288</td>\n",
              "      <td>1</td>\n",
              "      <td>2</td>\n",
              "      <td>133</td>\n",
              "      <td>1</td>\n",
              "      <td>4.0</td>\n",
              "      <td>3</td>\n",
              "      <td>2</td>\n",
              "      <td>7</td>\n",
              "      <td>1</td>\n",
              "      <td>Disease</td>\n",
              "      <td>Female</td>\n",
              "      <td>Female Disease</td>\n",
              "    </tr>\n",
              "    <tr>\n",
              "      <th>172</th>\n",
              "      <td>59</td>\n",
              "      <td>0</td>\n",
              "      <td>4</td>\n",
              "      <td>174</td>\n",
              "      <td>249</td>\n",
              "      <td>0</td>\n",
              "      <td>0</td>\n",
              "      <td>143</td>\n",
              "      <td>1</td>\n",
              "      <td>0.0</td>\n",
              "      <td>2</td>\n",
              "      <td>0</td>\n",
              "      <td>3</td>\n",
              "      <td>1</td>\n",
              "      <td>Disease</td>\n",
              "      <td>Female</td>\n",
              "      <td>Female Disease</td>\n",
              "    </tr>\n",
              "    <tr>\n",
              "      <th>181</th>\n",
              "      <td>56</td>\n",
              "      <td>0</td>\n",
              "      <td>4</td>\n",
              "      <td>134</td>\n",
              "      <td>409</td>\n",
              "      <td>0</td>\n",
              "      <td>2</td>\n",
              "      <td>150</td>\n",
              "      <td>1</td>\n",
              "      <td>1.9</td>\n",
              "      <td>2</td>\n",
              "      <td>2</td>\n",
              "      <td>7</td>\n",
              "      <td>1</td>\n",
              "      <td>Disease</td>\n",
              "      <td>Female</td>\n",
              "      <td>Female Disease</td>\n",
              "    </tr>\n",
              "    <tr>\n",
              "      <th>184</th>\n",
              "      <td>60</td>\n",
              "      <td>0</td>\n",
              "      <td>4</td>\n",
              "      <td>158</td>\n",
              "      <td>305</td>\n",
              "      <td>0</td>\n",
              "      <td>2</td>\n",
              "      <td>161</td>\n",
              "      <td>0</td>\n",
              "      <td>0.0</td>\n",
              "      <td>1</td>\n",
              "      <td>0</td>\n",
              "      <td>3</td>\n",
              "      <td>1</td>\n",
              "      <td>Disease</td>\n",
              "      <td>Female</td>\n",
              "      <td>Female Disease</td>\n",
              "    </tr>\n",
              "    <tr>\n",
              "      <th>193</th>\n",
              "      <td>62</td>\n",
              "      <td>0</td>\n",
              "      <td>4</td>\n",
              "      <td>138</td>\n",
              "      <td>294</td>\n",
              "      <td>1</td>\n",
              "      <td>0</td>\n",
              "      <td>106</td>\n",
              "      <td>0</td>\n",
              "      <td>1.9</td>\n",
              "      <td>2</td>\n",
              "      <td>3</td>\n",
              "      <td>3</td>\n",
              "      <td>1</td>\n",
              "      <td>Disease</td>\n",
              "      <td>Female</td>\n",
              "      <td>Female Disease</td>\n",
              "    </tr>\n",
              "    <tr>\n",
              "      <th>209</th>\n",
              "      <td>62</td>\n",
              "      <td>0</td>\n",
              "      <td>4</td>\n",
              "      <td>150</td>\n",
              "      <td>244</td>\n",
              "      <td>0</td>\n",
              "      <td>0</td>\n",
              "      <td>154</td>\n",
              "      <td>1</td>\n",
              "      <td>1.4</td>\n",
              "      <td>2</td>\n",
              "      <td>0</td>\n",
              "      <td>3</td>\n",
              "      <td>1</td>\n",
              "      <td>Disease</td>\n",
              "      <td>Female</td>\n",
              "      <td>Female Disease</td>\n",
              "    </tr>\n",
              "    <tr>\n",
              "      <th>213</th>\n",
              "      <td>66</td>\n",
              "      <td>0</td>\n",
              "      <td>4</td>\n",
              "      <td>178</td>\n",
              "      <td>228</td>\n",
              "      <td>1</td>\n",
              "      <td>0</td>\n",
              "      <td>165</td>\n",
              "      <td>1</td>\n",
              "      <td>1.0</td>\n",
              "      <td>2</td>\n",
              "      <td>2</td>\n",
              "      <td>7</td>\n",
              "      <td>1</td>\n",
              "      <td>Disease</td>\n",
              "      <td>Female</td>\n",
              "      <td>Female Disease</td>\n",
              "    </tr>\n",
              "    <tr>\n",
              "      <th>224</th>\n",
              "      <td>63</td>\n",
              "      <td>0</td>\n",
              "      <td>4</td>\n",
              "      <td>108</td>\n",
              "      <td>269</td>\n",
              "      <td>0</td>\n",
              "      <td>0</td>\n",
              "      <td>169</td>\n",
              "      <td>1</td>\n",
              "      <td>1.8</td>\n",
              "      <td>2</td>\n",
              "      <td>2</td>\n",
              "      <td>3</td>\n",
              "      <td>1</td>\n",
              "      <td>Disease</td>\n",
              "      <td>Female</td>\n",
              "      <td>Female Disease</td>\n",
              "    </tr>\n",
              "    <tr>\n",
              "      <th>231</th>\n",
              "      <td>55</td>\n",
              "      <td>0</td>\n",
              "      <td>4</td>\n",
              "      <td>180</td>\n",
              "      <td>327</td>\n",
              "      <td>0</td>\n",
              "      <td>1</td>\n",
              "      <td>117</td>\n",
              "      <td>1</td>\n",
              "      <td>3.4</td>\n",
              "      <td>2</td>\n",
              "      <td>0</td>\n",
              "      <td>3</td>\n",
              "      <td>1</td>\n",
              "      <td>Disease</td>\n",
              "      <td>Female</td>\n",
              "      <td>Female Disease</td>\n",
              "    </tr>\n",
              "    <tr>\n",
              "      <th>261</th>\n",
              "      <td>58</td>\n",
              "      <td>0</td>\n",
              "      <td>2</td>\n",
              "      <td>136</td>\n",
              "      <td>319</td>\n",
              "      <td>1</td>\n",
              "      <td>2</td>\n",
              "      <td>152</td>\n",
              "      <td>0</td>\n",
              "      <td>0.0</td>\n",
              "      <td>1</td>\n",
              "      <td>2</td>\n",
              "      <td>3</td>\n",
              "      <td>1</td>\n",
              "      <td>Disease</td>\n",
              "      <td>Female</td>\n",
              "      <td>Female Disease</td>\n",
              "    </tr>\n",
              "    <tr>\n",
              "      <th>282</th>\n",
              "      <td>55</td>\n",
              "      <td>0</td>\n",
              "      <td>4</td>\n",
              "      <td>128</td>\n",
              "      <td>205</td>\n",
              "      <td>0</td>\n",
              "      <td>1</td>\n",
              "      <td>130</td>\n",
              "      <td>1</td>\n",
              "      <td>2.0</td>\n",
              "      <td>2</td>\n",
              "      <td>1</td>\n",
              "      <td>7</td>\n",
              "      <td>1</td>\n",
              "      <td>Disease</td>\n",
              "      <td>Female</td>\n",
              "      <td>Female Disease</td>\n",
              "    </tr>\n",
              "    <tr>\n",
              "      <th>286</th>\n",
              "      <td>58</td>\n",
              "      <td>0</td>\n",
              "      <td>4</td>\n",
              "      <td>170</td>\n",
              "      <td>225</td>\n",
              "      <td>1</td>\n",
              "      <td>2</td>\n",
              "      <td>146</td>\n",
              "      <td>1</td>\n",
              "      <td>2.8</td>\n",
              "      <td>2</td>\n",
              "      <td>2</td>\n",
              "      <td>6</td>\n",
              "      <td>1</td>\n",
              "      <td>Disease</td>\n",
              "      <td>Female</td>\n",
              "      <td>Female Disease</td>\n",
              "    </tr>\n",
              "    <tr>\n",
              "      <th>294</th>\n",
              "      <td>63</td>\n",
              "      <td>0</td>\n",
              "      <td>4</td>\n",
              "      <td>124</td>\n",
              "      <td>197</td>\n",
              "      <td>0</td>\n",
              "      <td>0</td>\n",
              "      <td>136</td>\n",
              "      <td>1</td>\n",
              "      <td>0.0</td>\n",
              "      <td>2</td>\n",
              "      <td>0</td>\n",
              "      <td>3</td>\n",
              "      <td>1</td>\n",
              "      <td>Disease</td>\n",
              "      <td>Female</td>\n",
              "      <td>Female Disease</td>\n",
              "    </tr>\n",
              "    <tr>\n",
              "      <th>297</th>\n",
              "      <td>57</td>\n",
              "      <td>0</td>\n",
              "      <td>4</td>\n",
              "      <td>140</td>\n",
              "      <td>241</td>\n",
              "      <td>0</td>\n",
              "      <td>0</td>\n",
              "      <td>123</td>\n",
              "      <td>1</td>\n",
              "      <td>0.2</td>\n",
              "      <td>2</td>\n",
              "      <td>0</td>\n",
              "      <td>7</td>\n",
              "      <td>1</td>\n",
              "      <td>Disease</td>\n",
              "      <td>Female</td>\n",
              "      <td>Female Disease</td>\n",
              "    </tr>\n",
              "    <tr>\n",
              "      <th>301</th>\n",
              "      <td>57</td>\n",
              "      <td>0</td>\n",
              "      <td>2</td>\n",
              "      <td>130</td>\n",
              "      <td>236</td>\n",
              "      <td>0</td>\n",
              "      <td>2</td>\n",
              "      <td>174</td>\n",
              "      <td>0</td>\n",
              "      <td>0.0</td>\n",
              "      <td>2</td>\n",
              "      <td>1</td>\n",
              "      <td>3</td>\n",
              "      <td>1</td>\n",
              "      <td>Disease</td>\n",
              "      <td>Female</td>\n",
              "      <td>Female Disease</td>\n",
              "    </tr>\n",
              "  </tbody>\n",
              "</table>\n",
              "</div>"
            ],
            "text/plain": [
              "     age  gender  cp  trestbps  ...  num  disease  gender_desc          groups\n",
              "6     62       0   4       140  ...    1  Disease       Female  Female Disease\n",
              "40    65       0   4       150  ...    1  Disease       Female  Female Disease\n",
              "44    61       0   4       130  ...    1  Disease       Female  Female Disease\n",
              "60    51       0   4       130  ...    1  Disease       Female  Female Disease\n",
              "91    62       0   4       160  ...    1  Disease       Female  Female Disease\n",
              "97    60       0   4       150  ...    1  Disease       Female  Female Disease\n",
              "110   61       0   4       145  ...    1  Disease       Female  Female Disease\n",
              "113   43       0   4       132  ...    1  Disease       Female  Female Disease\n",
              "114   62       0   3       130  ...    1  Disease       Female  Female Disease\n",
              "121   63       0   4       150  ...    1  Disease       Female  Female Disease\n",
              "126   56       0   4       200  ...    1  Disease       Female  Female Disease\n",
              "172   59       0   4       174  ...    1  Disease       Female  Female Disease\n",
              "181   56       0   4       134  ...    1  Disease       Female  Female Disease\n",
              "184   60       0   4       158  ...    1  Disease       Female  Female Disease\n",
              "193   62       0   4       138  ...    1  Disease       Female  Female Disease\n",
              "209   62       0   4       150  ...    1  Disease       Female  Female Disease\n",
              "213   66       0   4       178  ...    1  Disease       Female  Female Disease\n",
              "224   63       0   4       108  ...    1  Disease       Female  Female Disease\n",
              "231   55       0   4       180  ...    1  Disease       Female  Female Disease\n",
              "261   58       0   2       136  ...    1  Disease       Female  Female Disease\n",
              "282   55       0   4       128  ...    1  Disease       Female  Female Disease\n",
              "286   58       0   4       170  ...    1  Disease       Female  Female Disease\n",
              "294   63       0   4       124  ...    1  Disease       Female  Female Disease\n",
              "297   57       0   4       140  ...    1  Disease       Female  Female Disease\n",
              "301   57       0   2       130  ...    1  Disease       Female  Female Disease\n",
              "\n",
              "[25 rows x 17 columns]"
            ]
          },
          "metadata": {
            "tags": []
          },
          "execution_count": 209
        }
      ]
    },
    {
      "cell_type": "code",
      "metadata": {
        "id": "EvuGeyytOTrS",
        "colab": {
          "base_uri": "https://localhost:8080/",
          "height": 288
        },
        "outputId": "32ba6074-51fe-46d8-8dba-905a153584b3"
      },
      "source": [
        "female_disease.describe()"
      ],
      "execution_count": null,
      "outputs": [
        {
          "output_type": "execute_result",
          "data": {
            "text/html": [
              "<div>\n",
              "<style scoped>\n",
              "    .dataframe tbody tr th:only-of-type {\n",
              "        vertical-align: middle;\n",
              "    }\n",
              "\n",
              "    .dataframe tbody tr th {\n",
              "        vertical-align: top;\n",
              "    }\n",
              "\n",
              "    .dataframe thead th {\n",
              "        text-align: right;\n",
              "    }\n",
              "</style>\n",
              "<table border=\"1\" class=\"dataframe\">\n",
              "  <thead>\n",
              "    <tr style=\"text-align: right;\">\n",
              "      <th></th>\n",
              "      <th>age</th>\n",
              "      <th>gender</th>\n",
              "      <th>cp</th>\n",
              "      <th>trestbps</th>\n",
              "      <th>chol</th>\n",
              "      <th>fbs</th>\n",
              "      <th>restecg</th>\n",
              "      <th>thalach</th>\n",
              "      <th>exang</th>\n",
              "      <th>oldpeak</th>\n",
              "      <th>slope</th>\n",
              "      <th>ca</th>\n",
              "      <th>thal</th>\n",
              "      <th>num</th>\n",
              "    </tr>\n",
              "  </thead>\n",
              "  <tbody>\n",
              "    <tr>\n",
              "      <th>count</th>\n",
              "      <td>25.000000</td>\n",
              "      <td>25.0</td>\n",
              "      <td>25.00000</td>\n",
              "      <td>25.000000</td>\n",
              "      <td>25.000000</td>\n",
              "      <td>25.00000</td>\n",
              "      <td>25.000000</td>\n",
              "      <td>25.000000</td>\n",
              "      <td>25.000000</td>\n",
              "      <td>25.000000</td>\n",
              "      <td>25.0</td>\n",
              "      <td>25.00000</td>\n",
              "      <td>25.0</td>\n",
              "      <td>25.0</td>\n",
              "    </tr>\n",
              "    <tr>\n",
              "      <th>mean</th>\n",
              "      <td>59.080000</td>\n",
              "      <td>0.0</td>\n",
              "      <td>3.80000</td>\n",
              "      <td>146.600000</td>\n",
              "      <td>276.160000</td>\n",
              "      <td>0.24000</td>\n",
              "      <td>1.200000</td>\n",
              "      <td>143.160000</td>\n",
              "      <td>0.560000</td>\n",
              "      <td>1.768000</td>\n",
              "      <td>2.0</td>\n",
              "      <td>1.24000</td>\n",
              "      <td>5.2</td>\n",
              "      <td>1.0</td>\n",
              "    </tr>\n",
              "    <tr>\n",
              "      <th>std</th>\n",
              "      <td>4.864155</td>\n",
              "      <td>0.0</td>\n",
              "      <td>0.57735</td>\n",
              "      <td>21.118712</td>\n",
              "      <td>59.884389</td>\n",
              "      <td>0.43589</td>\n",
              "      <td>0.957427</td>\n",
              "      <td>20.175645</td>\n",
              "      <td>0.506623</td>\n",
              "      <td>1.617024</td>\n",
              "      <td>0.5</td>\n",
              "      <td>1.16476</td>\n",
              "      <td>2.0</td>\n",
              "      <td>0.0</td>\n",
              "    </tr>\n",
              "    <tr>\n",
              "      <th>min</th>\n",
              "      <td>43.000000</td>\n",
              "      <td>0.0</td>\n",
              "      <td>2.00000</td>\n",
              "      <td>108.000000</td>\n",
              "      <td>164.000000</td>\n",
              "      <td>0.00000</td>\n",
              "      <td>0.000000</td>\n",
              "      <td>97.000000</td>\n",
              "      <td>0.000000</td>\n",
              "      <td>0.000000</td>\n",
              "      <td>1.0</td>\n",
              "      <td>0.00000</td>\n",
              "      <td>3.0</td>\n",
              "      <td>1.0</td>\n",
              "    </tr>\n",
              "    <tr>\n",
              "      <th>25%</th>\n",
              "      <td>57.000000</td>\n",
              "      <td>0.0</td>\n",
              "      <td>4.00000</td>\n",
              "      <td>130.000000</td>\n",
              "      <td>236.000000</td>\n",
              "      <td>0.00000</td>\n",
              "      <td>0.000000</td>\n",
              "      <td>133.000000</td>\n",
              "      <td>0.000000</td>\n",
              "      <td>0.200000</td>\n",
              "      <td>2.0</td>\n",
              "      <td>0.00000</td>\n",
              "      <td>3.0</td>\n",
              "      <td>1.0</td>\n",
              "    </tr>\n",
              "    <tr>\n",
              "      <th>50%</th>\n",
              "      <td>60.000000</td>\n",
              "      <td>0.0</td>\n",
              "      <td>4.00000</td>\n",
              "      <td>140.000000</td>\n",
              "      <td>268.000000</td>\n",
              "      <td>0.00000</td>\n",
              "      <td>2.000000</td>\n",
              "      <td>146.000000</td>\n",
              "      <td>1.000000</td>\n",
              "      <td>1.400000</td>\n",
              "      <td>2.0</td>\n",
              "      <td>1.00000</td>\n",
              "      <td>7.0</td>\n",
              "      <td>1.0</td>\n",
              "    </tr>\n",
              "    <tr>\n",
              "      <th>75%</th>\n",
              "      <td>62.000000</td>\n",
              "      <td>0.0</td>\n",
              "      <td>4.00000</td>\n",
              "      <td>158.000000</td>\n",
              "      <td>307.000000</td>\n",
              "      <td>0.00000</td>\n",
              "      <td>2.000000</td>\n",
              "      <td>157.000000</td>\n",
              "      <td>1.000000</td>\n",
              "      <td>2.800000</td>\n",
              "      <td>2.0</td>\n",
              "      <td>2.00000</td>\n",
              "      <td>7.0</td>\n",
              "      <td>1.0</td>\n",
              "    </tr>\n",
              "    <tr>\n",
              "      <th>max</th>\n",
              "      <td>66.000000</td>\n",
              "      <td>0.0</td>\n",
              "      <td>4.00000</td>\n",
              "      <td>200.000000</td>\n",
              "      <td>409.000000</td>\n",
              "      <td>1.00000</td>\n",
              "      <td>2.000000</td>\n",
              "      <td>174.000000</td>\n",
              "      <td>1.000000</td>\n",
              "      <td>6.200000</td>\n",
              "      <td>3.0</td>\n",
              "      <td>3.00000</td>\n",
              "      <td>7.0</td>\n",
              "      <td>1.0</td>\n",
              "    </tr>\n",
              "  </tbody>\n",
              "</table>\n",
              "</div>"
            ],
            "text/plain": [
              "             age  gender        cp    trestbps  ...  slope        ca  thal   num\n",
              "count  25.000000    25.0  25.00000   25.000000  ...   25.0  25.00000  25.0  25.0\n",
              "mean   59.080000     0.0   3.80000  146.600000  ...    2.0   1.24000   5.2   1.0\n",
              "std     4.864155     0.0   0.57735   21.118712  ...    0.5   1.16476   2.0   0.0\n",
              "min    43.000000     0.0   2.00000  108.000000  ...    1.0   0.00000   3.0   1.0\n",
              "25%    57.000000     0.0   4.00000  130.000000  ...    2.0   0.00000   3.0   1.0\n",
              "50%    60.000000     0.0   4.00000  140.000000  ...    2.0   1.00000   7.0   1.0\n",
              "75%    62.000000     0.0   4.00000  158.000000  ...    2.0   2.00000   7.0   1.0\n",
              "max    66.000000     0.0   4.00000  200.000000  ...    3.0   3.00000   7.0   1.0\n",
              "\n",
              "[8 rows x 14 columns]"
            ]
          },
          "metadata": {
            "tags": []
          },
          "execution_count": 210
        }
      ]
    },
    {
      "cell_type": "markdown",
      "metadata": {
        "id": "RjvgaLDIpmH_"
      },
      "source": [
        "Female with Heart Disease sample size has only 25 data points. This sample is small and reliability of tests such as Shapiro Wilks can be affected for the size of this sample. Also this might cause some bias in the results"
      ]
    },
    {
      "cell_type": "markdown",
      "metadata": {
        "id": "c6zz4lj1o9N-"
      },
      "source": [
        "Female without Heart Disease Group"
      ]
    },
    {
      "cell_type": "code",
      "metadata": {
        "id": "fnkCXhEunkPE",
        "colab": {
          "base_uri": "https://localhost:8080/",
          "height": 407
        },
        "outputId": "c82b4852-3c5b-4f37-b23c-34a3487cda2a"
      },
      "source": [
        "female_no_disease = (heart_data['gender']==0) & (heart_data['num']==0)\n",
        "female_no_disease = heart_data.iloc[female_no_disease.values]\n",
        "female_no_disease"
      ],
      "execution_count": null,
      "outputs": [
        {
          "output_type": "execute_result",
          "data": {
            "text/html": [
              "<div>\n",
              "<style scoped>\n",
              "    .dataframe tbody tr th:only-of-type {\n",
              "        vertical-align: middle;\n",
              "    }\n",
              "\n",
              "    .dataframe tbody tr th {\n",
              "        vertical-align: top;\n",
              "    }\n",
              "\n",
              "    .dataframe thead th {\n",
              "        text-align: right;\n",
              "    }\n",
              "</style>\n",
              "<table border=\"1\" class=\"dataframe\">\n",
              "  <thead>\n",
              "    <tr style=\"text-align: right;\">\n",
              "      <th></th>\n",
              "      <th>age</th>\n",
              "      <th>gender</th>\n",
              "      <th>cp</th>\n",
              "      <th>trestbps</th>\n",
              "      <th>chol</th>\n",
              "      <th>fbs</th>\n",
              "      <th>restecg</th>\n",
              "      <th>thalach</th>\n",
              "      <th>exang</th>\n",
              "      <th>oldpeak</th>\n",
              "      <th>slope</th>\n",
              "      <th>ca</th>\n",
              "      <th>thal</th>\n",
              "      <th>num</th>\n",
              "      <th>disease</th>\n",
              "      <th>gender_desc</th>\n",
              "      <th>groups</th>\n",
              "    </tr>\n",
              "  </thead>\n",
              "  <tbody>\n",
              "    <tr>\n",
              "      <th>4</th>\n",
              "      <td>41</td>\n",
              "      <td>0</td>\n",
              "      <td>2</td>\n",
              "      <td>130</td>\n",
              "      <td>204</td>\n",
              "      <td>0</td>\n",
              "      <td>2</td>\n",
              "      <td>172</td>\n",
              "      <td>0</td>\n",
              "      <td>1.4</td>\n",
              "      <td>1</td>\n",
              "      <td>0</td>\n",
              "      <td>3</td>\n",
              "      <td>0</td>\n",
              "      <td>No Disease</td>\n",
              "      <td>Female</td>\n",
              "      <td>Female No Disease</td>\n",
              "    </tr>\n",
              "    <tr>\n",
              "      <th>7</th>\n",
              "      <td>57</td>\n",
              "      <td>0</td>\n",
              "      <td>4</td>\n",
              "      <td>120</td>\n",
              "      <td>354</td>\n",
              "      <td>0</td>\n",
              "      <td>0</td>\n",
              "      <td>163</td>\n",
              "      <td>1</td>\n",
              "      <td>0.6</td>\n",
              "      <td>1</td>\n",
              "      <td>0</td>\n",
              "      <td>3</td>\n",
              "      <td>0</td>\n",
              "      <td>No Disease</td>\n",
              "      <td>Female</td>\n",
              "      <td>Female No Disease</td>\n",
              "    </tr>\n",
              "    <tr>\n",
              "      <th>11</th>\n",
              "      <td>56</td>\n",
              "      <td>0</td>\n",
              "      <td>2</td>\n",
              "      <td>140</td>\n",
              "      <td>294</td>\n",
              "      <td>0</td>\n",
              "      <td>2</td>\n",
              "      <td>153</td>\n",
              "      <td>0</td>\n",
              "      <td>1.3</td>\n",
              "      <td>2</td>\n",
              "      <td>0</td>\n",
              "      <td>3</td>\n",
              "      <td>0</td>\n",
              "      <td>No Disease</td>\n",
              "      <td>Female</td>\n",
              "      <td>Female No Disease</td>\n",
              "    </tr>\n",
              "    <tr>\n",
              "      <th>18</th>\n",
              "      <td>48</td>\n",
              "      <td>0</td>\n",
              "      <td>3</td>\n",
              "      <td>130</td>\n",
              "      <td>275</td>\n",
              "      <td>0</td>\n",
              "      <td>0</td>\n",
              "      <td>139</td>\n",
              "      <td>0</td>\n",
              "      <td>0.2</td>\n",
              "      <td>1</td>\n",
              "      <td>0</td>\n",
              "      <td>3</td>\n",
              "      <td>0</td>\n",
              "      <td>No Disease</td>\n",
              "      <td>Female</td>\n",
              "      <td>Female No Disease</td>\n",
              "    </tr>\n",
              "    <tr>\n",
              "      <th>21</th>\n",
              "      <td>58</td>\n",
              "      <td>0</td>\n",
              "      <td>1</td>\n",
              "      <td>150</td>\n",
              "      <td>283</td>\n",
              "      <td>1</td>\n",
              "      <td>2</td>\n",
              "      <td>162</td>\n",
              "      <td>0</td>\n",
              "      <td>1.0</td>\n",
              "      <td>1</td>\n",
              "      <td>0</td>\n",
              "      <td>3</td>\n",
              "      <td>0</td>\n",
              "      <td>No Disease</td>\n",
              "      <td>Female</td>\n",
              "      <td>Female No Disease</td>\n",
              "    </tr>\n",
              "    <tr>\n",
              "      <th>...</th>\n",
              "      <td>...</td>\n",
              "      <td>...</td>\n",
              "      <td>...</td>\n",
              "      <td>...</td>\n",
              "      <td>...</td>\n",
              "      <td>...</td>\n",
              "      <td>...</td>\n",
              "      <td>...</td>\n",
              "      <td>...</td>\n",
              "      <td>...</td>\n",
              "      <td>...</td>\n",
              "      <td>...</td>\n",
              "      <td>...</td>\n",
              "      <td>...</td>\n",
              "      <td>...</td>\n",
              "      <td>...</td>\n",
              "      <td>...</td>\n",
              "    </tr>\n",
              "    <tr>\n",
              "      <th>273</th>\n",
              "      <td>71</td>\n",
              "      <td>0</td>\n",
              "      <td>4</td>\n",
              "      <td>112</td>\n",
              "      <td>149</td>\n",
              "      <td>0</td>\n",
              "      <td>0</td>\n",
              "      <td>125</td>\n",
              "      <td>0</td>\n",
              "      <td>1.6</td>\n",
              "      <td>2</td>\n",
              "      <td>0</td>\n",
              "      <td>3</td>\n",
              "      <td>0</td>\n",
              "      <td>No Disease</td>\n",
              "      <td>Female</td>\n",
              "      <td>Female No Disease</td>\n",
              "    </tr>\n",
              "    <tr>\n",
              "      <th>276</th>\n",
              "      <td>66</td>\n",
              "      <td>0</td>\n",
              "      <td>3</td>\n",
              "      <td>146</td>\n",
              "      <td>278</td>\n",
              "      <td>0</td>\n",
              "      <td>2</td>\n",
              "      <td>152</td>\n",
              "      <td>0</td>\n",
              "      <td>0.0</td>\n",
              "      <td>2</td>\n",
              "      <td>1</td>\n",
              "      <td>3</td>\n",
              "      <td>0</td>\n",
              "      <td>No Disease</td>\n",
              "      <td>Female</td>\n",
              "      <td>Female No Disease</td>\n",
              "    </tr>\n",
              "    <tr>\n",
              "      <th>277</th>\n",
              "      <td>39</td>\n",
              "      <td>0</td>\n",
              "      <td>3</td>\n",
              "      <td>138</td>\n",
              "      <td>220</td>\n",
              "      <td>0</td>\n",
              "      <td>0</td>\n",
              "      <td>152</td>\n",
              "      <td>0</td>\n",
              "      <td>0.0</td>\n",
              "      <td>2</td>\n",
              "      <td>0</td>\n",
              "      <td>3</td>\n",
              "      <td>0</td>\n",
              "      <td>No Disease</td>\n",
              "      <td>Female</td>\n",
              "      <td>Female No Disease</td>\n",
              "    </tr>\n",
              "    <tr>\n",
              "      <th>279</th>\n",
              "      <td>58</td>\n",
              "      <td>0</td>\n",
              "      <td>4</td>\n",
              "      <td>130</td>\n",
              "      <td>197</td>\n",
              "      <td>0</td>\n",
              "      <td>0</td>\n",
              "      <td>131</td>\n",
              "      <td>0</td>\n",
              "      <td>0.6</td>\n",
              "      <td>2</td>\n",
              "      <td>0</td>\n",
              "      <td>3</td>\n",
              "      <td>0</td>\n",
              "      <td>No Disease</td>\n",
              "      <td>Female</td>\n",
              "      <td>Female No Disease</td>\n",
              "    </tr>\n",
              "    <tr>\n",
              "      <th>291</th>\n",
              "      <td>55</td>\n",
              "      <td>0</td>\n",
              "      <td>2</td>\n",
              "      <td>132</td>\n",
              "      <td>342</td>\n",
              "      <td>0</td>\n",
              "      <td>0</td>\n",
              "      <td>166</td>\n",
              "      <td>0</td>\n",
              "      <td>1.2</td>\n",
              "      <td>1</td>\n",
              "      <td>0</td>\n",
              "      <td>3</td>\n",
              "      <td>0</td>\n",
              "      <td>No Disease</td>\n",
              "      <td>Female</td>\n",
              "      <td>Female No Disease</td>\n",
              "    </tr>\n",
              "  </tbody>\n",
              "</table>\n",
              "<p>71 rows × 17 columns</p>\n",
              "</div>"
            ],
            "text/plain": [
              "     age  gender  cp  trestbps  ...  num     disease  gender_desc             groups\n",
              "4     41       0   2       130  ...    0  No Disease       Female  Female No Disease\n",
              "7     57       0   4       120  ...    0  No Disease       Female  Female No Disease\n",
              "11    56       0   2       140  ...    0  No Disease       Female  Female No Disease\n",
              "18    48       0   3       130  ...    0  No Disease       Female  Female No Disease\n",
              "21    58       0   1       150  ...    0  No Disease       Female  Female No Disease\n",
              "..   ...     ...  ..       ...  ...  ...         ...          ...                ...\n",
              "273   71       0   4       112  ...    0  No Disease       Female  Female No Disease\n",
              "276   66       0   3       146  ...    0  No Disease       Female  Female No Disease\n",
              "277   39       0   3       138  ...    0  No Disease       Female  Female No Disease\n",
              "279   58       0   4       130  ...    0  No Disease       Female  Female No Disease\n",
              "291   55       0   2       132  ...    0  No Disease       Female  Female No Disease\n",
              "\n",
              "[71 rows x 17 columns]"
            ]
          },
          "metadata": {
            "tags": []
          },
          "execution_count": 211
        }
      ]
    },
    {
      "cell_type": "code",
      "metadata": {
        "id": "N8jLcteR8TSt",
        "colab": {
          "base_uri": "https://localhost:8080/",
          "height": 288
        },
        "outputId": "a1323f60-9acd-4cf2-9bbd-8eca89d0ee25"
      },
      "source": [
        "female_no_disease.describe()"
      ],
      "execution_count": null,
      "outputs": [
        {
          "output_type": "execute_result",
          "data": {
            "text/html": [
              "<div>\n",
              "<style scoped>\n",
              "    .dataframe tbody tr th:only-of-type {\n",
              "        vertical-align: middle;\n",
              "    }\n",
              "\n",
              "    .dataframe tbody tr th {\n",
              "        vertical-align: top;\n",
              "    }\n",
              "\n",
              "    .dataframe thead th {\n",
              "        text-align: right;\n",
              "    }\n",
              "</style>\n",
              "<table border=\"1\" class=\"dataframe\">\n",
              "  <thead>\n",
              "    <tr style=\"text-align: right;\">\n",
              "      <th></th>\n",
              "      <th>age</th>\n",
              "      <th>gender</th>\n",
              "      <th>cp</th>\n",
              "      <th>trestbps</th>\n",
              "      <th>chol</th>\n",
              "      <th>fbs</th>\n",
              "      <th>restecg</th>\n",
              "      <th>thalach</th>\n",
              "      <th>exang</th>\n",
              "      <th>oldpeak</th>\n",
              "      <th>slope</th>\n",
              "      <th>ca</th>\n",
              "      <th>thal</th>\n",
              "      <th>num</th>\n",
              "    </tr>\n",
              "  </thead>\n",
              "  <tbody>\n",
              "    <tr>\n",
              "      <th>count</th>\n",
              "      <td>71.000000</td>\n",
              "      <td>71.0</td>\n",
              "      <td>71.000000</td>\n",
              "      <td>71.000000</td>\n",
              "      <td>71.000000</td>\n",
              "      <td>71.000000</td>\n",
              "      <td>71.000000</td>\n",
              "      <td>71.000000</td>\n",
              "      <td>71.000000</td>\n",
              "      <td>71.000000</td>\n",
              "      <td>71.000000</td>\n",
              "      <td>71.000000</td>\n",
              "      <td>71.000000</td>\n",
              "      <td>71.0</td>\n",
              "    </tr>\n",
              "    <tr>\n",
              "      <th>mean</th>\n",
              "      <td>54.577465</td>\n",
              "      <td>0.0</td>\n",
              "      <td>2.915493</td>\n",
              "      <td>128.746479</td>\n",
              "      <td>257.323944</td>\n",
              "      <td>0.084507</td>\n",
              "      <td>0.859155</td>\n",
              "      <td>154.577465</td>\n",
              "      <td>0.112676</td>\n",
              "      <td>0.561972</td>\n",
              "      <td>1.422535</td>\n",
              "      <td>0.309859</td>\n",
              "      <td>3.112676</td>\n",
              "      <td>0.0</td>\n",
              "    </tr>\n",
              "    <tr>\n",
              "      <th>std</th>\n",
              "      <td>10.336706</td>\n",
              "      <td>0.0</td>\n",
              "      <td>0.840858</td>\n",
              "      <td>16.654230</td>\n",
              "      <td>66.506879</td>\n",
              "      <td>0.280126</td>\n",
              "      <td>0.989889</td>\n",
              "      <td>18.812353</td>\n",
              "      <td>0.318447</td>\n",
              "      <td>0.649036</td>\n",
              "      <td>0.551931</td>\n",
              "      <td>0.599799</td>\n",
              "      <td>0.666533</td>\n",
              "      <td>0.0</td>\n",
              "    </tr>\n",
              "    <tr>\n",
              "      <th>min</th>\n",
              "      <td>34.000000</td>\n",
              "      <td>0.0</td>\n",
              "      <td>1.000000</td>\n",
              "      <td>94.000000</td>\n",
              "      <td>141.000000</td>\n",
              "      <td>0.000000</td>\n",
              "      <td>0.000000</td>\n",
              "      <td>96.000000</td>\n",
              "      <td>0.000000</td>\n",
              "      <td>0.000000</td>\n",
              "      <td>1.000000</td>\n",
              "      <td>0.000000</td>\n",
              "      <td>3.000000</td>\n",
              "      <td>0.0</td>\n",
              "    </tr>\n",
              "    <tr>\n",
              "      <th>25%</th>\n",
              "      <td>46.000000</td>\n",
              "      <td>0.0</td>\n",
              "      <td>2.000000</td>\n",
              "      <td>119.000000</td>\n",
              "      <td>210.500000</td>\n",
              "      <td>0.000000</td>\n",
              "      <td>0.000000</td>\n",
              "      <td>148.500000</td>\n",
              "      <td>0.000000</td>\n",
              "      <td>0.000000</td>\n",
              "      <td>1.000000</td>\n",
              "      <td>0.000000</td>\n",
              "      <td>3.000000</td>\n",
              "      <td>0.0</td>\n",
              "    </tr>\n",
              "    <tr>\n",
              "      <th>50%</th>\n",
              "      <td>54.000000</td>\n",
              "      <td>0.0</td>\n",
              "      <td>3.000000</td>\n",
              "      <td>130.000000</td>\n",
              "      <td>250.000000</td>\n",
              "      <td>0.000000</td>\n",
              "      <td>0.000000</td>\n",
              "      <td>159.000000</td>\n",
              "      <td>0.000000</td>\n",
              "      <td>0.300000</td>\n",
              "      <td>1.000000</td>\n",
              "      <td>0.000000</td>\n",
              "      <td>3.000000</td>\n",
              "      <td>0.0</td>\n",
              "    </tr>\n",
              "    <tr>\n",
              "      <th>75%</th>\n",
              "      <td>63.500000</td>\n",
              "      <td>0.0</td>\n",
              "      <td>3.500000</td>\n",
              "      <td>140.000000</td>\n",
              "      <td>291.000000</td>\n",
              "      <td>0.000000</td>\n",
              "      <td>2.000000</td>\n",
              "      <td>167.500000</td>\n",
              "      <td>0.000000</td>\n",
              "      <td>1.050000</td>\n",
              "      <td>2.000000</td>\n",
              "      <td>0.000000</td>\n",
              "      <td>3.000000</td>\n",
              "      <td>0.0</td>\n",
              "    </tr>\n",
              "    <tr>\n",
              "      <th>max</th>\n",
              "      <td>76.000000</td>\n",
              "      <td>0.0</td>\n",
              "      <td>4.000000</td>\n",
              "      <td>180.000000</td>\n",
              "      <td>564.000000</td>\n",
              "      <td>1.000000</td>\n",
              "      <td>2.000000</td>\n",
              "      <td>192.000000</td>\n",
              "      <td>1.000000</td>\n",
              "      <td>2.600000</td>\n",
              "      <td>3.000000</td>\n",
              "      <td>2.000000</td>\n",
              "      <td>7.000000</td>\n",
              "      <td>0.0</td>\n",
              "    </tr>\n",
              "  </tbody>\n",
              "</table>\n",
              "</div>"
            ],
            "text/plain": [
              "             age  gender         cp  ...         ca       thal   num\n",
              "count  71.000000    71.0  71.000000  ...  71.000000  71.000000  71.0\n",
              "mean   54.577465     0.0   2.915493  ...   0.309859   3.112676   0.0\n",
              "std    10.336706     0.0   0.840858  ...   0.599799   0.666533   0.0\n",
              "min    34.000000     0.0   1.000000  ...   0.000000   3.000000   0.0\n",
              "25%    46.000000     0.0   2.000000  ...   0.000000   3.000000   0.0\n",
              "50%    54.000000     0.0   3.000000  ...   0.000000   3.000000   0.0\n",
              "75%    63.500000     0.0   3.500000  ...   0.000000   3.000000   0.0\n",
              "max    76.000000     0.0   4.000000  ...   2.000000   7.000000   0.0\n",
              "\n",
              "[8 rows x 14 columns]"
            ]
          },
          "metadata": {
            "tags": []
          },
          "execution_count": 212
        }
      ]
    },
    {
      "cell_type": "code",
      "metadata": {
        "id": "ELkvcOZ22QYU",
        "colab": {
          "base_uri": "https://localhost:8080/",
          "height": 321
        },
        "outputId": "00a7109b-3653-4649-aa7c-e1e85325a489"
      },
      "source": [
        "colors = ['blue','orange','green','red']\n",
        "explode = [0,0,0,0]\n",
        "plt.figure(figsize = (5,5))\n",
        "plt.pie([len(male_disease),len(male_no_disease),len(female_disease), len(female_no_disease)],labels=['male disease','male no disease','female disease', 'female no disease'],explode=explode,colors=colors, autopct='%1.1f%%')\n",
        "plt.title('Gender Groups',color = 'blue',fontsize = 15)\n",
        "plt.show()"
      ],
      "execution_count": null,
      "outputs": [
        {
          "output_type": "display_data",
          "data": {
            "image/png": "[encoded data removed]",
            "text/plain": [
              "<Figure size 360x360 with 1 Axes>"
            ]
          },
          "metadata": {
            "tags": []
          }
        }
      ]
    },
    {
      "cell_type": "markdown",
      "metadata": {
        "id": "EXgKNdRSORDT"
      },
      "source": [
        "# Statistical Tests"
      ]
    },
    {
      "cell_type": "markdown",
      "metadata": {
        "id": "bzPAbq71BosL"
      },
      "source": [
        "Following, the distribution for the each of the groups selected (male_disease, male_no_disease, female_disease, female_no_disease) is calculated for each one of the selected variables.\n",
        "Depending on the type of distribution a parametric or non- parametric test will be apply as appropiate."
      ]
    },
    {
      "cell_type": "markdown",
      "metadata": {
        "id": "evBU-fvHam-W"
      },
      "source": [
        "# Maximum Heart Rate (Thalach)"
      ]
    },
    {
      "cell_type": "code",
      "metadata": {
        "id": "Yp-X9bA9a4zR",
        "colab": {
          "base_uri": "https://localhost:8080/",
          "height": 261
        },
        "outputId": "6bc9dbbd-806c-4d24-dfeb-b50b393379da"
      },
      "source": [
        "print(stats.describe(male_disease['thalach']))\n",
        "print(stats.shapiro(male_disease['thalach']))\n",
        "\n",
        "sns.set_style('whitegrid')\n",
        "plt.figure(figsize=(5,3))\n",
        "ax = sns.distplot(male_disease['thalach'], bins=10)\n",
        "plt.show()"
      ],
      "execution_count": null,
      "outputs": [
        {
          "output_type": "stream",
          "text": [
            "DescribeResult(nobs=112, minmax=(71, 195), mean=138.20535714285714, variance=539.4078989703991, skewness=-0.21870839282333548, kurtosis=-0.2595177732459084)\n",
            "(0.9920493364334106, 0.7665610909461975)\n"
          ],
          "name": "stdout"
        },
        {
          "output_type": "display_data",
          "data": {
            "image/png": "[encoded data removed]",
            "text/plain": [
              "<Figure size 360x216 with 1 Axes>"
            ]
          },
          "metadata": {
            "tags": []
          }
        }
      ]
    },
    {
      "cell_type": "markdown",
      "metadata": {
        "id": "8p6OxVSHFcCD"
      },
      "source": [
        "The thalach variable histogram in plotted above for the male_disease group. This distribution seems to be normal. Applying Shapiro-Wilks test, p_value is > 0.05, indicating that in fact, the sample is normally distributed. "
      ]
    },
    {
      "cell_type": "code",
      "metadata": {
        "id": "j4eJhGJJdMqG",
        "colab": {
          "base_uri": "https://localhost:8080/",
          "height": 263
        },
        "outputId": "6da848ee-3dfe-463a-c359-11710c6771d5"
      },
      "source": [
        "print(stats.describe(male_no_disease['thalach']))\n",
        "print(stats.shapiro(male_no_disease['thalach']))\n",
        "\n",
        "sns.set_style('whitegrid')\n",
        "plt.figure(figsize=(5,3))\n",
        "ax = sns.distplot(male_no_disease['thalach'], bins=10)\n",
        "plt.show()"
      ],
      "execution_count": null,
      "outputs": [
        {
          "output_type": "stream",
          "text": [
            "DescribeResult(nobs=89, minmax=(105, 202), mean=161.77528089887642, variance=350.4716547497447, skewness=-0.5644163722757881, kurtosis=0.23469849944462062)\n",
            "(0.9759578108787537, 0.09718204289674759)\n"
          ],
          "name": "stdout"
        },
        {
          "output_type": "display_data",
          "data": {
            "image/png": "[encoded data removed]",
            "text/plain": [
              "<Figure size 360x216 with 1 Axes>"
            ]
          },
          "metadata": {
            "tags": []
          }
        }
      ]
    },
    {
      "cell_type": "markdown",
      "metadata": {
        "id": "habZ8f6yHepU"
      },
      "source": [
        "In the above plot, the maximum heart rate (thalach) seems to be normally distributed. Results from Shapiro Wilks test shows p_value > 0.05, which indicates that in fact, the sample is normally distributed. This group has 89 data points, which is still a good size sample for Shapiro Wiks test "
      ]
    },
    {
      "cell_type": "code",
      "metadata": {
        "id": "haUuxUavdqkh",
        "colab": {
          "base_uri": "https://localhost:8080/",
          "height": 261
        },
        "outputId": "6147058c-566d-4a49-e290-a9969054dfba"
      },
      "source": [
        "print(stats.describe(female_disease['thalach']))\n",
        "print(stats.shapiro(female_disease['thalach']))\n",
        "\n",
        "sns.set_style('whitegrid')\n",
        "plt.figure(figsize=(5,3))\n",
        "ax = sns.distplot(female_disease['thalach'], bins=10)\n",
        "plt.show()"
      ],
      "execution_count": null,
      "outputs": [
        {
          "output_type": "stream",
          "text": [
            "DescribeResult(nobs=25, minmax=(97, 174), mean=143.16, variance=407.0566666666667, skewness=-0.5884988323293869, kurtosis=-0.3471562216784476)\n",
            "(0.9602130055427551, 0.4187338352203369)\n"
          ],
          "name": "stdout"
        },
        {
          "output_type": "display_data",
          "data": {
            "image/png": "[encoded data removed]",
            "text/plain": [
              "<Figure size 360x216 with 1 Axes>"
            ]
          },
          "metadata": {
            "tags": []
          }
        }
      ]
    },
    {
      "cell_type": "markdown",
      "metadata": {
        "id": "rcxKy4mzsNyE"
      },
      "source": [
        "For females that showed heart disease, the visual inspection distribution for maximum heart rate (thalach) shows distribution similar to normal, but with a strange bin distribution. The p_value for Shapiro Wilks is > 0.05, indicating that the sample is in fact normally distributed. The sample size for this group is 25 which affects the reliability of Shapiro Wilks test results. This variable-group will be considered as normally distributed and as such will be tested statistically for significance in the correlation with heart disease variable"
      ]
    },
    {
      "cell_type": "code",
      "metadata": {
        "id": "kCSvG04WeC4I",
        "colab": {
          "base_uri": "https://localhost:8080/",
          "height": 261
        },
        "outputId": "8154a8e2-0aa9-4bbb-fec9-bb7a311fb1dd"
      },
      "source": [
        "print(stats.describe(female_no_disease['thalach']))\n",
        "print(stats.shapiro(female_no_disease['thalach']))\n",
        "\n",
        "sns.set_style('whitegrid')\n",
        "plt.figure(figsize=(5,3))\n",
        "ax = sns.distplot(female_no_disease['thalach'])"
      ],
      "execution_count": null,
      "outputs": [
        {
          "output_type": "stream",
          "text": [
            "DescribeResult(nobs=71, minmax=(96, 192), mean=154.57746478873239, variance=353.90462776659956, skewness=-0.913052491577322, kurtosis=0.5028921398793256)\n",
            "(0.927707314491272, 0.0005300351185724139)\n"
          ],
          "name": "stdout"
        },
        {
          "output_type": "display_data",
          "data": {
            "image/png": "[encoded data removed]",
            "text/plain": [
              "<Figure size 360x216 with 1 Axes>"
            ]
          },
          "metadata": {
            "tags": []
          }
        }
      ]
    },
    {
      "cell_type": "markdown",
      "metadata": {
        "id": "7U3BjIFKvB2L"
      },
      "source": [
        "The distribution for the female group with no disease is not normal as per visual inspection of the distribution plot and Shapiro Wilks p_value results"
      ]
    },
    {
      "cell_type": "markdown",
      "metadata": {
        "id": "vD1qzsVKv1MW"
      },
      "source": [
        "Comparing all four groups using Kruskal Wallis test because the female group with no disease is not normally distributed. p_value < 0.05 indicates that all groups are not the same and there is a significant difference among them"
      ]
    },
    {
      "cell_type": "code",
      "metadata": {
        "id": "l6LTTtU2hTa0",
        "colab": {
          "base_uri": "https://localhost:8080/",
          "height": 35
        },
        "outputId": "07252d90-4b83-42b0-da5c-5b5795b2abe3"
      },
      "source": [
        "stats.kruskal(male_disease['thalach'],male_no_disease['thalach'],female_disease['thalach'], female_no_disease['thalach'])"
      ],
      "execution_count": null,
      "outputs": [
        {
          "output_type": "execute_result",
          "data": {
            "text/plain": [
              "KruskalResult(statistic=58.82361329846048, pvalue=1.0484166472963842e-12)"
            ]
          },
          "metadata": {
            "tags": []
          },
          "execution_count": 218
        }
      ]
    },
    {
      "cell_type": "markdown",
      "metadata": {
        "id": "-sFyszXrwdmX"
      },
      "source": [
        "Comparing the Maximum Heart Rate for male and female with heart disease (code cell below), as per our hyphotesis, ttest shows a p_value > 0.05. T-test was used since both groups are are normally distributed. This indicates that given the data we are presented with, we fail to reject the null. According to this results, the difference between the samples is not significant and is it can not be extrapolated to the general population"
      ]
    },
    {
      "cell_type": "code",
      "metadata": {
        "id": "NocQUbXfytF5",
        "colab": {
          "base_uri": "https://localhost:8080/",
          "height": 35
        },
        "outputId": "3b614824-b64f-418a-e25a-ca49f51421f3"
      },
      "source": [
        "stats.ttest_ind(male_disease['thalach'], female_disease['thalach'])"
      ],
      "execution_count": null,
      "outputs": [
        {
          "output_type": "execute_result",
          "data": {
            "text/plain": [
              "Ttest_indResult(statistic=-0.9861824062595997, pvalue=0.3258078061310282)"
            ]
          },
          "metadata": {
            "tags": []
          },
          "execution_count": 219
        }
      ]
    },
    {
      "cell_type": "markdown",
      "metadata": {
        "id": "43fm4SIGz7xM"
      },
      "source": [
        "As part of gaining addition insight of the data (beyond the tested hyphotesis) the comparison between male groups as well as female groups is evaluated below. Also, the difference between healthy male and female"
      ]
    },
    {
      "cell_type": "markdown",
      "metadata": {
        "id": "HCNB_eCQxlpm"
      },
      "source": [
        "Interestingly, there is significant difference between the maximum heart rate between healthy males and females"
      ]
    },
    {
      "cell_type": "code",
      "metadata": {
        "id": "VwCTUx5ESbf-",
        "colab": {
          "base_uri": "https://localhost:8080/",
          "height": 35
        },
        "outputId": "5dd6786a-3cbf-48ff-90d8-ac4d02d2090f"
      },
      "source": [
        "stats.kruskal(male_no_disease['thalach'], female_no_disease['thalach'])"
      ],
      "execution_count": null,
      "outputs": [
        {
          "output_type": "execute_result",
          "data": {
            "text/plain": [
              "KruskalResult(statistic=5.110031074150917, pvalue=0.0237878941429904)"
            ]
          },
          "metadata": {
            "tags": []
          },
          "execution_count": 220
        }
      ]
    },
    {
      "cell_type": "markdown",
      "metadata": {
        "id": "paxrW7b4ymgs"
      },
      "source": [
        "There is also a significant dissference between females with and without heart disease"
      ]
    },
    {
      "cell_type": "code",
      "metadata": {
        "id": "2CR8FqHwinXH",
        "colab": {
          "base_uri": "https://localhost:8080/",
          "height": 35
        },
        "outputId": "bd44c401-4547-4ac4-cd82-7b8a01a2fd90"
      },
      "source": [
        "stats.kruskal(female_disease['thalach'], female_no_disease['thalach'])"
      ],
      "execution_count": null,
      "outputs": [
        {
          "output_type": "execute_result",
          "data": {
            "text/plain": [
              "KruskalResult(statistic=6.835006642498727, pvalue=0.008938836123548382)"
            ]
          },
          "metadata": {
            "tags": []
          },
          "execution_count": 221
        }
      ]
    },
    {
      "cell_type": "markdown",
      "metadata": {
        "id": "yyuQwxb3zeE8"
      },
      "source": [
        "Male groups both presented a normal distribution. In such a case the ttest is applied insted of Kruskal Wallis test"
      ]
    },
    {
      "cell_type": "code",
      "metadata": {
        "id": "sbg3C5hqiC5s",
        "colab": {
          "base_uri": "https://localhost:8080/",
          "height": 35
        },
        "outputId": "efcf09c4-2bf9-410c-d33a-9efb2e92111f"
      },
      "source": [
        "stats.ttest_ind(male_disease['thalach'], male_no_disease['thalach'])"
      ],
      "execution_count": null,
      "outputs": [
        {
          "output_type": "execute_result",
          "data": {
            "text/plain": [
              "Ttest_indResult(statistic=-7.774084851800002, pvalue=3.992946214332269e-13)"
            ]
          },
          "metadata": {
            "tags": []
          },
          "execution_count": 222
        }
      ]
    },
    {
      "cell_type": "markdown",
      "metadata": {
        "id": "IKJ6OT9J0fQj"
      },
      "source": [
        "For all other groups combinations (sick and healthy male, sick and healthy female as well as healthy male and female) seem that there is a significant difference in values of Maximum Heart Rate. This trend could be later evaluated as part of a different experiment"
      ]
    },
    {
      "cell_type": "markdown",
      "metadata": {
        "id": "Nu56tDbqaqJa"
      },
      "source": [
        "# Cholesterol"
      ]
    },
    {
      "cell_type": "code",
      "metadata": {
        "id": "JVwPIro-pDhE",
        "colab": {
          "base_uri": "https://localhost:8080/",
          "height": 261
        },
        "outputId": "1d341beb-7f6a-425f-9e99-26498fedceae"
      },
      "source": [
        "print(stats.describe(male_disease['chol']))\n",
        "print(stats.shapiro(male_disease['chol']))\n",
        "\n",
        "sns.set_style('whitegrid')\n",
        "plt.figure(figsize=(5,3))\n",
        "ax = sns.distplot(male_disease['chol'], bins=10)\n",
        "plt.show()"
      ],
      "execution_count": null,
      "outputs": [
        {
          "output_type": "stream",
          "text": [
            "DescribeResult(nobs=112, minmax=(131, 353), mean=246.42857142857142, variance=2085.83268983269, skewness=-0.06484759162580518, kurtosis=-0.5241189360045242)\n",
            "(0.9929131865501404, 0.8375210762023926)\n"
          ],
          "name": "stdout"
        },
        {
          "output_type": "display_data",
          "data": {
            "image/png": "[encoded data removed]",
            "text/plain": [
              "<Figure size 360x216 with 1 Axes>"
            ]
          },
          "metadata": {
            "tags": []
          }
        }
      ]
    },
    {
      "cell_type": "markdown",
      "metadata": {
        "id": "08YwSkLE4yix"
      },
      "source": [
        "Cholesterol values distribution for males with the disease seems to be normal as per visual inspection, which is confirmed by the Shapiro Wilks p_value > 0.05"
      ]
    },
    {
      "cell_type": "code",
      "metadata": {
        "id": "8eSFHsPKpEyS",
        "colab": {
          "base_uri": "https://localhost:8080/",
          "height": 261
        },
        "outputId": "c9659e9c-47a8-4027-aecf-86da54442096"
      },
      "source": [
        "print(stats.describe(male_no_disease['chol']))\n",
        "print(stats.shapiro(male_no_disease['chol']))\n",
        "\n",
        "sns.set_style('whitegrid')\n",
        "plt.figure(figsize=(5,3))\n",
        "ax = sns.distplot(male_no_disease['chol'], bins=10)\n",
        "plt.show()"
      ],
      "execution_count": null,
      "outputs": [
        {
          "output_type": "stream",
          "text": [
            "DescribeResult(nobs=89, minmax=(126, 325), mean=232.46067415730337, variance=1425.6149131767108, skewness=0.284966567479557, kurtosis=0.3181689453860863)\n",
            "(0.9796720743179321, 0.17673328518867493)\n"
          ],
          "name": "stdout"
        },
        {
          "output_type": "display_data",
          "data": {
            "image/png": "[encoded data removed]",
            "text/plain": [
              "<Figure size 360x216 with 1 Axes>"
            ]
          },
          "metadata": {
            "tags": []
          }
        }
      ]
    },
    {
      "cell_type": "markdown",
      "metadata": {
        "id": "rJ5Qi7HB5pw7"
      },
      "source": [
        "Healthy males cholesterol group distribution shows a distribution similar to normal. This is confirm with Shapiro Wilks p_value >0.05. This group has 89 data point which is considered a good sample size for Shapiro Wilks test"
      ]
    },
    {
      "cell_type": "code",
      "metadata": {
        "id": "bcn0Rs71pEyV",
        "colab": {
          "base_uri": "https://localhost:8080/",
          "height": 261
        },
        "outputId": "64f1113e-43c3-41ac-b252-7799c1322b79"
      },
      "source": [
        "print(stats.describe(female_disease['chol']))\n",
        "print(stats.shapiro(female_disease['chol']))\n",
        "\n",
        "sns.set_style('whitegrid')\n",
        "plt.figure(figsize=(5,3))\n",
        "ax = sns.distplot(female_disease['chol'], bins=10)\n",
        "plt.show()"
      ],
      "execution_count": null,
      "outputs": [
        {
          "output_type": "stream",
          "text": [
            "DescribeResult(nobs=25, minmax=(164, 409), mean=276.16, variance=3586.14, skewness=0.49303575177914233, kurtosis=0.007484751769346598)\n",
            "(0.9657630324363708, 0.540614128112793)\n"
          ],
          "name": "stdout"
        },
        {
          "output_type": "display_data",
          "data": {
            "image/png": "[encoded data removed]",
            "text/plain": [
              "<Figure size 360x216 with 1 Axes>"
            ]
          },
          "metadata": {
            "tags": []
          }
        }
      ]
    },
    {
      "cell_type": "markdown",
      "metadata": {
        "id": "etD2YPtx8Qt0"
      },
      "source": [
        "Females with a disease show cholesterol levels that have a normal distribution as per plot and statistical test above"
      ]
    },
    {
      "cell_type": "code",
      "metadata": {
        "id": "UGwJ2HT9pEyY",
        "colab": {
          "base_uri": "https://localhost:8080/",
          "height": 261
        },
        "outputId": "76af8fd5-d862-4061-d009-6de939e4e12c"
      },
      "source": [
        "print(stats.describe(female_no_disease['chol']))\n",
        "print(stats.shapiro(female_no_disease['chol']))\n",
        "\n",
        "sns.set_style('whitegrid')\n",
        "plt.figure(figsize=(5,3))\n",
        "ax = sns.distplot(female_no_disease['chol'])"
      ],
      "execution_count": null,
      "outputs": [
        {
          "output_type": "stream",
          "text": [
            "DescribeResult(nobs=71, minmax=(141, 564), mean=257.32394366197184, variance=4423.164989939638, skewness=1.5764327069766146, kurtosis=5.063452404151107)\n",
            "(0.9003003239631653, 3.5389457480050623e-05)\n"
          ],
          "name": "stdout"
        },
        {
          "output_type": "display_data",
          "data": {
            "image/png": "[encoded data removed]",
            "text/plain": [
              "<Figure size 360x216 with 1 Axes>"
            ]
          },
          "metadata": {
            "tags": []
          }
        }
      ]
    },
    {
      "cell_type": "code",
      "metadata": {
        "id": "lC7pxrQkpEya",
        "colab": {
          "base_uri": "https://localhost:8080/",
          "height": 35
        },
        "outputId": "a634fff3-3a37-479a-c3a6-0c0cd5779247"
      },
      "source": [
        "stats.kruskal(male_disease['chol'],male_no_disease['chol'],female_disease['chol'], female_no_disease['chol'])"
      ],
      "execution_count": null,
      "outputs": [
        {
          "output_type": "execute_result",
          "data": {
            "text/plain": [
              "KruskalResult(statistic=15.0557394549677, pvalue=0.0017696299904152917)"
            ]
          },
          "metadata": {
            "tags": []
          },
          "execution_count": 227
        }
      ]
    },
    {
      "cell_type": "code",
      "metadata": {
        "id": "ZA-5pqGxR2K0",
        "colab": {
          "base_uri": "https://localhost:8080/",
          "height": 35
        },
        "outputId": "bd7c7d0d-14fe-40d6-9456-ddb5271d0c14"
      },
      "source": [
        "stats.ttest_ind(male_disease['chol'], female_disease['chol'])"
      ],
      "execution_count": null,
      "outputs": [
        {
          "output_type": "execute_result",
          "data": {
            "text/plain": [
              "Ttest_indResult(statistic=-2.7711798330739494, pvalue=0.006373753817241205)"
            ]
          },
          "metadata": {
            "tags": []
          },
          "execution_count": 228
        }
      ]
    },
    {
      "cell_type": "code",
      "metadata": {
        "id": "4Kme_S0APn2n",
        "colab": {
          "base_uri": "https://localhost:8080/",
          "height": 468
        },
        "outputId": "77b56fb5-25e5-4bc3-c62a-ac2b451113fa"
      },
      "source": [
        "plt.figure(figsize=(10,7))\n",
        "ax = sns.barplot(x=\"groups\", y=\"chol\", data=heart_data)\n",
        "plt.title('Cholesterol Values per Group', size=16)\n",
        "plt.ylabel('Cholesterol', size=16)\n",
        "plt.xlabel('Groups', size=16)\n",
        "plt.xticks(size=12)\n",
        "plt.yticks(size=12)\n",
        "#sns.despine()\n",
        "plt.show()"
      ],
      "execution_count": null,
      "outputs": [
        {
          "output_type": "display_data",
          "data": {
            "image/png": "[encoded data removed]",
            "text/plain": [
              "<Figure size 720x504 with 1 Axes>"
            ]
          },
          "metadata": {
            "tags": []
          }
        }
      ]
    },
    {
      "cell_type": "markdown",
      "metadata": {
        "id": "nxrzPjOj_UOt"
      },
      "source": [
        "Ttest p_value is < 0.05, meaning we can reject the null and in fact the values are significantly different in both groups, male and females with heart disease"
      ]
    },
    {
      "cell_type": "markdown",
      "metadata": {
        "id": "L0glvB-RA4jy"
      },
      "source": [
        "Below is presented the quantification of the median for this values:"
      ]
    },
    {
      "cell_type": "code",
      "metadata": {
        "id": "Ni7Ve5_QFGBG",
        "colab": {
          "base_uri": "https://localhost:8080/",
          "height": 35
        },
        "outputId": "f209721f-84e4-4850-e859-5ddbffcae80b"
      },
      "source": [
        "def get_95_ci(array_1, array_2):\n",
        "    sample_1_n = array_1.shape[0]\n",
        "    sample_2_n = array_2.shape[0]\n",
        "    sample_1_mean = array_1.mean()\n",
        "    sample_2_mean = array_2.mean()\n",
        "    sample_1_var = array_1.var()\n",
        "    sample_2_var = array_2.var()\n",
        "    mean_difference = sample_2_mean - sample_1_mean\n",
        "    std_err_difference = math.sqrt((sample_1_var/sample_1_n)+(sample_2_var/sample_2_n))\n",
        "    margin_of_error = 1.96 * std_err_difference\n",
        "    ci_lower = mean_difference - margin_of_error\n",
        "    ci_upper = mean_difference + margin_of_error\n",
        "    return(\"The difference in means at the 95% confidence interval (two-tail) is between \"+str(ci_lower)+\" and \"+str(ci_upper)+\".\")\n",
        "\n",
        "get_95_ci(male_disease['chol'], female_disease['chol'])"
      ],
      "execution_count": null,
      "outputs": [
        {
          "output_type": "execute_result",
          "data": {
            "application/vnd.google.colaboratory.intrinsic+json": {
              "type": "string"
            },
            "text/plain": [
              "'The difference in means at the 95% confidence interval (two-tail) is between 4.77938099570326 and 54.683476147153954.'"
            ]
          },
          "metadata": {
            "tags": []
          },
          "execution_count": 230
        }
      ]
    },
    {
      "cell_type": "markdown",
      "metadata": {
        "id": "InEh9vGbWSbp"
      },
      "source": [
        "Available data shows that with 95% confidence female patients have cholesterol levels between 4.77 and 54.68 mmHG on admission to the hospital, higher than male patients"
      ]
    },
    {
      "cell_type": "code",
      "metadata": {
        "id": "BQs5eb7FSl9E",
        "colab": {
          "base_uri": "https://localhost:8080/",
          "height": 35
        },
        "outputId": "9cbae046-6f56-46d6-c54d-013c12b3114f"
      },
      "source": [
        "stats.kruskal(male_no_disease['chol'], female_no_disease['chol'])"
      ],
      "execution_count": null,
      "outputs": [
        {
          "output_type": "execute_result",
          "data": {
            "text/plain": [
              "KruskalResult(statistic=6.081739296908078, pvalue=0.013658622903168912)"
            ]
          },
          "metadata": {
            "tags": []
          },
          "execution_count": 231
        }
      ]
    },
    {
      "cell_type": "code",
      "metadata": {
        "id": "yktZCLs2pEyg",
        "colab": {
          "base_uri": "https://localhost:8080/",
          "height": 35
        },
        "outputId": "d0b1c715-3226-4ec3-cb53-01c2959e9505"
      },
      "source": [
        "stats.ttest_ind(male_disease['chol'], male_no_disease['chol'])"
      ],
      "execution_count": null,
      "outputs": [
        {
          "output_type": "execute_result",
          "data": {
            "text/plain": [
              "Ttest_indResult(statistic=2.3224195382860833, pvalue=0.02122151650835397)"
            ]
          },
          "metadata": {
            "tags": []
          },
          "execution_count": 232
        }
      ]
    },
    {
      "cell_type": "code",
      "metadata": {
        "id": "-AB-KQSFpEyi",
        "colab": {
          "base_uri": "https://localhost:8080/",
          "height": 35
        },
        "outputId": "54316505-1e77-4ddd-82ce-b9d8ff90eb1d"
      },
      "source": [
        "stats.kruskal(female_disease['chol'], female_no_disease['chol'])"
      ],
      "execution_count": null,
      "outputs": [
        {
          "output_type": "execute_result",
          "data": {
            "text/plain": [
              "KruskalResult(statistic=2.4769113029759784, pvalue=0.11552892858609776)"
            ]
          },
          "metadata": {
            "tags": []
          },
          "execution_count": 233
        }
      ]
    },
    {
      "cell_type": "markdown",
      "metadata": {
        "id": "zT9KR4TTawvB"
      },
      "source": [
        "# Blood Pressure"
      ]
    },
    {
      "cell_type": "code",
      "metadata": {
        "id": "xiINLl9rtP05",
        "colab": {
          "base_uri": "https://localhost:8080/",
          "height": 261
        },
        "outputId": "f3f0f22d-09d8-4b72-e3b3-95bc674667c4"
      },
      "source": [
        "print(stats.describe(male_disease['trestbps']))\n",
        "print(stats.shapiro(male_disease['trestbps']))\n",
        "\n",
        "sns.set_style('whitegrid')\n",
        "plt.figure(figsize=(5,3))\n",
        "ax = sns.distplot(male_disease['trestbps'], bins=10)\n",
        "plt.show()"
      ],
      "execution_count": null,
      "outputs": [
        {
          "output_type": "stream",
          "text": [
            "DescribeResult(nobs=112, minmax=(100, 192), mean=131.96428571428572, variance=301.6383526383526, skewness=0.7387176127283033, kurtosis=0.5423946094414815)\n",
            "(0.9575273990631104, 0.0012953875120729208)\n"
          ],
          "name": "stdout"
        },
        {
          "output_type": "display_data",
          "data": {
            "image/png": "[encoded data removed]",
            "text/plain": [
              "<Figure size 360x216 with 1 Axes>"
            ]
          },
          "metadata": {
            "tags": []
          }
        }
      ]
    },
    {
      "cell_type": "markdown",
      "metadata": {
        "id": "N0f3kcpfZ7C5"
      },
      "source": [
        "Resting blood pressure for sample of males with the disease have a p_value for Shapiro Wilks test < 0.05. Which means the sample is not normally distributed."
      ]
    },
    {
      "cell_type": "code",
      "metadata": {
        "id": "UlfOWME1tP1C",
        "colab": {
          "base_uri": "https://localhost:8080/",
          "height": 261
        },
        "outputId": "1f2496dc-9d5b-4d4f-840c-185f157bd87d"
      },
      "source": [
        "print(stats.describe(male_no_disease['trestbps']))\n",
        "print(stats.shapiro(male_no_disease['trestbps']))\n",
        "\n",
        "sns.set_style('whitegrid')\n",
        "plt.figure(figsize=(5,3))\n",
        "ax = sns.distplot(male_no_disease['trestbps'], bins=10)\n",
        "plt.show()"
      ],
      "execution_count": null,
      "outputs": [
        {
          "output_type": "stream",
          "text": [
            "DescribeResult(nobs=89, minmax=(94, 178), mean=129.51685393258427, variance=263.5252808988764, skewness=0.5423454967515277, kurtosis=0.42820957614450306)\n",
            "(0.9711126089096069, 0.04433523863554001)\n"
          ],
          "name": "stdout"
        },
        {
          "output_type": "display_data",
          "data": {
            "image/png": "[encoded data removed]",
            "text/plain": [
              "<Figure size 360x216 with 1 Axes>"
            ]
          },
          "metadata": {
            "tags": []
          }
        }
      ]
    },
    {
      "cell_type": "markdown",
      "metadata": {
        "id": "oVNtGHWs8Y8h"
      },
      "source": [
        "Both male groups are not normally distributed to blood pressure, according to p_value < 0.05 and visual inspection"
      ]
    },
    {
      "cell_type": "code",
      "metadata": {
        "id": "_LpLvFRZtP1H",
        "colab": {
          "base_uri": "https://localhost:8080/",
          "height": 261
        },
        "outputId": "455e72d9-7c57-44d0-e1ac-a2381379ef6a"
      },
      "source": [
        "print(stats.describe(female_disease['trestbps']))\n",
        "print(stats.shapiro(female_disease['trestbps']))\n",
        "\n",
        "sns.set_style('whitegrid')\n",
        "plt.figure(figsize=(5,3))\n",
        "ax = sns.distplot(female_disease['trestbps'], bins=10)\n",
        "plt.show()"
      ],
      "execution_count": null,
      "outputs": [
        {
          "output_type": "stream",
          "text": [
            "DescribeResult(nobs=25, minmax=(108, 200), mean=146.6, variance=446.0, skewness=0.7071027800315837, kurtosis=0.11103074497107723)\n",
            "(0.9419654607772827, 0.16432629525661469)\n"
          ],
          "name": "stdout"
        },
        {
          "output_type": "display_data",
          "data": {
            "image/png": "[encoded data removed]",
            "text/plain": [
              "<Figure size 360x216 with 1 Axes>"
            ]
          },
          "metadata": {
            "tags": []
          }
        }
      ]
    },
    {
      "cell_type": "code",
      "metadata": {
        "id": "zFTQtag0tP1K",
        "colab": {
          "base_uri": "https://localhost:8080/",
          "height": 261
        },
        "outputId": "8a814c85-c26e-40e1-8fdc-01e40fb5be7f"
      },
      "source": [
        "print(stats.describe(female_no_disease['trestbps']))\n",
        "print(stats.shapiro(female_no_disease['trestbps']))\n",
        "\n",
        "sns.set_style('whitegrid')\n",
        "plt.figure(figsize=(5,3))\n",
        "ax = sns.distplot(female_no_disease['trestbps'])"
      ],
      "execution_count": null,
      "outputs": [
        {
          "output_type": "stream",
          "text": [
            "DescribeResult(nobs=71, minmax=(94, 180), mean=128.74647887323943, variance=277.3633802816901, skewness=0.3221284153092897, kurtosis=0.1272767128376917)\n",
            "(0.9792959094047546, 0.2902149260044098)\n"
          ],
          "name": "stdout"
        },
        {
          "output_type": "display_data",
          "data": {
            "image/png": "[encoded data removed]",
            "text/plain": [
              "<Figure size 360x216 with 1 Axes>"
            ]
          },
          "metadata": {
            "tags": []
          }
        }
      ]
    },
    {
      "cell_type": "markdown",
      "metadata": {
        "id": "JwfbZT8kc1_H"
      },
      "source": [
        "Test for normality for female samples (both with and without disease) show p_value > 0.05, which indicates normality of the distribution"
      ]
    },
    {
      "cell_type": "markdown",
      "metadata": {
        "id": "MIukLgKadJx1"
      },
      "source": [
        "Using Kruskal Wallis to investigate the difference between male and female with heart disease in blood pressure while resting:"
      ]
    },
    {
      "cell_type": "code",
      "metadata": {
        "id": "k821JwJpR5mG",
        "colab": {
          "base_uri": "https://localhost:8080/",
          "height": 35
        },
        "outputId": "694a09cf-1e57-4005-e955-31c5b2699ce3"
      },
      "source": [
        "stats.kruskal(male_disease['trestbps'], female_disease['trestbps'])"
      ],
      "execution_count": null,
      "outputs": [
        {
          "output_type": "execute_result",
          "data": {
            "text/plain": [
              "KruskalResult(statistic=10.583322507753362, pvalue=0.0011411239201663628)"
            ]
          },
          "metadata": {
            "tags": []
          },
          "execution_count": 238
        }
      ]
    },
    {
      "cell_type": "markdown",
      "metadata": {
        "id": "gzrXJAVE9FH0"
      },
      "source": [
        "p_value for Kruskal Wallis is < 0.05 which indicates that there is a significant difference between male and female blood pressure that were diagnosed with heart disease."
      ]
    },
    {
      "cell_type": "markdown",
      "metadata": {
        "id": "rS0gGMi99tGc"
      },
      "source": [
        "The found difference will be quantify as follows:"
      ]
    },
    {
      "cell_type": "code",
      "metadata": {
        "id": "PRKWiyeN1hhk",
        "colab": {
          "base_uri": "https://localhost:8080/",
          "height": 35
        },
        "outputId": "4d9172c2-2812-4eff-9896-3207e36a268c"
      },
      "source": [
        "trestbp_diff = male_disease['trestbps'].median() - female_disease['trestbps'].median()\n",
        "print ('The difference between the median in blood pressure for male and females with heart disease is {}'.format(trestbp_diff))"
      ],
      "execution_count": null,
      "outputs": [
        {
          "output_type": "stream",
          "text": [
            "The difference between the median in blood pressure for male and females with heart disease is -10.0\n"
          ],
          "name": "stdout"
        }
      ]
    },
    {
      "cell_type": "markdown",
      "metadata": {
        "id": "eoYceaK2dgTo"
      },
      "source": [
        "This results indicate that the median resting blood pressure for females is 10 points higher than for males"
      ]
    },
    {
      "cell_type": "code",
      "metadata": {
        "id": "ME7g3ZNdOBYQ",
        "colab": {
          "base_uri": "https://localhost:8080/",
          "height": 468
        },
        "outputId": "3968a598-605e-49e9-90eb-c7b9f833cfa8"
      },
      "source": [
        "plt.figure(figsize=(10,7))\n",
        "ax = sns.pointplot(x=\"gender_desc\", y=\"trestbps\", hue='disease', data=heart_data)\n",
        "plt.title('Resting Blood Pressure Values per Group', size=16)\n",
        "plt.ylabel('Resting Blood Pressure', size=16)\n",
        "plt.xlabel('Groups', size=16)\n",
        "plt.xticks(size=12)\n",
        "plt.yticks(size=12)\n",
        "#sns.despine()\n",
        "plt.show()"
      ],
      "execution_count": null,
      "outputs": [
        {
          "output_type": "display_data",
          "data": {
            "image/png": "[encoded data removed]",
            "text/plain": [
              "<Figure size 720x504 with 1 Axes>"
            ]
          },
          "metadata": {
            "tags": []
          }
        }
      ]
    },
    {
      "cell_type": "code",
      "metadata": {
        "id": "Kw1Zgf_OwFlP",
        "colab": {
          "base_uri": "https://localhost:8080/",
          "height": 35
        },
        "outputId": "0fdc0f2c-f8c5-47b3-f80d-d6acbb4a9a20"
      },
      "source": [
        "stats.kruskal(male_no_disease['trestbps'], female_no_disease['trestbps'])"
      ],
      "execution_count": null,
      "outputs": [
        {
          "output_type": "execute_result",
          "data": {
            "text/plain": [
              "KruskalResult(statistic=0.0068468293254406775, pvalue=0.9340538496076951)"
            ]
          },
          "metadata": {
            "tags": []
          },
          "execution_count": 241
        }
      ]
    },
    {
      "cell_type": "code",
      "metadata": {
        "id": "wKXLr-YFwFlk",
        "colab": {
          "base_uri": "https://localhost:8080/",
          "height": 35
        },
        "outputId": "921cad40-eb6b-4724-e690-6418bf6b03d7"
      },
      "source": [
        "stats.kruskal(male_disease['trestbps'], male_no_disease['trestbps'])"
      ],
      "execution_count": null,
      "outputs": [
        {
          "output_type": "execute_result",
          "data": {
            "text/plain": [
              "KruskalResult(statistic=0.7097693079181195, pvalue=0.399520406709713)"
            ]
          },
          "metadata": {
            "tags": []
          },
          "execution_count": 242
        }
      ]
    },
    {
      "cell_type": "code",
      "metadata": {
        "id": "gdoXVvKXwFlt",
        "colab": {
          "base_uri": "https://localhost:8080/",
          "height": 35
        },
        "outputId": "182440be-d8de-4622-9a65-827321801415"
      },
      "source": [
        "stats.ttest_ind(female_disease['trestbps'], female_no_disease['trestbps'])"
      ],
      "execution_count": null,
      "outputs": [
        {
          "output_type": "execute_result",
          "data": {
            "text/plain": [
              "Ttest_indResult(statistic=4.288722523497636, pvalue=4.3532950581106196e-05)"
            ]
          },
          "metadata": {
            "tags": []
          },
          "execution_count": 243
        }
      ]
    },
    {
      "cell_type": "markdown",
      "metadata": {
        "id": "bD6ix3T7EGbT"
      },
      "source": [
        "There is a significant difference between females with and without heart disease"
      ]
    },
    {
      "cell_type": "markdown",
      "metadata": {
        "id": "FRT_nUHXazHo"
      },
      "source": [
        "# Age"
      ]
    },
    {
      "cell_type": "code",
      "metadata": {
        "id": "xz8C8I2PuZVj",
        "colab": {
          "base_uri": "https://localhost:8080/",
          "height": 261
        },
        "outputId": "368834d0-9cdb-4cc5-994e-2fb4b3ed67d4"
      },
      "source": [
        "print(stats.describe(male_disease['age']))\n",
        "print(stats.shapiro(male_disease['age']))\n",
        "\n",
        "sns.set_style('whitegrid')\n",
        "plt.figure(figsize=(5,3))\n",
        "ax = sns.distplot(male_disease['age'], bins=10)\n",
        "plt.show()"
      ],
      "execution_count": null,
      "outputs": [
        {
          "output_type": "stream",
          "text": [
            "DescribeResult(nobs=112, minmax=(35, 77), mean=56.24107142857143, variance=69.86027992277991, skewness=-0.4169107481338149, kurtosis=-0.11965382647486145)\n",
            "(0.9758407473564148, 0.03978341817855835)\n"
          ],
          "name": "stdout"
        },
        {
          "output_type": "display_data",
          "data": {
            "image/png": "[encoded data removed]",
            "text/plain": [
              "<Figure size 360x216 with 1 Axes>"
            ]
          },
          "metadata": {
            "tags": []
          }
        }
      ]
    },
    {
      "cell_type": "markdown",
      "metadata": {
        "id": "9BTwXWLRejD9"
      },
      "source": [
        "Plot and test above show that the age variable in group of males with heart disease  has NOT normal distribution according to p_value < 0.05 for statistical test, while males without heart disease age distribution (below) has a normal distribution (p_value > 0.05 for Shapiro Wilks) "
      ]
    },
    {
      "cell_type": "code",
      "metadata": {
        "id": "1Uw74nkauZVo",
        "colab": {
          "base_uri": "https://localhost:8080/",
          "height": 261
        },
        "outputId": "75a0cb68-f80d-4311-894c-67ae9fd230cc"
      },
      "source": [
        "print(stats.describe(male_no_disease['age']))\n",
        "print(stats.shapiro(male_no_disease['age']))\n",
        "\n",
        "sns.set_style('whitegrid')\n",
        "plt.figure(figsize=(5,3))\n",
        "ax = sns.distplot(male_no_disease['age'], bins=10)\n",
        "plt.show()"
      ],
      "execution_count": null,
      "outputs": [
        {
          "output_type": "stream",
          "text": [
            "DescribeResult(nobs=89, minmax=(29, 70), mean=51.10112359550562, variance=74.41011235955055, skewness=0.05131905228809904, kurtosis=-0.4804601971570164)\n",
            "(0.9851824045181274, 0.40866944193840027)\n"
          ],
          "name": "stdout"
        },
        {
          "output_type": "display_data",
          "data": {
            "image/png": "[encoded data removed]",
            "text/plain": [
              "<Figure size 360x216 with 1 Axes>"
            ]
          },
          "metadata": {
            "tags": []
          }
        }
      ]
    },
    {
      "cell_type": "code",
      "metadata": {
        "id": "tffTRNifuZVs",
        "colab": {
          "base_uri": "https://localhost:8080/",
          "height": 261
        },
        "outputId": "ffd7a186-973a-4717-bc72-6db6a70bfa1b"
      },
      "source": [
        "print(stats.describe(female_disease['age']))\n",
        "print(stats.shapiro(female_disease['age']))\n",
        "\n",
        "sns.set_style('whitegrid')\n",
        "plt.figure(figsize=(5,3))\n",
        "ax = sns.distplot(female_disease['age'], bins=10)\n",
        "plt.show()"
      ],
      "execution_count": null,
      "outputs": [
        {
          "output_type": "stream",
          "text": [
            "DescribeResult(nobs=25, minmax=(43, 66), mean=59.08, variance=23.66, skewness=-1.4929458052584799, kurtosis=2.9324642184873637)\n",
            "(0.8768932819366455, 0.005966348107904196)\n"
          ],
          "name": "stdout"
        },
        {
          "output_type": "display_data",
          "data": {
            "image/png": "[encoded data removed]",
            "text/plain": [
              "<Figure size 360x216 with 1 Axes>"
            ]
          },
          "metadata": {
            "tags": []
          }
        }
      ]
    },
    {
      "cell_type": "markdown",
      "metadata": {
        "id": "DKpcnho9sBGl"
      },
      "source": [
        "Sample of females with heart disease have a not normal distribution, while age for healthy females has a normal distribution according to Shapiro Wilks statistical test"
      ]
    },
    {
      "cell_type": "code",
      "metadata": {
        "id": "YZeesYVxuZVz",
        "colab": {
          "base_uri": "https://localhost:8080/",
          "height": 265
        },
        "outputId": "1012b1de-2461-4e01-e371-898400cea94b"
      },
      "source": [
        "print(stats.describe(female_no_disease['age']))\n",
        "print(stats.shapiro(female_no_disease['age']))\n",
        "\n",
        "sns.set_style('whitegrid')\n",
        "plt.figure(figsize=(5,3))\n",
        "ax = sns.distplot(female_no_disease['age'])"
      ],
      "execution_count": null,
      "outputs": [
        {
          "output_type": "stream",
          "text": [
            "DescribeResult(nobs=71, minmax=(34, 76), mean=54.57746478873239, variance=106.84748490945674, skewness=0.005942657543967759, kurtosis=-0.910482497886083)\n",
            "(0.9785856008529663, 0.2656019628047943)\n"
          ],
          "name": "stdout"
        },
        {
          "output_type": "display_data",
          "data": {
            "image/png": "[encoded data removed]",
            "text/plain": [
              "<Figure size 360x216 with 1 Axes>"
            ]
          },
          "metadata": {
            "tags": []
          }
        }
      ]
    },
    {
      "cell_type": "code",
      "metadata": {
        "id": "gTxl-JiTR_OG",
        "colab": {
          "base_uri": "https://localhost:8080/",
          "height": 35
        },
        "outputId": "493d9fe7-a9ea-44f0-f1a7-428e57f772f2"
      },
      "source": [
        "stats.kruskal(male_disease['age'], female_disease['age'])"
      ],
      "execution_count": null,
      "outputs": [
        {
          "output_type": "execute_result",
          "data": {
            "text/plain": [
              "KruskalResult(statistic=2.9435563530064175, pvalue=0.08622070783019321)"
            ]
          },
          "metadata": {
            "tags": []
          },
          "execution_count": 248
        }
      ]
    },
    {
      "cell_type": "markdown",
      "metadata": {
        "id": "8GtcrnjEDOe0"
      },
      "source": [
        "Kruskal Wallis test was used to evaluate the significance of age in heart disease for male and female, since both groups showed not normal distribution. Results show that there is no significant difference in the age of both groups, therefore, given the data available, we fail to reject the null"
      ]
    },
    {
      "cell_type": "code",
      "metadata": {
        "id": "vy8FU3JgSB4-",
        "colab": {
          "base_uri": "https://localhost:8080/",
          "height": 468
        },
        "outputId": "5fab8164-2777-4db2-d947-b68feb5b520d"
      },
      "source": [
        "plt.figure(figsize=(10,7))\n",
        "ax = sns.pointplot(x=\"gender_desc\", y=\"age\", hue='disease', data=heart_data)\n",
        "plt.title('Age Values per Group', size=16)\n",
        "plt.ylabel('Age', size=16)\n",
        "plt.xlabel('Groups', size=16)\n",
        "plt.xticks(size=12)\n",
        "plt.yticks(size=12)\n",
        "#sns.despine()\n",
        "plt.show()"
      ],
      "execution_count": null,
      "outputs": [
        {
          "output_type": "display_data",
          "data": {
            "image/png": "[encoded data removed]",
            "text/plain": [
              "<Figure size 720x504 with 1 Axes>"
            ]
          },
          "metadata": {
            "tags": []
          }
        }
      ]
    },
    {
      "cell_type": "markdown",
      "metadata": {
        "id": "p5jjGX_Da02L"
      },
      "source": [
        "# Old Peak"
      ]
    },
    {
      "cell_type": "code",
      "metadata": {
        "id": "eFL1gVrBwN5Z",
        "colab": {
          "base_uri": "https://localhost:8080/",
          "height": 261
        },
        "outputId": "af5fd9ed-f68d-44f4-fb74-b4a03ba63af2"
      },
      "source": [
        "print(stats.describe(male_disease['oldpeak']))\n",
        "print(stats.shapiro(male_disease['oldpeak']))\n",
        "\n",
        "sns.set_style('whitegrid')\n",
        "plt.figure(figsize=(5,3))\n",
        "ax = sns.distplot(male_disease['oldpeak'], bins=10)\n",
        "plt.show()"
      ],
      "execution_count": null,
      "outputs": [
        {
          "output_type": "stream",
          "text": [
            "DescribeResult(nobs=112, minmax=(0.0, 5.6), mean=1.5491071428571428, variance=1.5124316280566281, skewness=0.5782301142660079, kurtosis=-0.12544765562600446)\n",
            "(0.9419331550598145, 0.0001033881344483234)\n"
          ],
          "name": "stdout"
        },
        {
          "output_type": "display_data",
          "data": {
            "image/png": "[encoded data removed]",
            "text/plain": [
              "<Figure size 360x216 with 1 Axes>"
            ]
          },
          "metadata": {
            "tags": []
          }
        }
      ]
    },
    {
      "cell_type": "code",
      "metadata": {
        "id": "9ykX5700wN5e",
        "colab": {
          "base_uri": "https://localhost:8080/",
          "height": 261
        },
        "outputId": "9c67bbc2-d7ec-4974-cc71-39e8cf10bd19"
      },
      "source": [
        "print(stats.describe(male_no_disease['oldpeak']))\n",
        "print(stats.shapiro(male_no_disease['oldpeak']))\n",
        "\n",
        "sns.set_style('whitegrid')\n",
        "plt.figure(figsize=(5,3))\n",
        "ax = sns.distplot(male_no_disease['oldpeak'], bins=10)\n",
        "plt.show()"
      ],
      "execution_count": null,
      "outputs": [
        {
          "output_type": "stream",
          "text": [
            "DescribeResult(nobs=89, minmax=(0.0, 4.2), mean=0.6280898876404494, variance=0.7824974463738509, skewness=1.6924091609074632, kurtosis=2.8632061594212077)\n",
            "(0.7497133016586304, 5.1767756747977955e-11)\n"
          ],
          "name": "stdout"
        },
        {
          "output_type": "display_data",
          "data": {
            "image/png": "[encoded data removed]",
            "text/plain": [
              "<Figure size 360x216 with 1 Axes>"
            ]
          },
          "metadata": {
            "tags": []
          }
        }
      ]
    },
    {
      "cell_type": "code",
      "metadata": {
        "id": "GyNturcAs8Jk",
        "colab": {
          "base_uri": "https://localhost:8080/",
          "height": 261
        },
        "outputId": "b186d4f4-4f3b-4762-8386-d30a1f62d65a"
      },
      "source": [
        "print(stats.describe(female_disease['oldpeak']))\n",
        "print(stats.shapiro(female_disease['oldpeak']))\n",
        "\n",
        "sns.set_style('whitegrid')\n",
        "plt.figure(figsize=(5,3))\n",
        "ax = sns.distplot(female_disease['oldpeak'], bins=10)\n",
        "plt.show()"
      ],
      "execution_count": null,
      "outputs": [
        {
          "output_type": "stream",
          "text": [
            "DescribeResult(nobs=25, minmax=(0.0, 6.2), mean=1.768, variance=2.6147666666666667, skewness=0.8505216137796744, kurtosis=0.32448609928957994)\n",
            "(0.905360221862793, 0.024046415463089943)\n"
          ],
          "name": "stdout"
        },
        {
          "output_type": "display_data",
          "data": {
            "image/png": "[encoded data removed]",
            "text/plain": [
              "<Figure size 360x216 with 1 Axes>"
            ]
          },
          "metadata": {
            "tags": []
          }
        }
      ]
    },
    {
      "cell_type": "code",
      "metadata": {
        "id": "HU86zc-Ms8Jx",
        "colab": {
          "base_uri": "https://localhost:8080/",
          "height": 261
        },
        "outputId": "3e37e994-b51c-491c-f15a-4db1124c0240"
      },
      "source": [
        "print(stats.describe(female_no_disease['oldpeak']))\n",
        "print(stats.shapiro(female_no_disease['oldpeak']))\n",
        "\n",
        "sns.set_style('whitegrid')\n",
        "plt.figure(figsize=(5,3))\n",
        "ax = sns.distplot(female_no_disease['oldpeak'])"
      ],
      "execution_count": null,
      "outputs": [
        {
          "output_type": "stream",
          "text": [
            "DescribeResult(nobs=71, minmax=(0.0, 2.6), mean=0.5619718309859155, variance=0.42124748490945674, skewness=0.9351619160716356, kurtosis=-0.06284657536281557)\n",
            "(0.8278738856315613, 1.2210060162942682e-07)\n"
          ],
          "name": "stdout"
        },
        {
          "output_type": "display_data",
          "data": {
            "image/png": "[encoded data removed]",
            "text/plain": [
              "<Figure size 360x216 with 1 Axes>"
            ]
          },
          "metadata": {
            "tags": []
          }
        }
      ]
    },
    {
      "cell_type": "markdown",
      "metadata": {
        "id": "6FyFMpTgw5Q1"
      },
      "source": [
        "All samples have a not normal distribution for old peak. Kruskal Wallis test indicates "
      ]
    },
    {
      "cell_type": "code",
      "metadata": {
        "id": "Qw5o1g87SJPh",
        "colab": {
          "base_uri": "https://localhost:8080/",
          "height": 35
        },
        "outputId": "04957309-9ab6-454e-ed4e-67eebae1dfe8"
      },
      "source": [
        "stats.kruskal(male_disease['oldpeak'], female_disease['oldpeak'])"
      ],
      "execution_count": null,
      "outputs": [
        {
          "output_type": "execute_result",
          "data": {
            "text/plain": [
              "KruskalResult(statistic=0.11461892336049258, pvalue=0.7349456156275564)"
            ]
          },
          "metadata": {
            "tags": []
          },
          "execution_count": 254
        }
      ]
    },
    {
      "cell_type": "code",
      "metadata": {
        "id": "B9X-laZqSHZf",
        "colab": {
          "base_uri": "https://localhost:8080/",
          "height": 468
        },
        "outputId": "4b036672-94e5-44de-d73a-9dc0cbbd3ea2"
      },
      "source": [
        "plt.figure(figsize=(10,7))\n",
        "ax = sns.pointplot(x=\"gender_desc\", y=\"oldpeak\", hue='disease', data=heart_data)\n",
        "plt.title('Old Peak Values per Group', size=16)\n",
        "plt.ylabel('Old Peak', size=16)\n",
        "plt.xlabel('Groups', size=16)\n",
        "plt.xticks(size=12)\n",
        "plt.yticks(size=12)\n",
        "#sns.despine()\n",
        "plt.show()"
      ],
      "execution_count": null,
      "outputs": [
        {
          "output_type": "display_data",
          "data": {
            "image/png": "[encoded data removed]",
            "text/plain": [
              "<Figure size 720x504 with 1 Axes>"
            ]
          },
          "metadata": {
            "tags": []
          }
        }
      ]
    },
    {
      "cell_type": "markdown",
      "metadata": {
        "id": "Ompno_kq5R-d"
      },
      "source": [
        "# Conclusion"
      ]
    },
    {
      "cell_type": "markdown",
      "metadata": {
        "id": "gi9Xf70z4OjV"
      },
      "source": [
        "Maximum heart rate (thalach), blood pressure (tretsbps), cholesterol (chol), age and old peak were the variables selected to evaluate if male patients with heart disease show the same warning symptoms than female patients.\n",
        "\n",
        "Results show that:\n",
        "\n",
        "1.   Cholesterol values have a significant difference between males and females with heart disease. With the available data with can say with 95% confidence that female patients have cholesterol levels between 4.77 and 54.68 mmHG higher than male patients on admission to the hospital.   \n",
        "2.   The resting blood pressure in mmHg (on admission to the hospital) also showed significant difference between the male and female groups with heart disease. The females showed a much higher blood pressure than males by 10 points.\n",
        "3.   Given the data available, age, maximum heart rate (thalach) and old peak variables do not have significance difference between male and females. \n",
        "4.  According to the experiment, certain symptoms of heart disease might be significantly difference between male and female (in this study 2 of those parameters were identified)\n",
        "\n",
        "\n"
      ]
    },
    {
      "cell_type": "markdown",
      "metadata": {
        "id": "ffZz61k_-Azc"
      },
      "source": [
        "# Recommendations"
      ]
    },
    {
      "cell_type": "markdown",
      "metadata": {
        "id": "7hn7A7KF-Gqn"
      },
      "source": [
        "1.   The sample seems to have some bias in age of the participants with a more ample range for males than females. It is recommended to colect additional data for more reliable results.\n",
        "2.   Additional variables could be tested for difference between male and female if more data is collected as a continuous variable instead of discrete variable, when possible (e.g: blood sugar levels (fbs) could have been collected as discrete variable, instead of as a discrete variable.\n",
        "3.   It would give addional tools for a better interpretation if other variables are incorporated in the database, like family history of heart disease and smoking history."
      ]
    }
  ]
}